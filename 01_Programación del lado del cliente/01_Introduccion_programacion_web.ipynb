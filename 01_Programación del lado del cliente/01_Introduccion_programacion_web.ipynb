{
 "cells": [
  {
   "cell_type": "markdown",
   "id": "38b2791b",
   "metadata": {},
   "source": [
    "# ¿Que es la Web?\n",
    "\n",
    "¿Alguna vez te has preguntado qué pensarían las futuras generaciones cuando piensen en la época en la que vivimos ahora?. Es probable que el siglo 21 detone algunas asociaciones con el advenimiento de Internet, y la World Wide Web. La creación de estas tecnologías significaron cambios mayores no solo en las estructuras militares y científicas, sino que tambien impactaron la vida de las personas ordinarias, dandono oportunidades que previamente ni siquiera imaginabamos.\n",
    "\n",
    "Muchas veces se escuchan frases como \"La World Wide Web ha engullido al mundo\", y entonces se piensa que la definición de la Web es naturalmente preasumida y dada por hecho. Pero realmente ¿qué es esta Web? y ¿cuál es su objetivo?\n",
    "\n",
    "La World Wide Web es una colección de recursos de información dispersados al rededor del mundo y ligados unos con otros por medio de referencias. Algunas veces este término es acortado usando WWW, W3 o simplemente Web.\n",
    "\n",
    "\n",
    "\n",
    "\n",
    "\n"
   ]
  },
  {
   "cell_type": "markdown",
   "id": "7b4d6172",
   "metadata": {},
   "source": [
    "Una unidad de datos de hipertexto sobre la W3 es llamada una página Web. Una página Web podría contener textop, archvos multimedia, gráficos y ligas a otras páginas.\n",
    "\n",
    "Un grupo de páginas web que comparten el contenido de un tema en común. diseño y ligas entre ellas se denomina un sitio Web (website). Se usan programas especiales - Navegadores-  para descargar y navegar en estos sitios web. Los navegadores más populares son: Firefox, Chrome, Opera, Safari.\n",
    "\n",
    "Comúnmente, cuando se visita un sitio web, se puede ver \"www\" en la barra de dirección en el navegador:\n",
    "\n",
    "![Barra WWW](../img/02_barraWWW.png \"Barra WWW\")\n",
    "\n",
    "Este prefijo indica que la dirección del sitio web pertenece a un espacio de internet de la World Wide Web y no es obligatorio.\n"
   ]
  },
  {
   "cell_type": "markdown",
   "id": "f15853e5",
   "metadata": {},
   "source": [
    "### La historia de la Web\n",
    "\n",
    "La World Wide Web fue creada en la  Organización Europea para la Energía Nuclear (CERN). El desarrollo de la red interna de computadoras fue llevado a cabo por [Tim Berners-Lee](https://es.wikipedia.org/wiki/Tim_Berners-Lee). En 1989, fue el primero en sugerir la idea de un sistema de información que usara ligas (links) para consolidar documentos al rededor de la red. Él y sus colegas crearon un proyecto prototipo y liberado para su presentación. En los primeros años de las páginas web éstas fueron meramente basadas en texto hasta que el primer navegador gráfico [NSCA](https://es.wikipedia.org/wiki/Mosaic) fue introducido en 1993. Este hecho permitió que la World Wide Web se transformara así misma de fines de investigación científica a un escaparate de medios.\n",
    "\n",
    "Inicialmente, la Internet únicamente permitía a los usuarios buscar y leer información. Este periodo de tiempo es referido como la Web 1.0 (1990-2000) para proveer una representación general del siempre cambiante entorno de internet.\n",
    "\n",
    "Pronto las personas pudieron interactuar con otros y compartir su contenido. Este periodo es extraoficialmente llamado Web 2.0 (2000-2010).\n",
    "\n",
    "El desarrollo de la World Wide Web continúa hasta el día de hoy y seremos capaces de ver qué cambios traerá la Web 3.0 (2010- ...). Actualmente, la Web 3.0 está enfocada en mejorar el análisis de contenido y proveer resultados  de búsquedas más eficientes y más relevantes usando inteligencia artificial."
   ]
  },
  {
   "cell_type": "markdown",
   "id": "b9429c53",
   "metadata": {},
   "source": [
    "### Internet vs WWW\n",
    "\n",
    "La mayoría de las personas usan el término \"Internet\" y \"WWW\" de forma indistinta e intercambiable, pero de hecho, estas son dos nociones separadas. La Internet es la red global de computadoras (una infraestructura técnica que conecta millones de computadoras al rededor del mundo), mientras que la W3 es usada para distribuir los datos que contienen las ligas o enlaces hacia otros datos, la Internet conecta computadoras unas con otras para proveer el acceso a la información.\n",
    "\n",
    "De forma simple, la World Wide Web es una forma de obtener información sobre Internet, aún cuando Internet es usada para obtener información que no es parte de la Web. Los documentos de hipertexto, es decir, páginas web son las unidades de WWW. Ellas pueden incluir diferentes tipos de contenido, y usalmente son agrupadas por el tema que comparten y a su vez contienen ligas a otros sitios web. Los programas específicos para visualizar y descargar sitios web son llamados navegadores porque permiten explorar la WWW."
   ]
  },
  {
   "cell_type": "markdown",
   "id": "9beebaa2",
   "metadata": {},
   "source": [
    "# Hiper Text Transfer Protocol\n",
    "\n",
    "### ¿Qué es HTTP?\n",
    "\n",
    "Cuando decides observar una foto de algún amigo en alguna red social o cuando dejas un mensaje, o cuando miras un video gracioso de gatitos, o cuando encuentras el significado de algún termino que desconoces usando un buscador de internet, el dispositivo (cliente) desde el que navegas internet envía una petición (request) a un servidor y recibe una respuesta (request) de él.\n",
    "\n",
    "Un cliente es el que consume un servicio, y un servidor es el la computadora que provee dicho servicio a clientes u otras computadoras. Puede estar ubicada remotamente, a cientos o miles de kilómetros lejos de nosotros. La tecnología en la cual la carga de la red esta distribuida entre el servidor y los clientes del servicio es llamada arquitectura Cliente-Servidor.\n",
    "\n",
    "![HTTP](../img/03_http-protocol.jpg \"HTTP\")\n",
    "\n",
    "El intercambio de datos entre el cliente y el servidor toma lugar debido a HTTP. HTTP significa HiperText Transfer Protocol. Un protocolo es un conjunto de reglas y convenciones que definen una manera uniforme de intercambiar datos entre diferentes programas incluyendo el manejo de errores. Es algo así como un mesero en un restaurante, el mesero acepta las peticiones (request), las lleva a la cocina (servidor) para que la procese, y regresa a el cliente con la comida (respuesta).\n",
    "\n",
    "### Breve historia de HTTP\n",
    "\n",
    "HTTP fué desaroollado por el científico y empleado del CERN [Tim Berners-Lee](https://es.wikipedia.org/wiki/Tim_Berners-Lee), quien creó la ideología de la World Wide Web.\n",
    "\n",
    "Trabajó de forma continua por dos años, y en Marzo de 1991, HTTP fué usado como una tecnología que ayudaba a acceder documentos sobre internety facilitaba la navegación de hipertexto. Ésta fue la versión 0.9 del protocolo. Fue diseñada para optimizar la comunicación entre el cliente y el servidor en la red de computadoras. Después de la aparición del estándar HTTP/0.9, apareció una separación de funciones entre el cliente y el servidor durante la interacción en la comunicación.\n",
    "\n",
    "Actualmente, la versión más reciente del Protocolo es HTTP/3.0, pero la versión más comunmente usada sigue siendo la versión HTTP/2.0 liberada en 2015. Antes de la versión 2.0, fué liberada la versión HTTP/1.1 en 1999 que fue usada por más de 16 años, el cuál permitió satisfacer a todos por las mejoras incorporadas ya que la transferencia de las peticiones al cliente fue acelerado grandemente.\n",
    "\n",
    "No todos los sitios han sido actualizados para usar HTTP/2 aún, pero los navegadores soportan ambos estándares, el nuevo y el viejo.\n",
    "\n",
    "### ¿Qué es HTTPS?\n",
    "\n",
    "A pesar de la gran funcionalidad y popularidad de HTTP, hay un gran incoveniente: los datos son transmitidos en una forma insegura. Esta imperfección puede ser crítica cuando se trata de realizar pagos en compras sobre internet o al enviar datos de pasaportes: ningún usuario desea que su información confidencial sea filtrada.\n",
    "\n",
    "Para hacer el espacio de internet más seguro, los programadores decidieron desarrollar un complemento (add-on) sobre HTTP, el cuál ayuda a evitar la intercepción de la información usando la encriptación. La extensión HTTP es llamada HTTPS que significa HiperText Transfer Protocol Secure.\n",
    "\n",
    "HTTPS provee una conexión segura entre el navegación del usuario y el servidor web. Con frecuencia, el navegador web muestra una dirección en color verde o bien un candado en la barra de dirección indicando una transferencia de datos encriptada. Se puede verificar que la transferencia es segura cuando la dirección comienza con \"https://\".\n",
    "\n",
    "![Barra WWW](../img/02_barraWWW.png \"Barra WWW\")\n",
    "\n",
    "\n",
    "Todos los navegadores web modernos soportan HTTPS. Los usuarios de Internet no necesitan hacer configuraciones especiales de esta extensión de forma separada: automáticamente es habilitada en caso de ser necesario. Actualmente, los navegadores más populares, tales como Chrome, Firefox, Safari y Edge identifican las conexiones sobre HTTP como inseguras."
   ]
  },
  {
   "cell_type": "markdown",
   "id": "0f8a26ca",
   "metadata": {},
   "source": [
    "# Desarrollo Web\n",
    "\n",
    "El desarrollo web es el proceso de crear aplicaciones Web o sitios web. Ona técnica usada para la creación de sitios web es separar la lógica en partes, la parte del lado del servidor y la parte del lado del cliente. Este proceso usualmente involucra desarrolladores con diferentes especializaciones. \n",
    "\n",
    "## Desarrollo Frontend y Backend\n",
    "\n",
    "Se acostumbra dividir el desarrollo web en dos partes: frontend y backend\n",
    "\n",
    "### Desarrollo Frontend\n",
    "\n",
    "También llamado programación de lado del cliente, es el desarrollo de las interfaces de usuario (en otras palabras, la parte visual del las aplicaciones web o sitios web) así como la escritura de la lógica de la interacción con los usuarios. Poniendolo en palabras simples, el desarrollo front end es responsable de todo lo que los usuarios ven cuando se abre una página web y de todo con lo que el usuario interactúa.\n",
    "\n",
    "### Desarrollo Backend\n",
    "\n",
    "También llamado programación del lado del servidor, es el desarrollo de el lado interno del servidor de la aplicación web, la implementación de su lógica. El desarrollo backend incluye las cosas que los usuarios no ven, y lo que sucede fuera del navegador y la computadora del usuario.\n",
    "\n",
    "\n",
    "![BackendFrontEnd](../img/04_backfrontend.jpg)\n"
   ]
  },
  {
   "cell_type": "markdown",
   "id": "7090d816",
   "metadata": {},
   "source": [
    "# Desarrolladores\n",
    "\n",
    "Usualmente, direrentes especialistas trabajan en el desarrollo frontend y el desarrollo backend: desarrolladores frontend y desarrolladores backend, respectivamente. Para comprender mejor la diferencia entre ellos, veamos un ejemplo de las tareas que estos desarrolladores realizan:\n",
    "\n",
    "* Desarrolladores Frontend: realizan las paginas web de acuerdo a una plantilla o bosquelo recibido de un diseñador. Ellos son los responsables para el correcto funcionamiento y despliegue de los sitios web em diferentes navegadores y diferentes dispositivos. Gracias a los desarrolladores frontend, existen elementos interactivos en las páginas web. \n",
    "\n",
    "* Desarrolladores Backend: escriben la lógica de negocio básica de una aplicación, procesan los datos de los usuarios, organizan el almacenamiento de la información en las bases de datos, implementan la seguridad de los datos y la protección, optimizan las aplicaciones para la máxima velocidad y escalabilidad.\n",
    "\n",
    "Ademas, hay personas quienes se involucran en todas las fases de el desarrollo de las páginas web: desde la creación de la parte del cliente hasta la implementación de la parte del servidor. Tales programadores son llamados desarrolladores full-stack (un tipo de desarrolladores universales que trabajan en el desarrollo de la parte del servidor y la del cliente).\n",
    "\n",
    "### Separación de la parte del cliente y la parte del servidor\n",
    "\n",
    "El lado del cliente (client-side) y el lado del servidor (server-side) son términos del desarrollo web que nos indican en dónde es ejecutado el código de la aplicación. Pero ¿por qué se separan las partes del cliente y el servidor?, ¿Por qué se requiere la representación de la interfaz de usuario y la lógica del servidor separada una de otra? Hay diferentes razones para realzar esto:\n",
    "\n",
    "* Es posible que de forma independiente reemplazar el frontend y la lógica backend, minimizando el número de errores. Por ejemplo, es posible cambiar cómo luce el sitio web sin modificar los procesos comunes.\n",
    "* Es necesario un servidor para almacenar la estructura y los datos.}\n",
    "* Los datos en el lado del cliente pueden estar o llegar a estar desactualizados, pero los datos en el servidor siempre deben estar actualizados.\n",
    "* Es más fácil manejar flujos de datos y orquestar procesos sobre unos cuantos servidores en lugar de realizarlo en millones de clientes.\n",
    "* Algunas tareas no necesitan una actualización desde el servidor, por lo que es más rápido y eficiente realizarlo del lado del cliente, es decir, localmente.\n",
    "\n",
    "### ¿Cómo se comunica el backend y el frontend?\n",
    "\n",
    "Para que un servicio web trabaje correctamente, las partes cliente y el servidor deben interactuar. Esto se realiza a través de peticiones HTTP. En sus formas más básicas, la interacción entre el backend y el frontend sucede de la siguiente manera:\n",
    "\n",
    "1. El cliente envía una peticiónn a el servidor para recuperar o modificar datos usando el protocolo HTTP.\n",
    "2. El backend procesa esta petición y regresa una respuesta via HTTP.\n",
    "3. El frontend recive la respuesta y la procesa, entonces despliega el resultado para ese usuario.\n",
    "\n",
    "El formato más popular para intercambiar datos entre el cliente y el servidor es JSON, pero existen otros formatos. Los lenguajes de marcado (Markup) ayudan a desplegar la respuesta del servidor de una manera sencilla y amigable. Los lenguajes de marcado más comunes son HTML y XML."
   ]
  }
 ],
 "metadata": {
  "kernelspec": {
   "display_name": "Python 3 (ipykernel)",
   "language": "python",
   "name": "python3"
  },
  "language_info": {
   "codemirror_mode": {
    "name": "ipython",
    "version": 3
   },
   "file_extension": ".py",
   "mimetype": "text/x-python",
   "name": "python",
   "nbconvert_exporter": "python",
   "pygments_lexer": "ipython3",
   "version": "3.9.7"
  }
 },
 "nbformat": 4,
 "nbformat_minor": 5
}
