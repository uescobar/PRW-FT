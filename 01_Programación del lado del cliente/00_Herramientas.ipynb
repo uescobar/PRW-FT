{
 "cells": [
  {
   "cell_type": "markdown",
   "id": "f2213083",
   "metadata": {},
   "source": [
    "# Generador de Texto Lorem Ipsum\n",
    "\n",
    "\n",
    "En multiples ocasiones, resulta conveniente tener a la mano herramientas que permitan generar texto siguiendo algunos parámetros acordes al bosquejo que deseamos implementar, y aunque podemos encontrar herramientas en internet para la generación de textos, es conveniente tener a la mano algunas otras herramientas que permitan hacerlo localmente.\n",
    "\n",
    "Tal es el caso del texto Lorem Ipsum que datadesde hace 5 siglos (https://www.lipsum.com/)\n",
    "\n",
    "\n",
    "https://github.com/dogukancagatay/lorem_ipsum\n",
    "\n",
    "\n",
    "Ejemplos de uso:\n",
    "\n",
    "$ cd lorem_ipsum/\n",
    "$ ./lorem_ipsum.sh -p 3          # Generates 3 paragraphs\n",
    "$ ./lorem_ipsum.sh -w 30         # Generates 30 words\n",
    "$ ./lorem_ipsum.sh -b 60         # Generates 60 bytes\n",
    "$ ./lorem_ipsum.sh -p 4 -n no    # Generates 4 paragraphs of Lorem Ipsum that doesn't start with the words \"Lorem ipsum ...\"\n",
    "\n",
    "\n"
   ]
  }
 ],
 "metadata": {
  "kernelspec": {
   "display_name": "JavaScript (Node.js)",
   "language": "javascript",
   "name": "javascript"
  },
  "language_info": {
   "file_extension": ".js",
   "mimetype": "application/javascript",
   "name": "javascript",
   "version": "8.10.0"
  }
 },
 "nbformat": 4,
 "nbformat_minor": 5
}
