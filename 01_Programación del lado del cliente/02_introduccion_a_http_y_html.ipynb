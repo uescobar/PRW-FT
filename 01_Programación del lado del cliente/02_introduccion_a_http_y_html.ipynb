{
 "cells": [
  {
   "cell_type": "markdown",
   "metadata": {},
   "source": [
    "[![imagenes](../imagenes/pythonista.png)](https://pythonista.io)"
   ]
  },
  {
   "cell_type": "markdown",
   "metadata": {},
   "source": [
    "# Introducción a *HTTP* y *HTML*.\n",
    "\n",
    "Es común referirse a *'Internet'*  y a la *'World Wide Web'*, o *'web'* como sinónimos aún cuando en realidad son conceptos distintos."
   ]
  },
  {
   "cell_type": "markdown",
   "metadata": {},
   "source": [
    "## Internet.\n",
    "\n",
    "Internet es toda una red de infraestructura de comunicaciones que soporta la familia de Protocolos [*TCP/IP*](https://es.wikipedia.org/wiki/Modelo_TCP/IP). Uno de los protocolos que soporta es [*HTTP*](https://es.wikipedia.org/wiki/Protocolo_de_transferencia_de_hipertexto)."
   ]
  },
  {
   "cell_type": "markdown",
   "metadata": {},
   "source": [
    "## El protocolo *HTTP* y la *World Wide Web* (*WWW*).\n",
    "\n",
    "### *HTTP*.\n",
    "\n",
    "Creado por [Tim Berners-Lee](https://es.wikipedia.org/wiki/Tim_Berners-Lee) en 1989, es el protocolo utilizado para acceder y publicar en la *web* y corresponde a las siglas en inglés de \"*Protocolo de Transmisión de Hipertexto*\".\n",
    "\n",
    "Actualmente el [World Wide Web Consortium (*W3C*)] (https://www.w3.org) es la entidad encargada, entre otras cosas, de publicar la especificación del protocolo *HTTP*. La versión más reciente es *HTTP/2*, pero la mayoría de los servidores utilizan la versión *HTTP/1.1*.\n",
    "\n",
    "En la siguiente liga pueden consultarse las diversas publicaciones de la *W3C*: https://www.w3.org/Protocols/http\n",
    "\n",
    "*HTTP* está basado en  una arquitectura cliente-servidor en la que se intercambian peticiones (requests) por parte del cliente y respuestas (responses) por parte del servidor."
   ]
  },
  {
   "cell_type": "markdown",
   "metadata": {},
   "source": [
    "### *Uniform Resource Locator* (*URL*).\n",
    "\n",
    "El protocolo *HTTP* permite localizar los diversos recursos disponibles en la web mediante los *Localizadores Uniformes de Recursos* o *URL* por sus siglas en inglés. La estructura de una *URL* es la siguiente:\n",
    "\n",
    "```\n",
    "http://<subdominio>.<dominio>:<puerto>/<ruta>?<parámetro 1>&<parámetro 2>&...&<parámetro n>\n",
    "```\n",
    "La sintaxis de los parámetros es:\n",
    "\n",
    "```\n",
    "<nombre>=<valor>\n",
    "```\n",
    "*HTTP* utiliza por defecto el puerto ```80```.\n",
    "\n",
    "El protocolo *HTTPS* es una variación del *HTTP* que permite cifrar las comunicaciones entre el cliente y el servidor mediante el uso de certificados [*SSL/TLS*](https://es.wikipedia.org/wiki/Transport_Layer_Security). \n",
    "\n",
    "```\n",
    "https://<subdominio>.<dominio>:<puerto>/<ruta>?<parámetro1>&<parámetro2>&...&<<parametro n>\n",
    "```\n",
    "\n",
    "*HTTPS* utiliza el puerto ```443```  por defecto."
   ]
  },
  {
   "cell_type": "markdown",
   "metadata": {},
   "source": [
    "**Ejemplos:**"
   ]
  },
  {
   "cell_type": "markdown",
   "metadata": {},
   "source": [
    "* La *URL* [```https://amazon.com.mx/s?k=python```](https://amazon.com.mx/s?k=python) le indica los siguiente al navegador:\n",
    "    * Realizar una conexión *HTTPS*. \n",
    "    * El puerto por defecto es ```443```.\n",
    "    * El servidor se encuentra en el dominio ```amazon.com.mx```.\n",
    "    * Se accederá al recurso localizado en la ruta ```/s```, el cual permite realizar búsquedas mediante ciertos parámetros.\n",
    "    * El parámetro ```k=python``` le indica al servidor que busque los artículos que coincidan con el término ```python```. "
   ]
  },
  {
   "cell_type": "markdown",
   "metadata": {},
   "source": [
    "  * La *URL* [```https://www.google.com/search?&q=pythonista&lang=es&country=mexico```](https://www.google.com/search?&q=pythonista&lang=es&country=mexico) le indica los siguiente al navegador:\n",
    "    * Realizar una conexión *HTTPS*.\n",
    "    * El puerto por defecto es ```443```.\n",
    "    * El servidor se encuentra en el dominio ```google.com```.\n",
    "    * Se accederá al servicio disponible en el subdominio ```www```, el cual corresponde al buscador de *Google*.\n",
    "    * Se accederá al recurso localizado en la ruta ```/search```, el cual permite realizar búsquedas mediante ciertos parámetros.\n",
    "    * El parámetro ```q=pythonista``` le indica al servidor que busque el término ```pythonista```.\n",
    "    * El parámetro ```lang=es``` le indica al servidor que la búsqueda le dará prioridad a los sitios en español (```es```). \n",
    "    * El parámetro ```country=mexico``` le indica al servidor la búsqueda le dará proridad a los sitios de México (```mexico```). "
   ]
  },
  {
   "cell_type": "markdown",
   "metadata": {},
   "source": [
    "**Nota:** La siguiente *URL* funcionará sólo si esta notebook se ejecuta desde alguna de las máquinas virtuales proporcionadas por Pythonista<sup>®</sup> o por Cloudevel<sup>®</sup>.\n",
    "\n",
    "* La *URL* [```http://localhost:8999/edit/pycd101/README.md```](http://localhost:8888/edit/pycd101/README.md) le indica los siguiente al navegador:\n",
    "    * Realizar una conexión *HTTP*.\n",
    "    * El servidor se encuentra en ```localhost```, indicando que se trata del equipo local.\n",
    "    * Se accederá al servicio transmitiendo desde el puerto ```8999```.\n",
    "    * Se accederá al recurso en la ruta ```/edit/pycd101/README.md```."
   ]
  },
  {
   "cell_type": "markdown",
   "metadata": {},
   "source": [
    "### Peticiones, respuestas y sesiones.\n",
    "\n",
    "Las comunicaciones entre el cliente y el servidor consisten en un serie de intercambios de datos.\n",
    "\n",
    "*  Un cliente por lo general envía una petición (request) a un servidor que se encuentra atendiendo a una dirección específica. La petición incluye generalmente los datos del cliente, asi como la información necesaria para que el servidor pueda procesar correctamente el requerimiento.\n",
    "* El servidor recibe la petición y procesa los datos. Dependiendo de la petición, el servidor puede enviar cualquier tipo de recurso, así como mensajes de estado.\n",
    "* A este intercambio de peticiones y respuestas entre un cliente y un servidor se conocen como sesiones."
   ]
  },
  {
   "cell_type": "markdown",
   "metadata": {},
   "source": [
    "### Mensajes de estado.\n",
    "Los mensajes de estado permiten informar al cliente sobre la manera en la que ha sido procesada la petición. Está conformado por un número entero de 3 dígitos. En caso de que la petición haya sido procesada exitosamente, el servidor regresa el número ```200```.\n",
    "\n",
    "##### Tipos por el número inicial:\n",
    "* ```1xx``` Información.\n",
    "* ```2xx``` Éxito.\n",
    "* ```3xx``` Redireccionamiento.\n",
    "* ```4xx``` Error del cliente.\n",
    "* ```5xx``` Error del servidor.\n",
    "\n",
    "Los mensajes de estado de *HTTP* pueden ser consultados en la siguiente liga: http://www.restapitutorial.com/httpstatuscodes.html"
   ]
  },
  {
   "cell_type": "markdown",
   "metadata": {},
   "source": [
    "### Métodos *HTTP*.\n",
    "\n",
    "El protocolo *HTTP* define métodos o \"verbos\", los cuales permiten realizar peticiones específicas entre un cliente y un servidor. Algunos de los métodos más utilizados son:\n",
    "\n",
    "* ```GET``` se utiliza para obtener los datos de un recurso a partir de una *URL*. La información enviada mediante ```GET``` puede ser añadida a marcadores y puede ser registrada en las bitácoras del servidor.\n",
    "* ```POST``` se utiliza para cear un recurso. Los datos enviados no son expuestos en la *URL* sino que son enviados dentro de la estructura de la petición. \n",
    "* ```HEAD``` es similar al método ```GET```, pero sólo proporciona el encabezado de la petición y el mensaje de estado resultante.\n",
    "* ```PUT``` se utiliza para sustituir un recurso existente y su estructura es similar a la de ```POST```.\n",
    "* ```PATCH``` es un método que se utiliza para modificar parcialmente un recurso.\n",
    "* ```DELETE``` es un método que se utiliza para eliminar un recurso. \n",
    "\n",
    "Existen algunos otros métodos como ```OPTIONS```, ```TRACE``` y ```CONNECT```, pero no están contemplados en el alcance de este taller. Puede consultar más al respecto puede acceder a https://developer.mozilla.org/es/docs/Web/HTTP/Methods.\n"
   ]
  },
  {
   "cell_type": "markdown",
   "metadata": {},
   "source": [
    "**NOTA:** \n",
    "Al ingresar una URL en un navegador, dicho navegador utilizará el método ```GET```\n",
    ". \n",
    "Más adelante se estudiará el uso de formularios en un documento *HTML* y se discutirá el uso de los métodos ```GET``` y ```POST```."
   ]
  },
  {
   "cell_type": "markdown",
   "metadata": {},
   "source": [
    "## *HTML*.\n",
    "\n",
    "Aún cuando el protocolo *HTTP* puede transmitir y gestionar cualquier tipo de recurso (flujos de datos, imágenes, archivos, textos, etc.), lo más común son las llamadas \"páginas web\", las cuales son documentos escritos en *HTML*.\n",
    "\n",
    "*HTML* es el acrónimo de \"*Lenguaje de Marcadores de Hipertexto*\" por sus siglas en inglés. \n",
    "\n",
    "*HTML* es un lenguaje declarativo, el cual se urtiliza para describir lo que un cliente puede desplegar, pero no le indica exactamente cómo hacerlo. Es decir, indica lo que conteniene un documento, pero es el cliente el que define cómo desplegarlo.\n",
    "\n",
    "###  Evolución de *HTML*.\n",
    "\n",
    "*HTML* es un estándar de la W3C que a lo largo del tiempo ha evolucionado. En un principio *HTML* se basó en el estándar [*SGML*](https://es.wikipedia.org/wiki/SGML), pero a partir de *HTML5*, es una especificación autónoma.\n",
    "\n",
    "El objetivo de Tim Berners Lee al diseñar *HTML* era el de poder crear documentos que pudieran combinar texto, imágenes y *enlazar* a otros recursos en la web mediante \"hipervínculos\". Sin embargo, conforme la web fue creciendo, la necesidad de crear contenidos ricos en medios como sonido, video, gráficos, animaciones, flujos de datos, etc. hizo evolucionar a la especificación.\n",
    "\n",
    "*HTML5* es la versión más reciente del estándar que ha publicacido la W3C y junto con las [hojas de estilo en cascada](https://es.wikipedia.org/wiki/Hoja_de_estilos_en_cascada) (*CSS*) y [Javascript](https://es.wikipedia.org/wiki/JavaScript) conforman la inmensa mayoría del contenido web."
   ]
  },
  {
   "cell_type": "markdown",
   "metadata": {},
   "source": [
    "<p style=\"text-align: center\"><a rel=\"license\" href=\"http://creativecommons.org/licenses/by/4.0/\"><img alt=\"Licencia Creative Commons\" style=\"border-width:0\" src=\"https://i.creativecommons.org/l/by/4.0/80x15.png\" /></a><br />Esta obra está bajo una <a rel=\"license\" href=\"http://creativecommons.org/licenses/by/4.0/\">Licencia Creative Commons Atribución 4.0 Internacional</a>.</p>\n",
    "<p style=\"text-align: center\">&copy; José Luis Chiquete Valdivieso. 2019.</p>"
   ]
  }
 ],
 "metadata": {
  "kernelspec": {
   "display_name": "Python 3 (ipykernel)",
   "language": "python",
   "name": "python3"
  },
  "language_info": {
   "codemirror_mode": {
    "name": "ipython",
    "version": 3
   },
   "file_extension": ".py",
   "mimetype": "text/x-python",
   "name": "python",
   "nbconvert_exporter": "python",
   "pygments_lexer": "ipython3",
   "version": "3.9.7"
  }
 },
 "nbformat": 4,
 "nbformat_minor": 2
}
