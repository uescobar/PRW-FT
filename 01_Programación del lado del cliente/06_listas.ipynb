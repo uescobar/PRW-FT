{
 "cells": [
  {
   "cell_type": "markdown",
   "metadata": {},
   "source": [
    "[![imagenes/pythonista.png](../imagenes/pythonista.png)](https://pythonista.io)"
   ]
  },
  {
   "cell_type": "markdown",
   "metadata": {},
   "source": [
    "# Listas."
   ]
  },
  {
   "cell_type": "markdown",
   "metadata": {},
   "source": [
    "\n",
    "## El elemento ```<li>```.\n",
    "Los documentos *HTML* permiten crear sucesiones de elementos en forma de listas. Cada uno de los elementos de una lista es de tipo ```<li>```.\n",
    "\n",
    "A partir de este conjunto de elementos es posible crear dos tipos de listas que contienen a estos elementos.\n",
    "\n",
    "Los elementos ```<li>``` son elementos de bloque similares a los elementos ```<p>```."
   ]
  },
  {
   "cell_type": "markdown",
   "metadata": {},
   "source": [
    "## Listas sin enumeración con ```<ul>```.\n",
    "\n",
    " El elemento ```<ul>``` permite crear listas con \"balazos\" o \"bullets\", los cuales se colocan antes del contenido de los elementos encerrados entre etiquetas ```<li>```."
   ]
  },
  {
   "cell_type": "markdown",
   "metadata": {},
   "source": [
    "**Ejemplo:**\n",
    "Se creará una lista con 3 elementos."
   ]
  },
  {
   "cell_type": "markdown",
   "metadata": {},
   "source": [
    "*El código:*\n",
    "\n",
    "``` html\n",
    "<ul>\n",
    "    <li>Pan.</li>\n",
    "    <li>Leche.</li>\n",
    "    <li>Huevos.</li>\n",
    "</ul>\n",
    "```"
   ]
  },
  {
   "cell_type": "markdown",
   "metadata": {},
   "source": [
    "*El resultado:*\n",
    "\n",
    "<ul>\n",
    "    <li>Pan.</li>\n",
    "    <li>Leche.</li>\n",
    "    <li>Huevos.</li>\n",
    "</ul>"
   ]
  },
  {
   "cell_type": "markdown",
   "metadata": {},
   "source": [
    "### Selección del tipo de \"balazo\".\n",
    "\n",
    "Los elementos ```<ul>``` cuentan con el atributo ```type```, el cual permite seleccionar las siguientes opciones.\n",
    "\n",
    "* ```\"circle\"```.\n",
    "* ```\"square\"```.\n",
    "* ```\"disc\"```.\n",
    "\n",
    "El estilo por defecto es ```\"disc\"```."
   ]
  },
  {
   "cell_type": "markdown",
   "metadata": {},
   "source": [
    "## Listas con enumeración ```<ol>```.\n",
    "\n",
    " El elemento ```<ol>``` permite crear listas que enumeran de forma sucesiva los elementos tipo ```<li>```.\n",
    " La enumeración por defecto muestra números enteros a partir del 1 que se van incrementando de uno en uno."
   ]
  },
  {
   "cell_type": "markdown",
   "metadata": {},
   "source": [
    "**Ejemplo:**"
   ]
  },
  {
   "cell_type": "markdown",
   "metadata": {
    "collapsed": true
   },
   "source": [
    "Se creará una lista que enumere 3 elementos *&lt;li&gt;*."
   ]
  },
  {
   "cell_type": "markdown",
   "metadata": {},
   "source": [
    "*El código:*\n",
    "\n",
    "``` html\n",
    "<ol>\n",
    "    <li>Pan.</li>\n",
    "    <li>Leche.</li>\n",
    "    <li>Huevos.</li>\n",
    "</ol>\n",
    "```"
   ]
  },
  {
   "cell_type": "markdown",
   "metadata": {},
   "source": [
    "*El resultado:*\n",
    "\n",
    "<ol>\n",
    "    <li>Pan.</li>\n",
    "    <li>Leche.</li>\n",
    "    <li>Huevos.</li>\n",
    "</ol>"
   ]
  },
  {
   "cell_type": "markdown",
   "metadata": {},
   "source": [
    "### Tipo de enumeración con el atributo ```type```.\n",
    "\n",
    "El atributo ```type``` puede definir de la siguiente forma:\n",
    "\n",
    "* ```\"1\"``` enumera con números (se usa por defecto).\n",
    "* ```\"A\"``` enumera con letras del alfabeto en mayúsculas.\n",
    "* ```\"a\"``` enumera con letras del alfabeto en minúsculas.\n",
    "* ```\"I\"``` enumera con numerales romanos en mayúsculas.\n",
    "* ```\"i\"``` enumera con numerales romanos en minúsculas."
   ]
  },
  {
   "cell_type": "markdown",
   "metadata": {},
   "source": [
    "## Listas anidadas.\n",
    "\n",
    "Los documentos *HTML* permiten usar elementos de lista dentro de otros elmentos de lista."
   ]
  },
  {
   "cell_type": "markdown",
   "metadata": {},
   "source": [
    "**Ejemplo:**\n",
    "\n",
    "*El código:*\n",
    "\n",
    "```html\n",
    "<ol type=\"i\">\n",
    "    <li>leche</li>\n",
    "    <li>pan</li>\n",
    "    <ul>\n",
    "        <li>blanco</li>\n",
    "        <li>centeno</li>\n",
    "        <li>integral</li>\n",
    "    </ul>\n",
    "    <li>huevos</li>\n",
    "</ol>\n",
    "```\n",
    "\n",
    "*El resultado:*\n",
    "\n",
    "<ol>\n",
    "    <li>leche</li>\n",
    "    <li>pan</li>\n",
    "    <ul>\n",
    "        <li>blanco</li>\n",
    "        <li>centeno</li>\n",
    "        <li>integral</li>\n",
    "    </ul>\n",
    "    <li>huevos</li>\n",
    "</ol>"
   ]
  },
  {
   "cell_type": "markdown",
   "metadata": {},
   "source": [
    "## Documento *HTML*  ilustrativo."
   ]
  },
  {
   "cell_type": "markdown",
   "metadata": {},
   "source": [
    "El archivo [```ejemplos/listas.html```](ejemplos/listas.html) contiene el siguiente código, el cual ilustra el uso de los elementos ```<ol>``` y ```<ul>```:\n",
    "\n",
    "``` html\n",
    "<!DOCTYPE html>\n",
    " <html>\n",
    "     <head>\n",
    "         <title>Listas &lt;ol&gt; y &lt;ul&gt;</title>\n",
    "         <meta charset=\"UTF-8\">\n",
    "         <meta name=\"description\" content=\"Apuntes Pythonista\">\n",
    "         <meta autor=\"josech\">\n",
    "     </head>\n",
    "     <body>\n",
    "         <h1>Ejemplos de listas <em>&lt;ol&gt;</em> y <em>&lt;ul&gt;</em>.</h1>\n",
    "         <p>Se realizará un listado con 3 elementos <em>&lt;li&gt;</em>.</p>\n",
    "         <h2>Listas sin enumerar con el elemento <em>&lt;ul&gt;</em>.</h2>\n",
    "         <h3>Esta es una lista <em>&lt;ul&gt;</em> sin atributos.</h3>\n",
    "         <ul>\n",
    "             <li>Pan</li>\n",
    "             <li>Leche</li>\n",
    "             <li>Huevos</li>\n",
    "         </ul>\n",
    "         <h3>Esta es una lista <em>&lt;ul&gt;</em> con el atributo <em>type=\"circle\"</em>.</h3>\n",
    "         <ul type=\"circle\">\n",
    "             <li>Pan</li>\n",
    "             <li>Leche</li>\n",
    "             <li>Huevos</li>\n",
    "         </ul>\n",
    "         <h3>Esta es una lista <em>&lt;ul&gt;</em> con el atributo <em>type=\"square\"</em>.</h3>\n",
    "         <ul type=\"square\">\n",
    "             <li>Pan</li>\n",
    "             <li>Leche</li>\n",
    "             <li>Huevos</li>\n",
    "         </ul>\n",
    "         <h3>Esta es una lista <em>&lt;ul&gt;</em> con el atributo <em>type=\"disc\"</em>.</h3>\n",
    "         <ul type=\"disc\">\n",
    "             <li>Pan</li>\n",
    "             <li>Leche</li>\n",
    "             <li>Huevos</li>\n",
    "         </ul>\n",
    "         <h2>Listas <em>&lt;ol&gt;</em> con el elemento <em>&lt;ol&gt;</em>.</h2>\n",
    "         <h3>Esta es una lista <em>&lt;ol&gt;</em> sin atributos.</h3>\n",
    "         <ol>\n",
    "             <li>Pan</li>\n",
    "             <li>Leche</li>\n",
    "             <li>Huevos</li>\n",
    "         </ol>\n",
    "         <h3>Esta es una lista <em>&lt;ol&gt;</em> con el atributo <em>type=\"A\"</em>.</h3>\n",
    "         <ol type=\"A\">\n",
    "             <li>Pan</li>\n",
    "             <li>Leche</li>\n",
    "             <li>Huevos</li>\n",
    "         </ol>\n",
    "         <h3>Esta es una lista <em>&lt;ol&gt;</em> con el atributo <em>type=\"a\"</em>.</h3>\n",
    "         <ol type=\"a\">\n",
    "             <li>Pan</li>\n",
    "             <li>Leche</li>\n",
    "             <li>Huevos</li>\n",
    "         </ol>\n",
    "         <h3>Esta es una lista <em>&lt;ol&gt;</em> con el atributo <em>type=\"I\"</em>.</h3>\n",
    "         <ol type=\"I\">\n",
    "             <li>Pan</li>\n",
    "             <li>Leche</li>\n",
    "             <li>Huevos</li>\n",
    "         </ol>\n",
    "          <h3>Esta es una lista <em>&lt;ol&gt;</em> con el atributo <em>type=\"i\"</em>.</h3>\n",
    "         <ol type=\"i\">\n",
    "             <li>Pan</li>\n",
    "             <li>Leche</li>\n",
    "             <li>Huevos</li>\n",
    "         </ol>\n",
    "     </body>\n",
    "</html>\n",
    "```"
   ]
  },
  {
   "cell_type": "markdown",
   "metadata": {},
   "source": [
    "## Listas de descripciones con ```<dl>```.\n",
    "\n",
    "Las listas de descripción son una sucesión de elementos ```<dt>``` y ```<dd>```, dentro de un elemento ```<dl>```."
   ]
  },
  {
   "cell_type": "markdown",
   "metadata": {},
   "source": [
    "**Ejemplo:**"
   ]
  },
  {
   "cell_type": "markdown",
   "metadata": {},
   "source": [
    "A continuación se realizará una lista de términos, incluyendo sinónimos así como sus respectivas descripciones."
   ]
  },
  {
   "cell_type": "markdown",
   "metadata": {},
   "source": [
    "*El código:*\n",
    "\n",
    "```html\n",
    "<dl>\n",
    "<dt><dfn>icono</dfn></dt>\n",
    " <dt><dfn>ícono</dfn></dt>\n",
    " <dd>Imagen sagrada.<dd>\n",
    " <dd>Retrato pintado sobre una tabla de madera.</dd>\n",
    " <dd>Pequeña imagen que se despliega en una pantalla.</dd>\n",
    " <dt><dfn>botón</dfn></dt>\n",
    " <dd>Dispositivo que al ser oprimido desencadena una acción.</dd>\n",
    " <dt><dfn>puntero</dfn></dt>\n",
    " <dt><dfn>apuntador</dfn></dt>\n",
    " <dd>Imagen que se despliega en una pantalla y que se mueve en respuesta a la acción análoga de un dispositivo.</dd>    \n",
    "</dl>\n",
    "```"
   ]
  },
  {
   "cell_type": "markdown",
   "metadata": {},
   "source": [
    "*El resultado:*\n",
    "\n",
    "<dl>\n",
    "<dt><dfn>icono</dfn></dt>\n",
    " <dt><dfn>ícono</dfn></dt>\n",
    " <dd>Imagen sagrada.<dd>\n",
    " <dd>Retrato pintado sobre una tabla de madera.</dd>\n",
    " <dd>Pequeña imagen que se despliega en una pantalla.</dd>\n",
    " <dt><dfn>botón</dfn></dt>\n",
    " <dd>Dispositivo que al ser oprimido desencadena una acción.</dd>\n",
    " <dt><dfn>puntero</dfn></dt>\n",
    " <dt><dfn>apuntador</dfn></dt>\n",
    " <dd>Imagen que se despliega en una pantalla y que se mueve en respuesta a la acción análoga de un dispositivo.</dd>    \n",
    "</dl>"
   ]
  },
  {
   "cell_type": "markdown",
   "metadata": {},
   "source": [
    "<p style=\"text-align: center\"><a rel=\"license\" href=\"http://creativecommons.org/licenses/by/4.0/\"><img alt=\"Licencia Creative Commons\" style=\"border-width:0\" src=\"https://i.creativecommons.org/l/by/4.0/80x15.png\" /></a><br />Esta obra está bajo una <a rel=\"license\" href=\"http://creativecommons.org/licenses/by/4.0/\">Licencia Creative Commons Atribución 4.0 Internacional</a>.</p>\n",
    "<p style=\"text-align: center\">&copy; José Luis Chiquete Valdivieso. 2019.</p>"
   ]
  }
 ],
 "metadata": {
  "kernelspec": {
   "display_name": "Python 3 (ipykernel)",
   "language": "python",
   "name": "python3"
  },
  "language_info": {
   "codemirror_mode": {
    "name": "ipython",
    "version": 3
   },
   "file_extension": ".py",
   "mimetype": "text/x-python",
   "name": "python",
   "nbconvert_exporter": "python",
   "pygments_lexer": "ipython3",
   "version": "3.9.7"
  }
 },
 "nbformat": 4,
 "nbformat_minor": 2
}
