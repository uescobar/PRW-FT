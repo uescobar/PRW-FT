{
 "cells": [
  {
   "cell_type": "markdown",
   "metadata": {},
   "source": [
    "[![../imagenes/pythonista.png](../imagenes/pythonista.png)](https://pythonista.io)"
   ]
  },
  {
   "cell_type": "markdown",
   "metadata": {},
   "source": [
    "# Etiquetas y atributos."
   ]
  },
  {
   "cell_type": "markdown",
   "metadata": {},
   "source": [
    "## Elementos de HTML.\n",
    "\n",
    "*HTML*, al igual que otros lenguajes como *XML* y *SGML* utiliza \"etiquetas\" o \"tags\"  para definir los elementos dentro de un documento.\n",
    "\n",
    "La especificación define diversas etiquetas para cada elemento de *HTML*.\n",
    "\n",
    "Un elemento de *HTML* debe de estar conformado por:\n",
    "* Etiquetas.\n",
    "* Atributos.\n",
    "* Texto.\n",
    "* Otros elementos *HTML*.\n",
    "\n",
    "Por lo general un elemento está delimitado por una etiqueta de apertura y una de cierre.\n",
    "\n",
    "Dentro de la etiqueta de apertura se pueden definir los atributos de un elemento.\n",
    "\n",
    "La sintaxis es como la siguiente:\n",
    "\n",
    "```\n",
    "<(tipo de elemento) (atributos)> (texto) (otros elementos) </(tipo de elemento)>\n",
    "```\n",
    "\n",
    "En algunos casos, el elemento no contiene texto ni algún otro elemento, por lo que sólo se requiere de una etiqueta con la siguente sintaxis indicando que es una etiqueta de apertura y cierre:\n",
    "\n",
    "```\n",
    "<(tipo de elemento)/>\n",
    "```\n",
    "\n",
    "### Atributos.\n",
    "\n",
    "Los atributos crresponden a las características que puede tener un elemento y se definen de la siguiente forma:\n",
    "\n",
    "```\n",
    "(atributo)=\"(valor)\"\n",
    "```\n",
    "\n",
    "Puede consultar la lista de todos los atributos disponibles en https://www.w3schools.com/tags/ref_attributes.asp.\n",
    "\n",
    "### Atributos globales.\n",
    "\n",
    "Todos los elementos *HTML* comparten un conjunto común de atributos los cuales pueden ser consultados en https://www.w3schools.com/tags/ref_standardattributes.asp"
   ]
  },
  {
   "cell_type": "markdown",
   "metadata": {},
   "source": [
    "## Legibilidad.\n",
    "\n",
    "Los navegadores no reconocen los caracteres de retorno de línea, por lo que es posible crear un documento *HTML* completo en una sola línea. Sin embargo, eso no es muy legible para un ser humano por lo que se recomienda el uso de saltos de línea e indentación."
   ]
  },
  {
   "cell_type": "markdown",
   "metadata": {},
   "source": [
    "**Ejemplo:**"
   ]
  },
  {
   "cell_type": "markdown",
   "metadata": {},
   "source": [
    "*El código:* \n",
    "``` html\n",
    "<br/>\n",
    "```\n",
    "Es una etiqueta unitaria que da por resultado un retorno de línea."
   ]
  },
  {
   "cell_type": "markdown",
   "metadata": {},
   "source": [
    "**Ejemplo:**"
   ]
  },
  {
   "cell_type": "markdown",
   "metadata": {},
   "source": [
    "*El código:*\n",
    "\n",
    "```html\n",
    "<a href=\"https://pythonista.io\">Nuestro sitio.</a>\n",
    "```\n",
    "\n",
    "*Da por resultado:* \n",
    "\n",
    "<a href=\"http://www.upt.edu.mx\">Nuestro sitio.</a>"
   ]
  },
  {
   "cell_type": "markdown",
   "metadata": {},
   "source": [
    "**Ejemplo:**"
   ]
  },
  {
   "cell_type": "markdown",
   "metadata": {},
   "source": [
    "*El código:*\n",
    "\n",
    "``` html\n",
    "<p>Este es un párrafo que incluye retornos de línea,<br/>\n",
    "<b>texto en negritas</b><br/>\n",
    "<sub>subíndices</sub> junto con <sup>superíndices</sup><br/>\n",
    "    y algunas cosas más.</p>\n",
    "```\n",
    "*Da por resultado:*\n",
    "\n",
    "<p>Este es un párrafo que incluye retornos de línea,<br/>\n",
    "<b>texto en negritas</b><br/>\n",
    "<sub>subíndices</sub> junto con <sup>superíndices</sup><br/>\n",
    "    y algunas cosas más.</p>"
   ]
  },
  {
   "cell_type": "markdown",
   "metadata": {},
   "source": [
    "## Comentarios.\n",
    "\n",
    "HTML permite crear comentarios mediante la siguiente sintaxis:\n",
    "\n",
    "``` html\n",
    "<!-- (Comentario) -->\n",
    "```\n"
   ]
  },
  {
   "cell_type": "markdown",
   "metadata": {},
   "source": [
    "<p style=\"text-align: center\"><a rel=\"license\" href=\"http://creativecommons.org/licenses/by/4.0/\"><img alt=\"Licencia Creative Commons\" style=\"border-width:0\" src=\"https://i.creativecommons.org/l/by/4.0/80x15.png\" /></a><br />Esta obra está bajo una <a rel=\"license\" href=\"http://creativecommons.org/licenses/by/4.0/\">Licencia Creative Commons Atribución 4.0 Internacional</a>.</p>\n",
    "<p style=\"text-align: center\">&copy; José Luis Chiquete Valdivieso. 2019.</p>"
   ]
  }
 ],
 "metadata": {
  "kernelspec": {
   "display_name": "Python 3 (ipykernel)",
   "language": "python",
   "name": "python3"
  },
  "language_info": {
   "codemirror_mode": {
    "name": "ipython",
    "version": 3
   },
   "file_extension": ".py",
   "mimetype": "text/x-python",
   "name": "python",
   "nbconvert_exporter": "python",
   "pygments_lexer": "ipython3",
   "version": "3.9.7"
  }
 },
 "nbformat": 4,
 "nbformat_minor": 2
}
