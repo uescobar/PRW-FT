{
 "cells": [
  {
   "cell_type": "markdown",
   "metadata": {},
   "source": [
    "[![imagenes/pythonista.png](imagenes/pythonista.png)](https://pythonista.io)"
   ]
  },
  {
   "cell_type": "markdown",
   "metadata": {},
   "source": [
    "# Introducción a estilos."
   ]
  },
  {
   "cell_type": "markdown",
   "metadata": {},
   "source": [
    "## El elemento ```<style>```.\n",
    "\n",
    "Este elemento permite definir el estilo de ciertos elementos dentro de un documento *HTML* identificándolos mediante el uso de \"selectores\".\n",
    "\n",
    "La sintaxis es similar a:\n",
    "\n",
    "```\n",
    "<style>\n",
    "    (selector 1) {\n",
    "        (reglas)\n",
    "    }\n",
    "    (selector 2) {\n",
    "        (reglas)\n",
    "    }\n",
    "    ...\n",
    "    (selector n {\n",
    "        (reglas)\n",
    "    }\n",
    "    \n",
    "</style>\n",
    "```\n",
    "\n"
   ]
  },
  {
   "cell_type": "markdown",
   "metadata": {},
   "source": [
    "## Reglas de estilo.\n",
    "\n",
    "Una regla de estilo es una línea que define el valor de un atributo particular.\n",
    "\n",
    "```\n",
    "(atributo): (valor 1) (valor 2) ... (valor n); \n",
    "```\n",
    "#### El atributo ```background-color```.\n",
    "Para este capítulo sólo utilizaremos el atributo ```background-color```, el cual define el color de fondo de un elemento.\n",
    "\n",
    "Para seleccionar colores por su nombre se puede consultar: https://www.w3schools.com/colors/colors_names.asp"
   ]
  },
  {
   "cell_type": "markdown",
   "metadata": {},
   "source": [
    "## Selectores.\n",
    "\n",
    "Los selectores son expresiones que permiten identificar uno o varios elementos dentro de un documento HTML e incluso algunos eventos.\n",
    "\n",
    "Los selectores son un elemento clave de las reglas de estilo, pero su aplicación va más allá de este ámbito. Los selectores también son muy uitlizados para el desarrollo de aplicaciones web.\n",
    "\n",
    "Para conocer más sobre la sintaxis de de selectores es posible consultar la siguiente liga:\n",
    "\n",
    "https://www.w3schools.com/cssref/css_selectors.asp"
   ]
  },
  {
   "cell_type": "markdown",
   "metadata": {},
   "source": [
    "### Selectores de elementos.\n",
    "\n",
    "Los selectores de elementos permiten identificar a todos los elementos de cierto tipo en un documento *HTML* por el nombre de las etiquetas.\n",
    "\n",
    "Para seleccionar a todos los elementos de un documento se utiliza el selector _*_.\n",
    "\n",
    "* El selector para todos los elementos *&lt;p&gt;* es *p*.\n",
    "* El selector para todos los elementos *&lt;a&gt;* es *a*.\n",
    "* El selector para todos los elementos *&lt;ol&gt;* es *ol*.\n",
    "* El selector para todos los elementos *&lt;li&gt;* es *li*.\n",
    "* El selector para todos los elementos *&lt;body&gt;* es *body*."
   ]
  },
  {
   "cell_type": "code",
   "execution_count": null,
   "metadata": {},
   "outputs": [],
   "source": [
    "%%html\n",
    "<h1>Este es un ejemplo del uso de selectores.</h1>\n",
    "<p>Hola, amigos</p>"
   ]
  },
  {
   "cell_type": "code",
   "execution_count": null,
   "metadata": {},
   "outputs": [],
   "source": [
    "%%html\n",
    "<style>\n",
    "  p {\n",
    "      background-color: gold;\n",
    "  }\n",
    "  h1 {\n",
    "      background-color: azure;\n",
    "  }\n",
    "</style>"
   ]
  },
  {
   "cell_type": "markdown",
   "metadata": {},
   "source": [
    "<p style=\"text-align: center\"><a rel=\"license\" href=\"http://creativecommons.org/licenses/by/4.0/\"><img alt=\"Licencia Creative Commons\" style=\"border-width:0\" src=\"https://i.creativecommons.org/l/by/4.0/80x15.png\" /></a><br />Esta obra está bajo una <a rel=\"license\" href=\"http://creativecommons.org/licenses/by/4.0/\">Licencia Creative Commons Atribución 4.0 Internacional</a>.</p>\n",
    "<p style=\"text-align: center\">&copy; José Luis Chiquete Valdivieso. 2019.</p>"
   ]
  }
 ],
 "metadata": {
  "kernelspec": {
   "display_name": "Python 3 (ipykernel)",
   "language": "python",
   "name": "python3"
  },
  "language_info": {
   "codemirror_mode": {
    "name": "ipython",
    "version": 3
   },
   "file_extension": ".py",
   "mimetype": "text/x-python",
   "name": "python",
   "nbconvert_exporter": "python",
   "pygments_lexer": "ipython3",
   "version": "3.9.7"
  }
 },
 "nbformat": 4,
 "nbformat_minor": 2
}
