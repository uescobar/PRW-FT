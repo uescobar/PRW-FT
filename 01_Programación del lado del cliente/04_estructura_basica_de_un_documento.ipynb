{
 "cells": [
  {
   "cell_type": "markdown",
   "metadata": {},
   "source": [
    "[![imagenes/pythonista.png](../imagenes/pythonista.png)](https://pythonista.io)"
   ]
  },
  {
   "cell_type": "markdown",
   "metadata": {},
   "source": [
    "# Estructura básica de un documento *HTML5*."
   ]
  },
  {
   "cell_type": "markdown",
   "metadata": {},
   "source": [
    "## Definición y delimitación de un documento *HTML5*.\n",
    "\n",
    "Un documento HTML5 está compuesto por:\n",
    "\n",
    "* El ```DOCTYPE```, el cual indica el tipo y versión de documento. \n",
    "    * En el caso de un documento *HTML5* es  ```<!DOCTYPE html>```\n",
    "\n",
    "A su vez, el documento tiene una \"cabeza\" identificada como  ```<head>``` y un \"cuerpo\" identificado como  ```<body>```."
   ]
  },
  {
   "cell_type": "markdown",
   "metadata": {},
   "source": [
    "### Definición del idioma.\n",
    "\n",
    "Para definir el idioma en el que se encuentra un documento se utiliza el atributo ```lang``` en la etiquete de ```DOCTYPE```.\n",
    "\n",
    "```\n",
    "<!DOCTYPE html lang=\"(idioma)\"> \n",
    "```\n",
    "\n",
    "Los códigos de idioma pueden ser consultados en https://www.w3schools.com/tags/ref_language_codes.asp."
   ]
  },
  {
   "cell_type": "markdown",
   "metadata": {},
   "source": [
    "**Ejemplo:**\n",
    "\n",
    "* Para indicar que el documento está en español, se declararía lo siguiente:\n",
    "\n",
    "``` html\n",
    "<!DOCTYPE html lang=\"es\"> \n",
    "```"
   ]
  },
  {
   "cell_type": "markdown",
   "metadata": {},
   "source": [
    "### Definiciones de ```DOCTYPE``` para versiones previas de *HTML*.\n",
    "\n",
    "Es posible consultar la sintaxis de ```DOCTYPE``` para versiones previas de *HTML* en https://www.w3schools.com/tags/tag_doctype.asp."
   ]
  },
  {
   "cell_type": "markdown",
   "metadata": {},
   "source": [
    "## El elemento ```<html>```.\n",
    "\n",
    "El es el elemento raíz a partir del cual se genera un documento *HTML*. "
   ]
  },
  {
   "cell_type": "markdown",
   "metadata": {},
   "source": [
    "## El elemento ```<head>``` de un documento *HTML5*.\n",
    "\n",
    "Este segmento define las características generales del documento. Puede contener los siguientes elementos.\n",
    "\n",
    "* ```<title>``` que corresponde a la cadena de caracteres desplegada en la pestaña del navagador.\n",
    "* ```<base>``` que corresponde a la ruta a partir de la cual se utilizarán las referencias relativas de los hiperenlaces.\n",
    "* ```<link>``` que corresponde a algún recurso que se desee cargar al documento.\n",
    "* ```<script>``` que corresponde a un script que puede ser cargado al documento.\n",
    "* ```<style>``` que corresponde a una definición de estilos del documento.\n",
    "* ```<meta>``` que corresponde a algún metadato que defina las características del documento. \n",
    "\n",
    "La referencia de los posibles metadatos puede ser consultada en https://developer.mozilla.org/es/docs/Web/HTML/Elemento/meta\n",
    "\n",
    "Es posible crear documentos *HTML* que no cuenten con el elemento ```<head>```."
   ]
  },
  {
   "cell_type": "markdown",
   "metadata": {},
   "source": [
    "## El elemento ```<body>``` de un documento *HTML5*.\n",
    "\n",
    "Este segmento del documento es el que posee el contenido de un documento que es desplegado en la ventana de un navegador web."
   ]
  },
  {
   "cell_type": "markdown",
   "metadata": {},
   "source": [
    "**ADVERTENCIAS:** \n",
    "\n",
    "* Cada navegador web puede presentar de forma distinta los elementos de un documento *HTML*. Es posible que algunos elementos no sean soportados por algún navegador en una versión específica de este.\n",
    "\n",
    "* Se recomienda contar con las versiones más recientes de varios navegadores y probar el modo en el que se despliega el contenido de un documento *HTML* en cada uno de ellos."
   ]
  },
  {
   "cell_type": "markdown",
   "metadata": {},
   "source": [
    " ## Ejemplo de un documento *HTML*.\n",
    " \n",
    " El siguiente código corresponde a un documento *HTML5* muy sencillo que tiene como título ```Hola, mundo``` y despliega un párrafo con el mismo mensaje.\n",
    " \n",
    " ``` html\n",
    " <!DOCTYPE html>\n",
    " <html>\n",
    "     <head>\n",
    "         <title>Hola, mundo</title>\n",
    "         <meta charset=\"UTF-8\">\n",
    "         <meta name=\"description\" content=\"Apuntes Pythonista\">\n",
    "         <meta autor=\"josech\">\n",
    "     </head>\n",
    "     <body>\n",
    "         <h1>Hola, mundo.</h1>\n",
    "     </body>\n",
    " </html>\n",
    "```\n",
    "\n",
    "El archivo localizado en [ejemplos/hola_mundo.html](ejemplos/hola_mundo.html) contiene el código descrito."
   ]
  },
  {
   "cell_type": "markdown",
   "metadata": {},
   "source": [
    "<p style=\"text-align: center\"><a rel=\"license\" href=\"http://creativecommons.org/licenses/by/4.0/\"><img alt=\"Licencia Creative Commons\" style=\"border-width:0\" src=\"https://i.creativecommons.org/l/by/4.0/80x15.png\" /></a><br />Esta obra está bajo una <a rel=\"license\" href=\"http://creativecommons.org/licenses/by/4.0/\">Licencia Creative Commons Atribución \n",
    "4.0 Internacional</a>.</p>\n",
    "<p style=\"text-align: center\">&copy; José Luis Chiquete Valdivieso. 2019.</p>"
   ]
  }
 ],
 "metadata": {
  "kernelspec": {
   "display_name": "Python 3 (ipykernel)",
   "language": "python",
   "name": "python3"
  },
  "language_info": {
   "codemirror_mode": {
    "name": "ipython",
    "version": 3
   },
   "file_extension": ".py",
   "mimetype": "text/x-python",
   "name": "python",
   "nbconvert_exporter": "python",
   "pygments_lexer": "ipython3",
   "version": "3.9.7"
  }
 },
 "nbformat": 4,
 "nbformat_minor": 2
}
