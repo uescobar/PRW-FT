{
 "cells": [
  {
   "cell_type": "markdown",
   "metadata": {},
   "source": [
    "[![imagenes/pythonista.png](imagenes/pythonista.png)](https://pythonista.io)"
   ]
  },
  {
   "cell_type": "markdown",
   "metadata": {},
   "source": [
    "# Imágenes."
   ]
  },
  {
   "cell_type": "markdown",
   "metadata": {},
   "source": [
    "## El elemento ```<img>```.\n",
    "\n",
    "El elemento &lt;img&gt; es utilizado para desplegar imágenes localizadas en una URL ligada al atributo *src*.\n",
    "\n",
    "HTML soporta la gran mayoría formatos de imagen como:\n",
    "\n",
    "* *JPEG*.\n",
    "* *GIF* (incluso animados).\n",
    "* *PNG*.\n",
    "\n",
    "Este elemento no utiliza etiqueta de cierre y es de tipo *inline*."
   ]
  },
  {
   "cell_type": "markdown",
   "metadata": {},
   "source": [
    "**Ejemplo:**\n",
    "Se desplegará la imagen localizada en [*imagenes/ejemplo.jpg*](imagenes/ejemplo.jpg)."
   ]
  },
  {
   "cell_type": "markdown",
   "metadata": {},
   "source": [
    "*El código:*\n",
    "\n",
    "``` html\n",
    "<img src=\"imagenes/ejemplo.jpg\">\n",
    "```"
   ]
  },
  {
   "cell_type": "markdown",
   "metadata": {},
   "source": [
    "*El resultado:*\n",
    "\n",
    "<img src=\"imagenes/ejemplo.jpg\">"
   ]
  },
  {
   "cell_type": "markdown",
   "metadata": {},
   "source": [
    "### Atributos adicionales.\n",
    "\n",
    "* *alt*, el cual permite desplegar un texto en lugar de la imagen en caso de que no sea posible acceder a ella.\n",
    "* *title*, permite desplegar un texto cuando el apuntador se encuentra sobre la imagen. \n",
    "* *height*,  define la altura del texto. En caso de que no haya una definición de ancho, la imagen se ajustará proporcionalmente.\n",
    "* *width*, el cual define el ancho del texto. En caso de que no haya una definición de ancho, la imagen se ajustará proporcionalmente.\n",
    "\n",
    "La unidad por defecto para medir tamaño son los pixeles."
   ]
  },
  {
   "cell_type": "markdown",
   "metadata": {},
   "source": [
    "**Ejemplos:**\n",
    "\n",
    "Se desplegará la imagen localizada en [*imagenes/ejemplo.jpg*](imagenes/ejemplo.jpg), pero con un ancho de 100 pixeles y un texto alterno correspondiente a *\"escritorio\"*."
   ]
  },
  {
   "cell_type": "markdown",
   "metadata": {},
   "source": [
    "*El código:*\n",
    "\n",
    "``` html\n",
    "<img src=\"imagenes/ejemplo.jpg\" width=\"100\" alt=\"escritorio\">\n",
    "```"
   ]
  },
  {
   "cell_type": "markdown",
   "metadata": {},
   "source": [
    "*El resultado:*\n",
    "\n",
    "<img src=\"imagenes/ejemplo.jpg\" width=\"100\" height=\"20\" alt=\"escritorio\" title=\"teclado mugroso\" >\n"
   ]
  },
  {
   "cell_type": "markdown",
   "metadata": {},
   "source": [
    "Se desplegará el hipervínculo que se activará seleccionando la imagen localizada en [*imagenes/ejemplo.jpg*](imagenes/ejemplo.jpg), pero con un ancho de 100 pixeles, un texto alterno correspondiente a *\"escritorio\"*.\n",
    "\n",
    "En la carpeta de ejemplos se incluye páginas que modifican el tamaño de las imágenes, así como su lineación."
   ]
  },
  {
   "cell_type": "markdown",
   "metadata": {},
   "source": [
    "### Reglas para creaer imágenes\n",
    "\n",
    "1. Guardar las imágenes en el formato correcto\n",
    "\n",
    "2. Guardar las ima"
   ]
  },
  {
   "cell_type": "markdown",
   "metadata": {},
   "source": [
    "<p style=\"text-align: center\"><a rel=\"license\" href=\"http://creativecommons.org/licenses/by/4.0/\"><img alt=\"Licencia Creative Commons\" style=\"border-width:0\" src=\"https://i.creativecommons.org/l/by/4.0/80x15.png\" /></a><br />Esta obra está bajo una <a rel=\"license\" href=\"http://creativecommons.org/licenses/by/4.0/\">Licencia Creative Commons Atribución 4.0 Internacional</a>.</p>\n",
    "<p style=\"text-align: center\">&copy; José Luis Chiquete Valdivieso. 2019.</p>"
   ]
  }
 ],
 "metadata": {
  "kernelspec": {
   "display_name": "Python 3 (ipykernel)",
   "language": "python",
   "name": "python3"
  },
  "language_info": {
   "codemirror_mode": {
    "name": "ipython",
    "version": 3
   },
   "file_extension": ".py",
   "mimetype": "text/x-python",
   "name": "python",
   "nbconvert_exporter": "python",
   "pygments_lexer": "ipython3",
   "version": "3.9.7"
  }
 },
 "nbformat": 4,
 "nbformat_minor": 2
}
