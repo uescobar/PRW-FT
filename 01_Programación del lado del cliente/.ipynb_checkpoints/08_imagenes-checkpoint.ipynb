{
 "cells": [
  {
   "cell_type": "markdown",
   "metadata": {},
   "source": [
    "[![imagenes/pythonista.png](imagenes/pythonista.png)](https://pythonista.io)"
   ]
  },
  {
   "cell_type": "markdown",
   "metadata": {},
   "source": [
    "# Imágenes."
   ]
  },
  {
   "cell_type": "markdown",
   "metadata": {},
   "source": [
    "## El elemento ```<img>```.\n",
    "\n",
    "El elemento &lt;img&gt; es utilizado para desplegar imágenes localizadas en una URL ligada al atributo *src*.\n",
    "\n",
    "HTML soporta la gran mayoría formatos de imagen como:\n",
    "\n",
    "* *JPEG*.\n",
    "* *GIF* (incluso animados).\n",
    "* *PNG*.\n",
    "\n",
    "Este elemento no utiliza etiqueta de cierre y es de tipo *inline*."
   ]
  },
  {
   "cell_type": "markdown",
   "metadata": {},
   "source": [
    "**Ejemplo:**\n",
    "Se desplegará la imagen localizada en [*imagenes/ejemplo.jpg*](imagenes/ejemplo.jpg)."
   ]
  },
  {
   "cell_type": "markdown",
   "metadata": {},
   "source": [
    "*El código:*\n",
    "\n",
    "``` html\n",
    "<img src=\"imagenes/ejemplo.jpg\">\n",
    "```"
   ]
  },
  {
   "cell_type": "markdown",
   "metadata": {},
   "source": [
    "*El resultado:*\n",
    "\n",
    "<img src=\"imagenes/ejemplo.jpg\">"
   ]
  },
  {
   "cell_type": "markdown",
   "metadata": {},
   "source": [
    "### Atributos adicionales.\n",
    "\n",
    "* *alt*, el cual permite desplegar un texto en lugar de la imagen en caso de que no sea posible acceder a ella.\n",
    "* *title*, permite desplegar un texto cuando el apuntador se encuentra sobre la imagen. \n",
    "* *height*,  define la altura del texto. En caso de que no haya una definición de ancho, la imagen se ajustará proporcionalmente.\n",
    "* *width*, el cual define el ancho del texto. En caso de que no haya una definición de ancho, la imagen se ajustará proporcionalmente.\n",
    "\n",
    "La unidad por defecto para medir tamaño son los pixeles."
   ]
  },
  {
   "cell_type": "markdown",
   "metadata": {},
   "source": [
    "**Ejemplos:**\n",
    "\n",
    "Se desplegará la imagen localizada en [*imagenes/ejemplo.jpg*](imagenes/ejemplo.jpg), pero con un ancho de 100 pixeles y un texto alterno correspondiente a *\"escritorio\"*."
   ]
  },
  {
   "cell_type": "markdown",
   "metadata": {},
   "source": [
    "*El código:*\n",
    "\n",
    "``` html\n",
    "<img src=\"imagenes/ejemplo.jpg\" width=\"100\" alt=\"escritorio\">\n",
    "```"
   ]
  },
  {
   "cell_type": "markdown",
   "metadata": {},
   "source": [
    "*El resultado:*\n",
    "\n",
    "<img src=\"imagenes/ejemplo.jpg\" width=\"100\" height=\"20\" alt=\"escritorio\" title=\"teclado mugroso\" >\n"
   ]
  },
  {
   "cell_type": "markdown",
   "metadata": {},
   "source": [
    "Se desplegará el hipervínculo que se activará seleccionando la imagen localizada en [*imagenes/ejemplo.jpg*](imagenes/ejemplo.jpg), pero con un ancho de 100 pixeles, un texto alterno correspondiente a *\"escritorio\"*.\n",
    "\n",
    "En la carpeta de ejemplos se incluye páginas que modifican el tamaño de las imágenes, así como su lineación."
   ]
  },
  {
   "cell_type": "markdown",
   "metadata": {},
   "source": [
    "### Reglas para crear imágenes\n",
    "\n",
    "1. Guardar las imágenes en el formato correcto\n",
    "    \n",
    "Los sitios web principalmente usan imagenes en formato jpeg, gif o png. Si se elige el formato incorrecto de imágen entonces la imagen podría no lucir tan nítida como debería y además podría hacer que la carga de la página sea lenta. \n",
    "\n",
    "2. Guardar las imágenes en el tamaño correcto\n",
    "\n",
    "Se debe guardar la imagen en las dimensiones (ancho y alto) en las que aparecerán. Si las imágenes son mas pequeñas que las dimensiones en las que se usarán entonces las imágenes pueden mostrarse estiradas y distorsionadas. Si las imágenes son más grandes que la altura que se han especificado entonces la imágen tardará más en mostrase en la página.\n",
    "\n",
    "3. Usar la resolución correcta\n",
    "\n",
    "Las pantallas de las computadoras están compuestas por puntos conocidos cómo pixeles. Las imágenes usadas en web también están hechas de pequeños puntos. La resolución se refiere a el número de puntos por pulgada, y la mayoría de las pantallas de computadoras únicamente muestran las páginas web a una resolución de 72 pixeles por pulgada, así que, guardar las imágenes a una resolución mayor resultan en imágenes con un tamaño mayor al necesario y toman más tiempo en cargar.\n",
    "\n",
    "\n",
    "Para realizar la edición de imágenes se debe usar un programa de edición profesional, tal como Adobe Photoshop o bien [GIMP](https://www.gimp.org/), entre otros.\n",
    "\n",
    "\n",
    "\n",
    "## Recomendaciones de formatos.\n",
    "\n",
    "### JPEG\n",
    "\n",
    "Cuando la imagen tiene demasiados colores diferentes se debe usar JPEG. Una fotografía que represente por ejemplo la nieve o el cielo nublado puede contener grandes áreas que son de color blanco o gris, pero la fotografía está compuesta por una gran variedad de colores sutilmente diferentes.\n",
    "\n",
    "### GIF o PNG\n",
    "\n",
    "Utilice GIF o PNG para guardar imagenes con pocos colores o grandes áreas del mismo color. Es decir, cuando una imagen tiene áreas que están rellenas con exáctamente el mismo color (se conoce como colores planos), por ejemplo los logotipos, ilustraciones, gráficas y diagramas usualmente son de colores planos. (Se debe observar que las imágenes de nieve, cielo, o césped no son colores planos ya que están hechas de colores sutilmente diferentes, sombras y distintos tonos del mismo color que no los hacen adecuados para los formatos GIF o PNG).\n",
    "\n",
    "\n",
    "Los tres formatos anteriores guardan las imágenes en formato de bitmaps (mapa de bits), lo que indica que están hechas de muchos puntos pequeños, y la resolución representa la cantidad de esos puntos que están contenidos en una pulgada cuadrada (densidad de puntos). Los navegadores web usualmente muestran las imágenes a una resolución de 72 pixeles por pulgada (**ppi**). Por otro lado, las imágenes publicadas en medios impresos tales como revistas y libros están hechas de pequeños círculos llamados puntos (dots). Estas imágenes están impresas tipicamente a una resolución de 300 puntos por pulgada (**dpi**).\n",
    "\n",
    "A modo de comparación, una imagen jpeg:\n",
    "\n",
    "JPEG a 300 dpi = 1,526 kb\n",
    "JPEG a 72 dpi = 368 kb\n",
    "\n",
    "Ambas imagenes podrían ser representadas correctamente por el navegador web, no obstante, no sería notable la diferencia visualmente percibida, pero, resultaría en una mayor transferencia de datos y por lo tanto una carga más lenta de la imagen en el navegador para la imagen expresada en 300 dpi.\n",
    "\n",
    "\n",
    "## Portrait\n",
    "\n",
    "Las imágenes usualmente son rectangulares, por lo que al colocarla de forma portrait, la imagen es colocada usando como base el lado mas corto (el de menor extension).\n",
    "\n",
    "## Landscape\n",
    "\n",
    "La imagen es colocada usando como base el lado mas largo (el de mayor extensión), es decir, de forma panorámica.\n",
    "\n",
    "\n",
    "## Imágenes Vectorizadas\n",
    "\n",
    "Las imágenes vectoriales difieren de las imágenes de mapa de bits y no son dependientes de la resolución, por lo que pueden incrementar sus dimensiones sin que la imagen se distorsione. Las imágenes vectoriales usualmente son creadas con programas como Adobe Ilustrator o [InkScape](https://inkscape.org/).\n",
    "\n",
    "Las imagenes vectoriales usalmente se guardan en el formato Scalable Vector Graphics (SVG), el cúal es un formato relativamente nuevo para mostrar imagenes vectoriales directamente en el navegador web.\n",
    "\n",
    "[Vectorizador en línea](https://es.vectormagic.com/)\n",
    "\n",
    "\n",
    "\n",
    "## Animaciones GIF\n",
    "\n",
    "Ya casi en desuso por que recuerdan las páginas web retro de los 1990's.\n",
    "\n",
    "\n",
    "## Transparencia\n",
    "\n",
    "Si las imágenes contienen transparencia, entonces se puede elegir entre dos tipos de formato: \n",
    "\n",
    "* GIF con transparencia \n",
    "\n",
    "Si la parte transparente tiene bordes rectos y es 100% transparente (no semi opaca).\n",
    "\n",
    "* PNG.\n",
    "\n",
    "Si la parte transparente de la imagen es diagonal o con bordes redondeados o bien se requiere una transparencia semiopaca o bien como una sombra.\n",
    "\n",
    "\n"
   ]
  },
  {
   "cell_type": "markdown",
   "metadata": {},
   "source": [
    "<p style=\"text-align: center\"><a rel=\"license\" href=\"http://creativecommons.org/licenses/by/4.0/\"><img alt=\"Licencia Creative Commons\" style=\"border-width:0\" src=\"https://i.creativecommons.org/l/by/4.0/80x15.png\" /></a><br />Esta obra está bajo una <a rel=\"license\" href=\"http://creativecommons.org/licenses/by/4.0/\">Licencia Creative Commons Atribución 4.0 Internacional</a>.</p>\n",
    "<p style=\"text-align: center\">&copy; José Luis Chiquete Valdivieso. 2019.</p>"
   ]
  }
 ],
 "metadata": {
  "kernelspec": {
   "display_name": "Python 3 (ipykernel)",
   "language": "python",
   "name": "python3"
  },
  "language_info": {
   "codemirror_mode": {
    "name": "ipython",
    "version": 3
   },
   "file_extension": ".py",
   "mimetype": "text/x-python",
   "name": "python",
   "nbconvert_exporter": "python",
   "pygments_lexer": "ipython3",
   "version": "3.9.7"
  }
 },
 "nbformat": 4,
 "nbformat_minor": 2
}
