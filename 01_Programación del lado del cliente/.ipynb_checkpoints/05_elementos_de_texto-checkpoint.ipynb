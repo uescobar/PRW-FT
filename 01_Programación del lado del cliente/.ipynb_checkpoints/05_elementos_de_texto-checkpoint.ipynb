{
 "cells": [
  {
   "cell_type": "markdown",
   "metadata": {},
   "source": [
    "[![imagenes/pythonista.png](../imagenes/pythonista.png)](https://pythonista.io)"
   ]
  },
  {
   "cell_type": "markdown",
   "metadata": {},
   "source": [
    "# Elementos de texto."
   ]
  },
  {
   "cell_type": "markdown",
   "metadata": {},
   "source": [
    "## Codificación y códigos.\n",
    "\n",
    "Los documentos *HTML* son usados en todo el mundo y sus contenidos se encuentran escritos en diversos idiomas con alfabetos y símbolos muy variados. Es por eso por lo que se creó el estándar [*Unicode*](https://www.unicode.org/standard/standard.html), el cual contiene decenas de miles de caracteres provenientes de diversos idiomas a los que se puede acceder mediante su número de código específico. \n",
    "\n",
    "Unicode ha publicado una serie de conjuntos de caracteres o \"charsets\", los cuales corresponden a una porción del estándar completo. En el caso de *HTML5* el charset por defecto es [*UTF-8*](https://www.w3schools.com/charsets/ref_html_utf8.asp).\n",
    "\n",
    "En caso de requerirlo es posible especificar la codificación de un documento mediante el atributo ```charset``` definido en un elemento ```<meta>```.\n",
    "\n",
    "**Ejemplo:**\n",
    "\n",
    "El siguiente código indica que el documento utiliza el charset *UTF-8*.\n",
    "\n",
    "``` html\n",
    "  <meta charset=\"UTF-8\">\n",
    "```\n",
    "\n",
    "### Código *ASCII*.\n",
    "\n",
    "En un principio el estándar de codificación fue el código *ASCII*, el cual consiste en una [tabla](https://ascii.cl/es/) de tan solo 256 caracteres.\n",
    "\n",
    "### Códigos *HTML*.\n",
    "\n",
    "Para que las primeras versiones de *HTML* pudieran desplegar caracteres más allá de los definidos por el código *ASCII*, se definió una serie de códigos especiales que pueden ser consultados en https://www.ascii.cl/htmlcodes.htm.\n",
    "\n",
    "Estos códigos aún son utilizados y se recomienda familiarizarse con ellos."
   ]
  },
  {
   "cell_type": "markdown",
   "metadata": {},
   "source": [
    "## Elementos de bloque (```block```) y dentro de línea (```inline```).\n",
    "\n",
    "En general, *HTML* permite utilizar elementos que, dependiendo de su extensión y aplicación pueden afectar elementos dentro de una línea (```inline```) o que pueden comprender al menos una línea completa considerándose como un bloque de contenido (```block```). "
   ]
  },
  {
   "cell_type": "markdown",
   "metadata": {},
   "source": [
    "### Elementos de texto de tipo  ```block```.\n",
    "\n",
    "Este tipo de elementos se \"apilan\" uno por debajo de otro. No permiten elemetos a su lado."
   ]
  },
  {
   "cell_type": "markdown",
   "metadata": {},
   "source": [
    "### Párrafos con ```<p>```.\n",
    "\n",
    "Este es uno de los elementos más utilizados para presentar contenido de texto y es interpretado como un párrafo."
   ]
  },
  {
   "cell_type": "markdown",
   "metadata": {},
   "source": [
    "**Ejemplo:**"
   ]
  },
  {
   "cell_type": "markdown",
   "metadata": {},
   "source": [
    "*Código:*\n",
    "\n",
    "``` html\n",
    "<p>Párrafo 1</p>\n",
    "<p>Párrafo 2</p>\n",
    "<p>Párrafo 3</p>\n",
    "```"
   ]
  },
  {
   "cell_type": "markdown",
   "metadata": {},
   "source": [
    "*Resultado:*\n",
    "\n",
    "<p>Párrafo 1</p>\n",
    "<p>Párrafo 2</p>\n",
    "<p>Párrafo 3</p>"
   ]
  },
  {
   "cell_type": "markdown",
   "metadata": {},
   "source": [
    "### Encabezados con ```<h1>```, ```<h2>```,   ```<h3>```, ```<h4>```, ```<h5>``` y ```<h6> ```.\n",
    "\n",
    "Los encabezados son elementos de texto utilizados para servir como texto descriptivo de un tema específico que es desarrollado a continuación.\n",
    "\n",
    "*HTML* cuenta con 6 tipos de encabezados, siendo ```<h1>``` el encabezado de primer nivel y ```<h6>``` el encabezado de menor nivel."
   ]
  },
  {
   "cell_type": "markdown",
   "metadata": {},
   "source": [
    "**Ejemplo:**\n",
    "\n",
    "A continuación se desplegarán los 6 tipos de encabezado."
   ]
  },
  {
   "cell_type": "markdown",
   "metadata": {},
   "source": [
    "*Código:*\n",
    "\n",
    "``` html\n",
    "<h1>Encabezado 1</h1>\n",
    "<h2>Encabezado 2</h2>\n",
    "<h3>Encabezado 3</h3>\n",
    "<h4>Encabezado 4</h4>\n",
    "<h5>Encabezado 5</h5>\n",
    "<h6>Encabezado 6</h6>\n",
    "```"
   ]
  },
  {
   "cell_type": "markdown",
   "metadata": {},
   "source": [
    "*Resultado:*\n",
    "\n",
    "<h1>Encabezado 1</h1>\n",
    "<h2>Encabezado 2</h2>\n",
    "<h3>Encabezado 3</h3>\n",
    "<h4>Encabezado 4</h4>\n",
    "<h5>Encabezado 5</h5>\n",
    "<h6>Encabezado 6</h6>"
   ]
  },
  {
   "cell_type": "markdown",
   "metadata": {},
   "source": [
    "### Citas de texto completas con ```<blockquote>```.\n",
    "\n",
    "Este elemento permite desplegar varios elementos *HTML* como si fuera una cita."
   ]
  },
  {
   "cell_type": "markdown",
   "metadata": {},
   "source": [
    "**Ejemplo:**"
   ]
  },
  {
   "cell_type": "markdown",
   "metadata": {},
   "source": [
    "*Código:*\n",
    "\n",
    "``` html\n",
    "<blockquote>\n",
    " <p>\"Yo nunca dije eso.\"</p>\n",
    " <p>-Albert Einstein.</p>\n",
    "</blockquote>\n",
    "```"
   ]
  },
  {
   "cell_type": "markdown",
   "metadata": {},
   "source": [
    "*Resultado:*\n",
    "\n",
    "<blockquote>\n",
    " <p>\"Yo nunca dije eso.\"</p>\n",
    " <p>-Albert Einstein.</p>\n",
    "</blockquote>"
   ]
  },
  {
   "cell_type": "markdown",
   "metadata": {},
   "source": [
    "### Bloques de texto con espaciados y retornos predefinidos con ```<pre>```. \n",
    "\n",
    "Los navegadores web no toman en cuenta los espacios y retornos de línea de un documento *HTML*.\n",
    "\n",
    "Existen ocasiones en las que se desea que los espacios y retornos de línea sean respetados por el navegador. El elemento ```<pre>``` permite incluir texto con espacios y saltos de línea preformateados."
   ]
  },
  {
   "cell_type": "markdown",
   "metadata": {},
   "source": [
    "**Ejemplo:**"
   ]
  },
  {
   "cell_type": "markdown",
   "metadata": {},
   "source": [
    "*Código:*\n",
    "\n",
    "``` html\n",
    "<pre>\n",
    "for i in range(1,2):\n",
    "    print(i)\n",
    "</pre>\n",
    "```"
   ]
  },
  {
   "cell_type": "markdown",
   "metadata": {},
   "source": [
    "*Resultado:*\n",
    "\n",
    "<pre>\n",
    "for i in range(1,2):\n",
    "    print(i)\n",
    "</pre>"
   ]
  },
  {
   "cell_type": "markdown",
   "metadata": {},
   "source": [
    "### Direcciones con ```<address>```.\n",
    "\n",
    "Este elemento indica que su contenido corresponde a una dirección."
   ]
  },
  {
   "cell_type": "markdown",
   "metadata": {},
   "source": [
    "**Ejemplo:**"
   ]
  },
  {
   "cell_type": "markdown",
   "metadata": {},
   "source": [
    "*Código:*\n",
    "\n",
    "``` html\n",
    "<address>\n",
    "    <p>742 Avenida, Siempreviva, Springfield, EEUU.</p>\n",
    "    <p> 1 -555-555-5000</p>\n",
    "</address>\n",
    "```"
   ]
  },
  {
   "cell_type": "markdown",
   "metadata": {},
   "source": [
    "*Resultado:*\n",
    "\n",
    "<address>\n",
    "    <p>742 Avenida, Siempreviva, Springfield, EEUU.</p>\n",
    "    <p> 1 -555-555-5000</p>\n",
    "</address>"
   ]
  },
  {
   "cell_type": "markdown",
   "metadata": {},
   "source": [
    "### Descripción de términos con ```<dt>``` y ```<dd>```.\n",
    "\n",
    "La combinación de estos elementos permite crear una estructura de texto similar a la que se encuentra en un diccionario.\n",
    "\n",
    "Un término puede tener sinónimos y a su vez, varios significados.\n",
    "\n",
    "* El elemento ```<dt>``` se utiliza para identificar al texto que contiene como un término.\n",
    "* El elemento ```<dd>``` se utiliza para identificar al texto que contiene como la descripción de un término."
   ]
  },
  {
   "cell_type": "markdown",
   "metadata": {},
   "source": [
    "**Ejemplo:**"
   ]
  },
  {
   "cell_type": "markdown",
   "metadata": {},
   "source": [
    "*Código:*\n",
    "\n",
    "``` html\n",
    "<dt>HTML5<dt>\n",
    "<dd>La especificación más reciente de W3C para creación de documentos HTML.<dd>\n",
    "```"
   ]
  },
  {
   "cell_type": "markdown",
   "metadata": {},
   "source": [
    "*Resultado:*\n",
    "\n",
    "<dt>HTML5:<dt>\n",
    "<dd>La especificación más reciente de W3C para creación de documentos HTML.<dd>"
   ]
  },
  {
   "cell_type": "markdown",
   "metadata": {},
   "source": [
    "### Detalles extendidos con ```<details>``` y  ```<summary>```.\n",
    "\n",
    "El elemento ```<details>``` se utiliza para presentar un texto contenido en el elemento ```<summary>```, y en caso de seleccionarlo, se deplegará en contenido completo del elemento.\n",
    "\n",
    "Este elemento permite presentar un resumen correspondiente al texto de ```<summary>``` y en caso de que el usuario desee conocer más al respecto,podrá desplegar la información completa al seleccionar al elemento.\n",
    "\n",
    "\n",
    "**ADVERTENCIA:** Este elemento no está soportado por Internet Explorer ni Edge."
   ]
  },
  {
   "cell_type": "markdown",
   "metadata": {},
   "source": [
    "**Ejemplo:**\n",
    "\n",
    "A continuación se utilizará el texto ```HTML5 + CSS3 + Javascript desde cero.``` como resumen del elemento.\n",
    "\n",
    "Al seleccionar al elemento, éste despelgará el párrafo ```Taller en línea enfocado a sentar las bases de desarrollo de aplicaciones básicas en el navegador utilizando HTML5, CSS3 y Javascript```."
   ]
  },
  {
   "cell_type": "markdown",
   "metadata": {},
   "source": [
    "*Código:*\n",
    "\n",
    "``` html\n",
    "<details>\n",
    "<summary>HTML5 + CSS3 + Javascript desde cero.</summary>\n",
    "<p>Taller en línea enfocado a sentar las bases de desarrollo de aplicaciones \n",
    "básicas en el navegador utilizando HTML5, CSS3 y Javascript.<p>\n",
    "</details>\n",
    "```"
   ]
  },
  {
   "cell_type": "markdown",
   "metadata": {},
   "source": [
    "*Resultado:*\n",
    "<details>\n",
    "<summary>HTML5 + CSS3 + Javascript desde cero.</summary>\n",
    "<p>Taller en línea enfocado a sentar las bases de desarrollo de aplicaciones \n",
    "básicas en el navegador utilizando HTML5, CSS3 y Javascript.<p>\n",
    "</details>"
   ]
  },
  {
   "cell_type": "markdown",
   "metadata": {},
   "source": [
    "### Delimitador temático con ```<hr>```.\n",
    "\n",
    "Este elemento se utiliza para separar elementos. Por lo general es representado como una línea horizontal."
   ]
  },
  {
   "cell_type": "markdown",
   "metadata": {},
   "source": [
    "**Ejemplo:**"
   ]
  },
  {
   "cell_type": "markdown",
   "metadata": {},
   "source": [
    "*Codigo:*\n",
    "\n",
    "``` html\n",
    "<p>Este es un tema.</p>\n",
    "<hr/>\n",
    "<p> Este es otro tema.</p>\n",
    "```"
   ]
  },
  {
   "cell_type": "markdown",
   "metadata": {},
   "source": [
    "*Resultado:*\n",
    "<p>Este es un tema.</p>\n",
    "<hr/>\n",
    "<p> Este es otro tema.</p>"
   ]
  },
  {
   "cell_type": "markdown",
   "metadata": {},
   "source": [
    "## Elementos de texto de tipo ```inline```.\n",
    "\n",
    "Estos elementos permiten desplegar otros elmentos a su lado, incluyendo texto."
   ]
  },
  {
   "cell_type": "markdown",
   "metadata": {},
   "source": [
    "### Retorno de línea ```<br/>```.\n",
    "\n",
    "Este elemento permite insertar un retorno de línea en un elemento de tipo ```block```.\n",
    "\n",
    "**NOTA:**\n",
    "Es común que también se utilice el tag de la forma ```<br>```"
   ]
  },
  {
   "cell_type": "markdown",
   "metadata": {},
   "source": [
    "**Ejemplo:**"
   ]
  },
  {
   "cell_type": "markdown",
   "metadata": {},
   "source": [
    "*Código:*\n",
    "\n",
    "``` html\n",
    "<h1>Encabezado <br/> con retorno de línea.</h1>\n",
    "```"
   ]
  },
  {
   "cell_type": "markdown",
   "metadata": {},
   "source": [
    "*Resultado:*\n",
    "\n",
    "<h1>Encabezado <br/> con retorno de línea.</h1>"
   ]
  },
  {
   "cell_type": "markdown",
   "metadata": {},
   "source": [
    "### Itálicas con ```<i>```  y énfasis con ```<em>``` .\n",
    "\n",
    "* El elemento ```<i>``` hace que el texto contenido en este despliegue la fuente de dicho texto en itálicas.\n",
    "* El elemento ```<em>``` le indica al navegador que el texto contenido debe de ser enfatizado. Por lo general, el énfasis implica desplegar el texto en itálicas."
   ]
  },
  {
   "cell_type": "markdown",
   "metadata": {},
   "source": [
    "**Ejemplo:**"
   ]
  },
  {
   "cell_type": "markdown",
   "metadata": {},
   "source": [
    "*Código:*\n",
    "\n",
    "``` html\n",
    "<p>En este caso <i>itálica</i> es el estilo y <em>énfasis</em> el efecto.</p>\n",
    "```"
   ]
  },
  {
   "cell_type": "markdown",
   "metadata": {},
   "source": [
    "*Resultado:*\n",
    "\n",
    "<p>En este caso <i>itálicas</i> es el estilo y <em>énfasis</em> el efecto.</p>"
   ]
  },
  {
   "cell_type": "markdown",
   "metadata": {},
   "source": [
    "### Negritas con con ```<b>```  y resaltado con ```<strong>``` .\n",
    "\n",
    "* El elemento ```<b>``` hace que el texto contenido en este despliegue la fuente de dicho texto en negritas.\n",
    "* El elemento ```<strong>``` le indica al navegador que el texto contenido debe de ser resaltado. Por lo general, el resaltado implica desplegar el texto en negritas."
   ]
  },
  {
   "cell_type": "markdown",
   "metadata": {},
   "source": [
    "**Ejemplo:**"
   ]
  },
  {
   "cell_type": "markdown",
   "metadata": {},
   "source": [
    "*Código:*\n",
    "\n",
    "``` html\n",
    "<p>En este caso <b>las negritas</b> son el estilo y <strong>el resaltado</strong> el efecto.</p>\n",
    "```"
   ]
  },
  {
   "cell_type": "markdown",
   "metadata": {},
   "source": [
    "*Resultado:*\n",
    "\n",
    "<p>En este caso  <b>las negritas</b> son el estilo y <strong>el resaltado</strong> el efecto.</p>"
   ]
  },
  {
   "cell_type": "markdown",
   "metadata": {},
   "source": [
    "### Efectos con ```<ins>```,  ```<u>```, ```<del>```, ```<s>``` y ```<mark>```.\n",
    "\n",
    "* El elemento ```<ins>``` indica que el texto que contiene fue añadido. Por lo general se representa como texto subrayado.\n",
    "* El elemento ```<u>``` indica que el texto que contiene debe de estar subrayado.\n",
    "* El elemento ```<del>``` indica que el texto que contiene fue enmendado. Por lo general se representa como texto tachado.\n",
    "* El elemento ```<s>``` indica que el texto que contiene debe de estar tachado.\n",
    "* El elemento ```<mark>``` indica que el texto que contiene debe de estar marcado. Por lo general se representa como texto con color de fondo amarillo.\n",
    "\n",
    "**ADVERTENCIA:** Si este documento está siendo desplegado desde Github, es posible que el elemento ```<mark>``` no sea visible."
   ]
  },
  {
   "cell_type": "markdown",
   "metadata": {},
   "source": [
    "**Ejemplo:**"
   ]
  },
  {
   "cell_type": "markdown",
   "metadata": {},
   "source": [
    "*Código:*\n",
    "\n",
    "``` html\n",
    "<p> A veces es necesario <del>quitar</del><ins>corregir</ins> algunos textos.<br/> Podemos <s>tacharlos</s>, o quizás <u>subrayarlos</u>. <br/> O podríamos <mark>marcarlos</mark>.</p>\n",
    "```"
   ]
  },
  {
   "cell_type": "markdown",
   "metadata": {},
   "source": [
    "*Resultado:*\n",
    "\n",
    "<p> A veces es necesario <del>quitar</del><ins>corregir</ins> algunos textos.<br/> Podemos <s>tacharlos</s>, o quizás <u>subrayarlos</u>. <br/> O podríamos <mark>marcarlos</mark>.</p>"
   ]
  },
  {
   "cell_type": "markdown",
   "metadata": {},
   "source": [
    "### Superíndice ```<sup>```, subíndice ```<sub>``` y letras pequeñas ```<small>```.\n",
    "\n",
    "* El elemento ```<sup>``` indica que el texto que contiene debe de estar como superíndice.\n",
    "* El elemento ```<sub>``` indica que el texto que contiene debe de estar como  subíndice.\n",
    "* El elemento ```<small>``` indica que el texto que contiene debe de ser desplegado como letras de menor tamaño.\n",
    "\n",
    "\n",
    "**ADVERTENCIA:** Si este documento está siendo desplegado desde Github, es posible que el elemento ```<small>``` no sea visible."
   ]
  },
  {
   "cell_type": "markdown",
   "metadata": {},
   "source": [
    "**Ejemplo:**"
   ]
  },
  {
   "cell_type": "markdown",
   "metadata": {},
   "source": [
    "*Código:*\n",
    "\n",
    "``` html\n",
    "<p>En ciertos casos los <sub>subíndices</sub> y los <sup>superíndices</sup> junto con las <small>letras pequeñas</small> son de gran ayuda para entender un texto.<p>\n",
    "```"
   ]
  },
  {
   "cell_type": "markdown",
   "metadata": {},
   "source": [
    "*Resultado:*\n",
    "\n",
    "<p>En ciertos casos los <sub>subíndices</sub> y los <sup>superíndices</sup> junto con las <small>letras pequeñas</small> son de gran ayuda para entender un texto.<p>"
   ]
  },
  {
   "cell_type": "markdown",
   "metadata": {},
   "source": [
    "### Abreviaturas con ```<abbr>```.\n",
    "\n",
    "Este elemento puede incluir un texto descriptivo mediante el atributo ```title```. \n",
    "\n",
    "Cuando el puntero se posiciona sobre el texto contenido en el elemento, aparecerá una pequeña ventana con el texto del atributo ```title```."
   ]
  },
  {
   "cell_type": "markdown",
   "metadata": {},
   "source": [
    "**Ejemplo:**"
   ]
  },
  {
   "cell_type": "markdown",
   "metadata": {},
   "source": [
    "*Código:*\n",
    "\n",
    "```html\n",
    "<p>El <abbr title=\"World Wide Web Consortium\">W3C</abbr> emite el estándar de HTML.</p>\n",
    "```"
   ]
  },
  {
   "cell_type": "markdown",
   "metadata": {},
   "source": [
    "*Resultado:*\n",
    "<p>El <abbr title=\"World Wide Web Consortium\">W3C</abbr> emite el estándar de HTML.</p>"
   ]
  },
  {
   "cell_type": "markdown",
   "metadata": {},
   "source": [
    "### Definiciones en una línea con ```<dfn>```.\n",
    "\n",
    "Este elemento puede incluir un texto descriptivo mediante el atributo ```title```.\n",
    "\n",
    "Cuando el puntero se posiciona sobre el texto contenido en el elemento, aparecerá una pequeña ventana con el texto del atributo ```title```.\n",
    "\n",
    "**NOTA:** Aún cuando ```<dfn>``` y ```<abbr>``` tienen efectos similares, los navegadores los despliegan de forma distinta."
   ]
  },
  {
   "cell_type": "markdown",
   "metadata": {},
   "source": [
    "**Ejemplo:**\n",
    "\n",
    "* Se creará un párrafo con 2 elementos ```<dfn>```, pero sólo uno de ellos contendrá texto asignado al atributo ```title```.\n",
    "\n",
    "* El texto relacionado al atributo ```title```será visible al colocar el apuntador sobre el texto ```Internet```."
   ]
  },
  {
   "cell_type": "markdown",
   "metadata": {},
   "source": [
    "``` html\n",
    "<p><dfn>La web</dfn> no es <dfn title=\"Red de comunicaciones basadas en TCP/IP\">Internet.</dfn></p>\n",
    "```"
   ]
  },
  {
   "cell_type": "markdown",
   "metadata": {},
   "source": [
    "<p><dfn>La web</dfn> no es <dfn title=\"Red de comunicaciones basadas en TCP/IP\">Internet.</dfn></p>\n"
   ]
  },
  {
   "cell_type": "markdown",
   "metadata": {},
   "source": [
    "### Citas con  ```<cite>``` y ```<q>```.\n",
    "\n",
    "* El elemento ```<cite>``` se utiliza para citar a títulos de obras.\n",
    "* El elemento ```<q>``` se utiliza para citar fragmentos de una obra."
   ]
  },
  {
   "cell_type": "markdown",
   "metadata": {},
   "source": [
    "**Ejemplo:**"
   ]
  },
  {
   "cell_type": "markdown",
   "metadata": {},
   "source": [
    "*Código:*\n",
    "\n",
    "```html\n",
    "<p>La canción <cite>El Rey</cite> decía: <q>Pero sigo siendo el Rey...</q>.</p>\n",
    "```"
   ]
  },
  {
   "cell_type": "markdown",
   "metadata": {},
   "source": [
    "*Resultado:*\n",
    "\n",
    "<p>La canción <cite>El Rey</cite> decía: <q>Pero sigo siendo el Rey...</q>.</p>"
   ]
  },
  {
   "cell_type": "markdown",
   "metadata": {},
   "source": [
    "### Elementos que emulan código y entrada/salida de un programa."
   ]
  },
  {
   "cell_type": "markdown",
   "metadata": {},
   "source": [
    "* La etiqueta ```<code>``` indica que el texto contiene código.\n",
    "* La etiqueta ```<samp>``` indica que el texto contiene la salida de un programa.\n",
    "* La etiqueta ```<kbd>``` indica que el texto contiene la entrada de un programa mediante el uso del teclado.\n",
    "* La etiqueta ```<var>``` indica que el texto contiene una variable.\n",
    "\n",
    "**NOTA:** Algunos navegadores no diferencian de forma tipográfica cada uno de estos elementos."
   ]
  },
  {
   "cell_type": "markdown",
   "metadata": {},
   "source": [
    "**Ejemplo:**"
   ]
  },
  {
   "cell_type": "markdown",
   "metadata": {},
   "source": [
    "*Código:*\n",
    "\n",
    "``` html\n",
    "<p>El comando <code>print(nombre * 3)</code> da por resultado <samp>HolaHolaHola</samp> cuando se ingresa <kbd>Hola</kbd> a la variable <var>nombre</var>.</p>\n",
    "```"
   ]
  },
  {
   "cell_type": "markdown",
   "metadata": {},
   "source": [
    "*Resultado:*\n",
    "\n",
    "<p>El comando <code>print(nombre * 3)</code> da por resultado <samp>HolaHolaHola</samp> cuando se ingresa <kbd>Hola</kbd> a la variable <var>nombre</var>.</p>"
   ]
  },
  {
   "cell_type": "markdown",
   "metadata": {},
   "source": [
    "### Elementos que incluyen datos no visibles.\n",
    "\n",
    "Estos elementos fueron pensados para ofrecer datos que pueden ser consumidos por aplicaciones que escudriñan el código del documento, pero que no son visibles desde un navegador."
   ]
  },
  {
   "cell_type": "markdown",
   "metadata": {},
   "source": [
    "#### El elemento ```<data>```.\n",
    "\n",
    "Este elemento incluye el atributo ```value```, el cual no es visible para el usuario, pero sí para las aplicaciones."
   ]
  },
  {
   "cell_type": "markdown",
   "metadata": {},
   "source": [
    "**Ejemplo:**"
   ]
  },
  {
   "cell_type": "markdown",
   "metadata": {},
   "source": [
    "*Código.*\n",
    "\n",
    "```html\n",
    "<p><data value=12345>Cable de cobre de calibre 0.</data></p>\n",
    "<p><data value=12346>Cable de cobre de calibre 1.</data></p>\n",
    "<p><data value=12347>Cable de cobre de calibre 2.</data></p>\n",
    "```"
   ]
  },
  {
   "cell_type": "markdown",
   "metadata": {},
   "source": [
    "*Resultado:*\n",
    "\n",
    "<p><data value=12345>Cable de cobre de calibre 0.</data></p>\n",
    "<p><data value=12346>Cable de cobre de calibre 1.</data></p>\n",
    "<p><data value=12347>Cable de cobre de calibre 2.</data></p>"
   ]
  },
  {
   "cell_type": "markdown",
   "metadata": {},
   "source": [
    "#### El elemento ```<time>```.\n",
    "\n",
    "Este elemento indica que el texto se trata de una hora o una fecha.\n",
    "\n",
    "Si este elemento se utiiza sin atributos, el texto debe de corresponder a una hora específica utilizando un formato de 24 horas o un intervalo de tiempo medido en horas y minutos.\n",
    "\n",
    "El atributo ```datetime```, el cual no es visible para el usuario, pero sí para las aplicaciones permite indicar una fecha con diversos niveles de precisión. Para conocer los formatos de fecha compatilbles con este atributo puede consultar en https://www.w3schools.com/Tags/att_time_datetime.asp"
   ]
  },
  {
   "cell_type": "markdown",
   "metadata": {},
   "source": [
    "**Ejemplo:**"
   ]
  },
  {
   "cell_type": "markdown",
   "metadata": {},
   "source": [
    "*Código:*\n",
    "```html\n",
    "<p>El inicio de inscripciones será el día <time datetime=\"2018-10-07\"> 7 de octubre</time>.</p>\n",
    "<p>Habrá una sesión informativa a las <time>10:00</time> con una duración <time>1h 30m</time>.</p>\n",
    "```"
   ]
  },
  {
   "cell_type": "markdown",
   "metadata": {},
   "source": [
    "*Resultado:*\n",
    "\n",
    "<p>El inicio de inscripciones será el día <time datetime=\"2018-10-07\"> 7 de octubre</time>.</p>\n",
    "<p>Habrá una sesión informativa a las <time>10:00</time> con una duración <time>1h 30m</time>.</p>"
   ]
  },
  {
   "cell_type": "markdown",
   "metadata": {},
   "source": [
    "<p style=\"text-align: center\"><a rel=\"license\" href=\"http://creativecommons.org/licenses/by/4.0/\"><img alt=\"Licencia Creative Commons\" style=\"border-width:0\" src=\"https://i.creativecommons.org/l/by/4.0/80x15.png\" /></a><br />Esta obra está bajo una <a rel=\"license\" href=\"http://creativecommons.org/licenses/by/4.0/\">Licencia Creative Commons Atribución 4.0 Internacional</a>.</p>\n",
    "<p style=\"text-align: center\">&copy; José Luis Chiquete Valdivieso. 2019.</p>"
   ]
  }
 ],
 "metadata": {
  "kernelspec": {
   "display_name": "Python 3 (ipykernel)",
   "language": "python",
   "name": "python3"
  },
  "language_info": {
   "codemirror_mode": {
    "name": "ipython",
    "version": 3
   },
   "file_extension": ".py",
   "mimetype": "text/x-python",
   "name": "python",
   "nbconvert_exporter": "python",
   "pygments_lexer": "ipython3",
   "version": "3.9.7"
  }
 },
 "nbformat": 4,
 "nbformat_minor": 2
}
