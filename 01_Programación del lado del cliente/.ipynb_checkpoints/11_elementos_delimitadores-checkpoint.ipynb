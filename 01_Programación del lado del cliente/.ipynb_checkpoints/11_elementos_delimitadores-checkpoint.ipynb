{
 "cells": [
  {
   "cell_type": "markdown",
   "metadata": {},
   "source": [
    "[![imagenes/pythonista.png](imagenes/pythonista.png)](https://pythonista.io)"
   ]
  },
  {
   "cell_type": "markdown",
   "metadata": {},
   "source": [
    "# Elementos delimitadores.\n",
    "\n",
    "*HTML* incluye el uso de algunas etiquetas, las cuales permiten delimitar cierto tipo de contenidos. En este capítulo se explorarán los elmentos:\n",
    "\n",
    "* ```<div>```.\n",
    "* ```<span>```.\n",
    "* ```<colgroup>``` y ```<col>```.\n",
    "* ```<fieldset>``` y ```<legend>```.\n",
    "* ```<optgroup>```."
   ]
  },
  {
   "cell_type": "markdown",
   "metadata": {},
   "source": [
    "## El delimitador de bloque ```<div>```.\n",
    "\n",
    "El elemento ```<div>``` permite definir una porción de código dentro de un documento *HTML* la cual puede estar vacía o incluir diversos elementos tanto ```block``` como ```inline```.\n",
    "\n",
    "\n",
    "```\n",
    "<div>\n",
    "    (otros elementos)\n",
    "</div>\n",
    "```"
   ]
  },
  {
   "cell_type": "code",
   "execution_count": null,
   "metadata": {},
   "outputs": [],
   "source": [
    "%%html\n",
    "\n",
    "<h1>Este es un ejemplo del uso de &lt;div&gt;.</h1>\n",
    "<p>Parrafo 1.</p>\n",
    "<div id=\"azul\">\n",
    "    <p>Parrafo 2.</p>\n",
    "    <p>Parrafo 3.</p>\n",
    "    <p>Parrafo 4.</p>\n",
    "</div>\n",
    "<p>Parrafo 5.</p>"
   ]
  },
  {
   "cell_type": "code",
   "execution_count": null,
   "metadata": {},
   "outputs": [],
   "source": [
    "%%html\n",
    "<style>\n",
    "   #azul {\n",
    "    background-color: blue;\n",
    "    }\n",
    "</style>"
   ]
  },
  {
   "cell_type": "markdown",
   "metadata": {},
   "source": [
    "## El delimitador dentro de línea ```<span>```.\n",
    "\n",
    "El elemento ```<span>``` permite delimitar una porción de código que se encuentra en un elemento ```inline```.\n",
    "\n",
    "```\n",
    "<elemento tipo block>\n",
    "    (contenido inline)...<span>(contenido inline)</span>...(contenido inline)\n",
    "</elemento tipo block>\n",
    "```"
   ]
  },
  {
   "cell_type": "code",
   "execution_count": null,
   "metadata": {},
   "outputs": [],
   "source": [
    "%%html\n",
    "\n",
    "<h1>Este es un ejemplo del uso de &lt;div&gt; y &lt;span&gt;.</h1>\n",
    "<p>Parrafo 1.</p>\n",
    "<div id=\"azul\">\n",
    "    <p>Parrafo 2.</p>\n",
    "    <p>Parrafo <span id=\"tres\">3<span>.</p>\n",
    "    <p>Parrafo 4.</p>\n",
    "</div>\n",
    "<p>Parrafo 5.</p>"
   ]
  },
  {
   "cell_type": "code",
   "execution_count": null,
   "metadata": {},
   "outputs": [],
   "source": [
    "%%html\n",
    "<style>\n",
    "    #tres{\n",
    "        background-color: yellow;\n",
    "    }\n",
    "</style>"
   ]
  },
  {
   "cell_type": "markdown",
   "metadata": {},
   "source": [
    "## Definición de columnas en una tabla.\n",
    "\n",
    "*HTML* permite definir y delimitar conjuntos de columnas dentro de una tabla.\n",
    "\n",
    "### El elemento ```<col>```.\n",
    "\n",
    "Este elemento permite seleccionar una o más columnas dentro de una tabla.\n",
    "\n",
    "```\n",
    "<col (atributos)>\n",
    "```\n",
    "\n",
    "* El atributo ```span``` indica el número de columnas que conforman a esta selección.\n",
    "\n",
    "* El atributo  ```style``` peromote definor algunas reglas de estilo para las columnas seleccionadas.\n",
    "\n",
    "\n",
    "### El elemento ```<colgroup>```.\n",
    "\n",
    "Este es un contenedor de elementos ```<col>``` que permite definir las diferentes columnas de una tabla. El primer elemento ```<col>``` corresponde a la primera o primeras columnas de la tabla.\n",
    "\n",
    "\n",
    "### Definición de las columnas de una tabla.\n",
    "```\n",
    "<table>\n",
    "     <colgroup>\n",
    "     <col>\n",
    "     <col>\n",
    "     <col>\n",
    "     </colgroup>\n",
    "     ...\n",
    "     ...\n",
    "</table>\n",
    "```\n"
   ]
  },
  {
   "cell_type": "code",
   "execution_count": null,
   "metadata": {},
   "outputs": [],
   "source": [
    "%%html\n",
    "\n",
    "<table>\n",
    "    <colgroup>\n",
    "    <col span=\"2\", style=\"background-color: gold\">\n",
    "    <col style=\"background-color: aliceblue\">\n",
    "    </colgroup>\n",
    "    <thead>\n",
    "    <th>Primero</th><th>Segundo</th><th>Tercero</th>\n",
    "    </thead>\n",
    "    <tbody>\n",
    "        <tr>\n",
    "           <td>a</td><td>b</td><td>c</td>\n",
    "        </tr>\n",
    "        <tr>\n",
    "           <td>d</td><td>e</td><td>f</td>\n",
    "        </tr>\n",
    "    </tbody>\n",
    "</table>"
   ]
  },
  {
   "cell_type": "markdown",
   "metadata": {},
   "source": [
    "## El elemento ```<fieldset>```."
   ]
  },
  {
   "cell_type": "markdown",
   "metadata": {},
   "source": [
    "Este elemento permite delimitar y agrupar elementos ```<input>``` enmacándolos.\n",
    "\n",
    "```\n",
    "<fieldset>\n",
    "    <input>\n",
    "    <input>\n",
    "    ...\n",
    "    ...\n",
    "</fieldset>\n",
    "```"
   ]
  },
  {
   "cell_type": "markdown",
   "metadata": {},
   "source": [
    "### El elemento ```<legend>```.\n",
    "Este elemento permote desplegar un texto descriptivo para el elemento ```<fieldset>```."
   ]
  },
  {
   "cell_type": "code",
   "execution_count": null,
   "metadata": {},
   "outputs": [],
   "source": [
    "%%html\n",
    "<fieldset>\n",
    "    <legend>Datos personales:</legend>\n",
    "    <p>\n",
    "        Nombre: <input type=\"text\"><br>\n",
    "        Correo: <input type=\"text\"><br>\n",
    "        Fecha de nacimiento: <input type=\"text\">\n",
    "    </p>\n",
    "</fieldset>"
   ]
  },
  {
   "cell_type": "code",
   "execution_count": null,
   "metadata": {},
   "outputs": [],
   "source": [
    "%%html\n",
    "<style>\n",
    "    fieldset {\n",
    "        width: 60%;\n",
    "    }\n",
    "</style>"
   ]
  },
  {
   "cell_type": "markdown",
   "metadata": {},
   "source": [
    "## El elemento ```<optgroup>```.\n",
    "\n",
    "Este elemento permite agrupar elementos ```<option>``` dentro de un elemento ```<select>```.\n",
    "\n",
    "```\n",
    "<select>\n",
    "    ...\n",
    "    ...\n",
    "    <optgroup label=\"(etiqueta)\">\n",
    "        <option>\n",
    "        <option>\n",
    "    </optgroup>\n",
    "    <option>\n",
    "    ...\n",
    "    ...\n",
    "</select>\n",
    "```\n"
   ]
  },
  {
   "cell_type": "code",
   "execution_count": null,
   "metadata": {},
   "outputs": [],
   "source": [
    "%%html\n",
    "<select>\n",
    "    <optgroup label=\"Colores de temporada\">\n",
    "        <option value=\"celeste\">Celeste</option>\n",
    "        <option value=\"rosado\">Rosado</option>\n",
    "    </optgroup>\n",
    "    <optgroup label=\"Colores neutros\">\n",
    "        <option value=\"negro\">Negro</option>\n",
    "        <option value=\"blanco\">Blanco</option>\n",
    "    </optgroup>   \n",
    "</select>"
   ]
  },
  {
   "cell_type": "markdown",
   "metadata": {},
   "source": [
    "<p style=\"text-align: center\"><a rel=\"license\" href=\"http://creativecommons.org/licenses/by/4.0/\"><img alt=\"Licencia Creative Commons\" style=\"border-width:0\" src=\"https://i.creativecommons.org/l/by/4.0/80x15.png\" /></a><br />Esta obra está bajo una <a rel=\"license\" href=\"http://creativecommons.org/licenses/by/4.0/\">Licencia Creative Commons Atribución 4.0 Internacional</a>.</p>\n",
    "<p style=\"text-align: center\">&copy; José Luis Chiquete Valdivieso. 2019.</p>"
   ]
  }
 ],
 "metadata": {
  "kernelspec": {
   "display_name": "Python 3",
   "language": "python",
   "name": "python3"
  },
  "language_info": {
   "codemirror_mode": {
    "name": "ipython",
    "version": 3
   },
   "file_extension": ".py",
   "mimetype": "text/x-python",
   "name": "python",
   "nbconvert_exporter": "python",
   "pygments_lexer": "ipython3",
   "version": "3.6.3"
  }
 },
 "nbformat": 4,
 "nbformat_minor": 2
}
