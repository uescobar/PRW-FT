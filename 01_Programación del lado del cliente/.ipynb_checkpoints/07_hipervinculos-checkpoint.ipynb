{
 "cells": [
  {
   "cell_type": "markdown",
   "metadata": {},
   "source": [
    "[![imagenes/pythonista.png](imagenes/pythonista.png)](https://pythonista.io)"
   ]
  },
  {
   "cell_type": "markdown",
   "metadata": {},
   "source": [
    "Una de las características más relevantes de HTML son los hipervínculos o hiperenlaces, los cuales permiten crear referencias dentro de un documento a otros recursos publicados en la web mediante su URL."
   ]
  },
  {
   "cell_type": "markdown",
   "metadata": {},
   "source": [
    "## Hipervínculos mediante el elemento *&lt;a&gt;*.\n",
    "\n",
    "Este elemento apunta a una URL ligándola al atributo *href*. El hipervínculo se activa al hacer click sobre el contenido inline comprendido entre las etiquetas del elemento.\n",
    "\n",
    "```html\n",
    "<a href=\"(URL)\">(contenido inline)</a>\n",
    "\n",
    "```"
   ]
  },
  {
   "cell_type": "markdown",
   "metadata": {},
   "source": [
    "### URL absoluta.\n",
    "```html\n",
    "<a href=\"https://pythonista.io\">Mi sitio</a>.\n",
    "<a href=\"https://amazon.com.mx/s?k=python\">Python en <b>Amazon.</b></a>\n",
    "```\n",
    "<a href=\"https://pythonista.io\">Mi sitio</a>.\n",
    "\n",
    "<a href=\"https://amazon.com.mx/s?k=python\">Python en <b>Amazon.</b></a>"
   ]
  },
  {
   "cell_type": "markdown",
   "metadata": {},
   "source": [
    "### URL relativo.\n",
    "```html\n",
    "<a href=\".\\ejemplos/ejemplo_id_class.html\">Ejemplo de id y class.</a>\n",
    "```\n",
    "<a href=\".\\ejemplos/ejemplo_id_class.html\">Ejemplo de id y class.</a>\n",
    "\n",
    "```html\n",
    "<a href=\"..\\01_HTML/01_introduccion_a_http_y_html.ipynb\">Intro.</a>\n",
    "```\n",
    "<a href=\"..\\01_HTML/01_introduccion_a_http_y_html.ipynb\">Intro.</a>\n",
    "\n",
    "```html\n",
    "<a href=\"../../pycd101/01_HTML/imagenes/pythonista.png\">Logo.</a>\n",
    "```\n",
    "<a href=\"../../pycd101/01_HTML/imagenes/pythonista.png\">Logo.</a>"
   ]
  },
  {
   "cell_type": "markdown",
   "metadata": {},
   "source": [
    "## Acceso a un elemento dentro de un documento que cuenta con un atributo *id*.\n",
    "\n",
    "```html\n",
    "<a href=\".\\ejemplos/ejemplo_id_class.html#definiciones\">Ejemplo de id y class.</a>\n",
    "```\n",
    "<a href=\".\\ejemplos/ejemplo_id_class.html#definiciones\">Ejemplo de id y class.</a>\n",
    "\n"
   ]
  },
  {
   "cell_type": "markdown",
   "metadata": {},
   "source": [
    "\n",
    "```html\n",
    "<a href=\"https://docs.python.org/2/library/exceptions.html#exception-hierarchy\">Jerarquía de Excepciones.</a>\n",
    "```\n",
    "<a href=\"https://docs.python.org/2/library/exceptions.html#exception-hierarchy\">Jerarquía de Excepciones.</a>    "
   ]
  },
  {
   "cell_type": "markdown",
   "metadata": {},
   "source": [
    "<p style=\"text-align: center\"><a rel=\"license\" href=\"http://creativecommons.org/licenses/by/4.0/\"><img alt=\"Licencia Creative Commons\" style=\"border-width:0\" src=\"https://i.creativecommons.org/l/by/4.0/80x15.png\" /></a><br />Esta obra está bajo una <a rel=\"license\" href=\"http://creativecommons.org/licenses/by/4.0/\">Licencia Creative Commons Atribución 4.0 Internacional</a>.</p>\n",
    "<p style=\"text-align: center\">&copy; José Luis Chiquete Valdivieso. 2019.</p>"
   ]
  }
 ],
 "metadata": {
  "kernelspec": {
   "display_name": "Python 3",
   "language": "python",
   "name": "python3"
  },
  "language_info": {
   "codemirror_mode": {
    "name": "ipython",
    "version": 3
   },
   "file_extension": ".py",
   "mimetype": "text/x-python",
   "name": "python",
   "nbconvert_exporter": "python",
   "pygments_lexer": "ipython3",
   "version": "3.6.5"
  }
 },
 "nbformat": 4,
 "nbformat_minor": 2
}
