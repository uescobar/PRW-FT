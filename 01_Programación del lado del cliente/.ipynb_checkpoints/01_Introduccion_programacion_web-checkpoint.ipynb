{
 "cells": [
  {
   "cell_type": "markdown",
   "id": "54e9d558",
   "metadata": {},
   "source": [
    "### ¿Que es la Web?\n",
    "\n",
    "¿Alguna vez te has preguntado qué pensarían las futuras generaciones cuando piensen en la época en la que vivimos ahora?. Es probable que el siglo 21 detone algunas asociaciones con el advenimiento de Internet, y la World Wide Web. La creación de estas tecnologías significaron cambios mayores no solo en las estructuras militares y científicas, sino que tambien impactaron la vida de las personas ordinarias, dandono oportunidades que previamente ni siquiera imaginabamos.\n",
    "\n",
    "Muchas veces se escuchan frases como \"La World Wide Web ha engullido al mundo\", y entonces se piensa que la definición de la Web es naturalmente preasumida y dada por hecho. Pero realmente ¿qué es esta Web? y ¿cuál es su objetivo?\n",
    "\n",
    "La World Wide Web es una colección de recursos de información dispersados al rededor del mundo y ligados unos con otros por medio de referencias. Algunas veces este término es acortado usando WWW, W3 o simplemente Web.\n",
    "\n",
    "\n",
    "\n",
    "\n",
    "\n"
   ]
  },
  {
   "cell_type": "markdown",
   "id": "8b251734",
   "metadata": {},
   "source": [
    "Una unidad de datos de hipertexto sobre la W3 es llamada una página Web. Una página Web podría contener textop, archvos multimedia, gráficos y ligas a otras páginas.\n",
    "\n",
    "Un grupo de páginas web que comparten el contenido de un tema en común. diseño y ligas entre ellas se denomina un sitio Web (website). Se usan programas especiales - Navegadores-  para descargar y navegar en estos sitios web. Los navegadores más populares son: Firefox, Chrome, Opera, Safari.\n",
    "\n",
    "Comúnmente, cuando se visita un sitio web, se puede ver \"www\" en la barra de dirección en el navegador:\n",
    "\n",
    "![Barra WWW](../img/02_barraWWW.png \"Barra WWW\")\n",
    "\n",
    "Este prefijo indica que la dirección del sitio web pertenece a un espacio de internet de la World Wide Web y no es obligatorio.\n"
   ]
  },
  {
   "cell_type": "markdown",
   "id": "d51380f6",
   "metadata": {},
   "source": [
    "### La historia de la Web\n",
    "\n",
    "La World Wide Web fue creada en la  Organización Europea para la Energía Nuclear (CERN). El desarrollo de la red interna de computadoras fue llevado a cabo por [Tim Berners-Lee](https://es.wikipedia.org/wiki/Tim_Berners-Lee). En 1989, fue el primero en sugerir la idea de un sistema de información que usara ligas (links) para consolidar documentos al rededor de la red. Él y sus colegas crearon un proyecto prototipo y liberado para su presentación. En los primeros años de las páginas web éstas fueron meramente basadas en texto hasta que el primer navegador gráfico [NSCA](https://es.wikipedia.org/wiki/Mosaic) fue introducido en 1993. Este hecho permitió que la World Wide Web se transformara así misma de fines de investigación científica a un escaparate de medios.\n",
    "\n"
   ]
  }
 ],
 "metadata": {
  "kernelspec": {
   "display_name": "Python 3 (ipykernel)",
   "language": "python",
   "name": "python3"
  },
  "language_info": {
   "codemirror_mode": {
    "name": "ipython",
    "version": 3
   },
   "file_extension": ".py",
   "mimetype": "text/x-python",
   "name": "python",
   "nbconvert_exporter": "python",
   "pygments_lexer": "ipython3",
   "version": "3.9.2"
  }
 },
 "nbformat": 4,
 "nbformat_minor": 5
}
