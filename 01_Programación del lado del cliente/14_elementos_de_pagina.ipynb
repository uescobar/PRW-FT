{
 "cells": [
  {
   "cell_type": "markdown",
   "metadata": {},
   "source": [
    "[![imagenes/pythonista.png](imagenes/pythonista.png)](https://pythonista.io)"
   ]
  },
  {
   "cell_type": "markdown",
   "metadata": {},
   "source": [
    "## Elementos semánticos.\n",
    "Con la experiencia en el diseño de páginas web, se han identificado ciertas secciones dentro de un documento que se utilizan constantemente, por lo que en lugar de utilizar ```<div>``` e ```id```, se les asignó su propio elemento."
   ]
  },
  {
   "cell_type": "markdown",
   "metadata": {},
   "source": [
    "![imagenes/img_sem_elements.gif](imagenes/img_sem_elements.gif)\n",
    "\n",
    "Fuente: https://www.w3schools.com/html/html5_semantic_elements.asp"
   ]
  },
  {
   "cell_type": "markdown",
   "metadata": {},
   "source": [
    "Estos elementos son:\n",
    "\n",
    "* ```<header>```\n",
    "* ```<main>```\n",
    "* ```<footer>```\n",
    "* ```<nav>```\n",
    "* ```<section>```\n",
    "* ```<summary>```\n",
    "* ```<article>```\n",
    "* ```<aside>```\n",
    "* ```<details>```\n",
    "* ```<figure>```\n",
    "* ```<figcaption>```"
   ]
  },
  {
   "cell_type": "markdown",
   "metadata": {},
   "source": [
    "<p style=\"text-align: center\"><a rel=\"license\" href=\"http://creativecommons.org/licenses/by/4.0/\"><img alt=\"Licencia Creative Commons\" style=\"border-width:0\" src=\"https://i.creativecommons.org/l/by/4.0/80x15.png\" /></a><br />Esta obra está bajo una <a rel=\"license\" href=\"http://creativecommons.org/licenses/by/4.0/\">Licencia Creative Commons Atribución 4.0 Internacional</a>.</p>\n",
    "<p style=\"text-align: center\">&copy; José Luis Chiquete Valdivieso. 2019.</p>"
   ]
  }
 ],
 "metadata": {
  "kernelspec": {
   "display_name": "Python 3 (ipykernel)",
   "language": "python",
   "name": "python3"
  },
  "language_info": {
   "codemirror_mode": {
    "name": "ipython",
    "version": 3
   },
   "file_extension": ".py",
   "mimetype": "text/x-python",
   "name": "python",
   "nbconvert_exporter": "python",
   "pygments_lexer": "ipython3",
   "version": "3.9.7"
  }
 },
 "nbformat": 4,
 "nbformat_minor": 2
}
