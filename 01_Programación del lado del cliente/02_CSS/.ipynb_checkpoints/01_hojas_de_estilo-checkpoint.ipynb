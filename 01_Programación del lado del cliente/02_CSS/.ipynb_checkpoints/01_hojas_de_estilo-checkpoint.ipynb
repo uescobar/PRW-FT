{
 "cells": [
  {
   "cell_type": "markdown",
   "metadata": {},
   "source": [
    "[![imagenes/pythonista.png](imagenes/pythonista.png)](https://pythonista.io)"
   ]
  },
  {
   "cell_type": "markdown",
   "metadata": {},
   "source": [
    "Desde las primeras versiones de *HTML* era posible modificar la forma en la que un elemento se podía ver o comportar mediante la asignación de ciertos atributos, de tal forma que su tamaño, color, o posición podía ser modificado. A esto se le conoce como estilo."
   ]
  },
  {
   "cell_type": "markdown",
   "metadata": {},
   "source": [
    "## Las hojas de estilo en cascada o *CSS*.\n",
    "\n",
    "En vista de que el uso de la web se ha ido generalizando y la forma en la que la información de un documento *HTML* puede ser desplegada en dispositivos de diversas índoles, la *W3C* ha publicado la especificación de las hojas de estilo en cascada (*CSS*).\n",
    "\n",
    "El objetivo de las hojas de estilo es el de separar el contenido (*HTML* e incluso *XML*) de su presentación (*CSS*), permitiendo crear diversas formas de desplegar el mismo contenido tanto para mejorar la experiencia de los usuarios como para adaptar el contenido a dispositivos, navegadores y medios específicos.\n",
    "\n",
    "El sitio de la *W3C* para la especificación de *CSS* se encuentra en https://www.w3.org/Style/CSS/."
   ]
  },
  {
   "cell_type": "markdown",
   "metadata": {},
   "source": [
    "## Reglas de estilo.\n",
    "\n",
    "Las hojas de estilo en cascada consisten una serie de \"reglas de estilo\", las cuales se aplican a un \"selector\" definiendo ciertas \"propiedades\" de los elementos que coincidan con el criterio del selector.\n",
    "\n",
    "Si no existiera una regla específica, un elemento heredaría las propiedades aplicables del elemento que lo contiene.\n",
    "\n",
    "Una propiedad puede tener uno o más valores.\n",
    "\n",
    "La sintaxis de las reglas de estilo es la siguiente.\n",
    "\n",
    "```\n",
    "<selector> {\n",
    "<propiedad_1>: <valor 11> <valor 12> ... <valor 1n>;\n",
    "<propiedad_2>: <valor 21> <valor 22> ... <valor 2n>;\n",
    "...\n",
    "...\n",
    "<propiedad_n>: <valor n1> <valor n2> ... <valor nn>;\n",
    "}\n",
    "```\n",
    "\n",
    "En caso de que sólo sea una regla de *CSS* se puede usar la siguente sintaxis:\n",
    "\n",
    "```\n",
    "<selector> {<propiedad>: <valor 1> <valor 2> ... <valor n>}\n",
    "```"
   ]
  },
  {
   "cell_type": "markdown",
   "metadata": {},
   "source": [
    "**Ejemplo:**\n",
    "\n",
    "Las siguientes reglas de estilo definen el tamaño de la fuente tipográfica de todos los elementos ```<p>``` de un documento *HTML*.\n",
    "\n",
    "```CSS\n",
    "p {\n",
    "     font-size: 2em;\n",
    "   }\n",
    "```\n",
    "\n",
    "o\n",
    "\n",
    "```CSS\n",
    "p {font-size: 2em}\n",
    "```"
   ]
  },
  {
   "cell_type": "markdown",
   "metadata": {},
   "source": [
    "## Inclusión de hojas de estilo  en un documento *HTML*.\n",
    "\n",
    "Hay dos formas principales de aplicar las reglas de estilo en un documento *HTML*."
   ]
  },
  {
   "cell_type": "markdown",
   "metadata": {},
   "source": [
    "### El elemento ```<style>```.\n",
    "\n",
    "Es posible incluir elementos de tipo ```<style>``` en un documento *HTML*, de tal forma que las reglas se apliquen al propio documento.\n",
    "\n",
    "Aún cuando pueden incluirse varios elementos ```<style>``` en un documento, se sugiere insertar uno sólo que contenga todas las reglas de dicho doucmento dentro del elemento ```<head>```."
   ]
  },
  {
   "cell_type": "markdown",
   "metadata": {},
   "source": [
    "**Ejemplo:**\n",
    "\n",
    "El documento [```ejemplos/hola_mundo.html```](ejemplos/hola_mundo.html) contiene el siguiente código el cual modifica el color de los elementos ```<p>```:\n",
    "\n",
    "``` html\n",
    "<!DOCTYPE html>\n",
    "<html>\n",
    "    <head>\n",
    "        <title>Hola, mundo</title>\n",
    "        <style>\n",
    "            p {color: blue}\n",
    "        </style>\n",
    "    </head>\n",
    "    <body>\n",
    "        <p>Hola, mundo.</p>\n",
    "    </body>\n",
    "</html>\n",
    "```"
   ]
  },
  {
   "cell_type": "markdown",
   "metadata": {},
   "source": [
    "### Referencia a un documento con extensión ```.css```.\n",
    "\n",
    "Incluir las reglas de estilo en cada documento *HTML* tiene la gran desventaja de que en el caso de sitios con múltiples documentos, sería necesario modificar el código de cada documentos si se quisiera cambiar una regla.\n",
    "\n",
    "Para facilitar la dispersión de reglas de estilo en un sitio se puede optar por crear un documento con extensión ```.css```, el cual incluiría las reglas aplicables a mútliples documentos *HTML*, los cuales harían la referencia mediante un elemento ```<link>``` de la siguiente forma:\n",
    "\n",
    "```\n",
    "<link rel=\"stylesheet\" type=\"text/css\" href=\"(documento con extensión .css)\">\n",
    "```"
   ]
  },
  {
   "cell_type": "markdown",
   "metadata": {},
   "source": [
    "**Ejemplo:**\n",
    "\n",
    "El documento [```ejemplos/hola_mundo_link.html```](ejemplos/hola_mundo_link.html) contiene el siguiente código:\n",
    "\n",
    "``` html\n",
    "<!DOCTYPE html>\n",
    "<html>\n",
    "    <head>\n",
    "        <title>Hola, mundo</title>\n",
    "        <link rel=\"stylesheet\" type=\"text/css\" href=\"hola_mundo.css\">\n",
    "\n",
    "    </head>\n",
    "    <body>\n",
    "        <p>Hola, mundo.</p>\n",
    "    </body>\n",
    "</html>\n",
    "```\n",
    "El cual hace referencia al archivo [```ejemplos/hola_mundo.css```](ejemplos/hola_mundo.css) y contiene el siguiente código:\n",
    "\n",
    "```html\n",
    "p {color: blue}\n",
    "```\n",
    "\n",
    "El efecto del enlace es idéntico al del documento  [```ejemplos/hola_mundo.html```](ejemplos/hola_mundo.html)."
   ]
  },
  {
   "cell_type": "markdown",
   "metadata": {},
   "source": [
    "## El sitio *CSS Zen Garden*.\n",
    "\n",
    "Este sito fomenta la participación de diseñadores para mostrar el modo  en el que se puede mostrar un documento *HTML* básico, logrando presentaciones y aspectos espectaculares. Puede ser consultado en http://www.csszengarden.com"
   ]
  },
  {
   "cell_type": "markdown",
   "metadata": {},
   "source": [
    "<p style=\"text-align: center\"><a rel=\"license\" href=\"http://creativecommons.org/licenses/by/4.0/\"><img alt=\"Licencia Creative Commons\" style=\"border-width:0\" src=\"https://i.creativecommons.org/l/by/4.0/80x15.png\" /></a><br />Esta obra está bajo una <a rel=\"license\" href=\"http://creativecommons.org/licenses/by/4.0/\">Licencia Creative Commons Atribución 4.0 Internacional</a>.</p>\n",
    "<p style=\"text-align: center\">&copy; José Luis Chiquete Valdivieso. 2019.</p>"
   ]
  }
 ],
 "metadata": {
  "kernelspec": {
   "display_name": "Python 3",
   "language": "python",
   "name": "python3"
  },
  "language_info": {
   "codemirror_mode": {
    "name": "ipython",
    "version": 3
   },
   "file_extension": ".py",
   "mimetype": "text/x-python",
   "name": "python",
   "nbconvert_exporter": "python",
   "pygments_lexer": "ipython3",
   "version": "3.6.5"
  }
 },
 "nbformat": 4,
 "nbformat_minor": 2
}
