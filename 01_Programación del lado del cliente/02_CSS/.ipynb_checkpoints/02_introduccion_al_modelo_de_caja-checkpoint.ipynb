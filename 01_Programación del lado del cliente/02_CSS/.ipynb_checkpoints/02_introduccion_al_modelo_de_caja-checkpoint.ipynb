{
 "cells": [
  {
   "cell_type": "markdown",
   "metadata": {},
   "source": [
    "[![imagenes/pythonista.png](imagenes/pythonista.png)](https://pythonista.io)"
   ]
  },
  {
   "cell_type": "markdown",
   "metadata": {},
   "source": [
    "# Introducción al modelo de caja."
   ]
  },
  {
   "cell_type": "markdown",
   "metadata": {},
   "source": [
    "## Propiedades.\n",
    "\n",
    "https://www.w3.org/Style/CSS/all-properties.en.html"
   ]
  },
  {
   "cell_type": "markdown",
   "metadata": {},
   "source": [
    "## El modelo de caja."
   ]
  },
  {
   "cell_type": "markdown",
   "metadata": {},
   "source": [
    "El modelo de caja es una metáfora sobre la cual practicamente todos los elementos de un documento *HTML* se basan.\n",
    "\n",
    "El modelo de caja define las características básicas de un elemento con respecto a si mismo y al elemento que lo contiene:\n",
    "\n",
    "La caja está conformada por:\n",
    "\n",
    "* El contenido del elemento el cual debe de tener ancho (```width```) y alto (```height```).\n",
    "* El espaciado interior (```padding```), el cual corresponde al espacio entre el contenido del elemento y su borde.\n",
    "* El borde (```border```) del elemento, el cual corresponde a una línea perimetral que delimita al elemento, incluyendo su ```padding```.  \n",
    "* El margen  (```margin```) de un elemento, que corresponde al espacio que existe entre el borde de un elemento y el elemento que lo contiene."
   ]
  },
  {
   "cell_type": "markdown",
   "metadata": {},
   "source": [
    "**Ejemplo:**\n",
    "\n",
    "Esta imagen representa el modelo de caja de un elemento desplegado por el inspector de elementos de Firefox. \n",
    "\n",
    "![imagenes/caja.png](imagenes/caja.png)\n",
    "\n",
    "* Al centro se aprecia el espacio que ocupa el elemento en color azul claro.\n",
    "* El área morada corresponde al espaciado interior del elemento.\n",
    "* El recuadro que enmarca al área morada es el borde del elemento.\n",
    "* El área amarilla corresponde al margen del elemento."
   ]
  },
  {
   "cell_type": "markdown",
   "metadata": {},
   "source": [
    "## Orientación relativa:\n",
    "\n",
    "Siendo que los elementos de un documento *HTML* son objetos de dos dimensiones, se pueden definir su orientación como:\n",
    "\n",
    "* ```left``` para indicar que se refiere al atributo de un componente a la izquierda.\n",
    "* ```right``` para indicar que se refiere al atributo de un componente a la derecha.\n",
    "* ```top``` para indicar que se refiere al atributo de un componente en la parte superior.\n",
    "* ```bottom``` para indicar que se refiere al atributo de un componente en la parte inferior.\n",
    "\n",
    "De esta forma, las superficies como ```margin```, ```padding```  pueden tener dimesiones distintas para cada lado."
   ]
  },
  {
   "cell_type": "markdown",
   "metadata": {},
   "source": [
    "**Ejemplos:**\n",
    "\n",
    "* ```border-left``` se refiere a la línea vertical que forma la parte izquierda del borde.\n",
    "* ```padding-top``` se refiere a la parte superior del ```padding```.\n",
    "* ```margin-bottom``` se refiere a la parte inferios del margen.\n",
    "* ```right``` se refiere a la parte derecha del elemento contenedor."
   ]
  },
  {
   "cell_type": "markdown",
   "metadata": {},
   "source": [
    "## Propiedades comunes.\n",
    "\n",
    "Prácticamente todos los elementos de un documento *HTML* tienen las siguientes propiedades comunes:\n",
    "\n",
    "* ```width```,  el cual corresponde al ancho del elemento. En el caso de componentes lineales como ```border``` se refiere al ancho de la línea.\n",
    "* ```height```, el cual correspode a la altura de un elemento.\n",
    "* ```color```, el cual corresponde al color del texto del elemento. En el caso de componentes lineales como ```border``` se refiere al color de la línea.\n",
    "* ```background```, el cual corresponde a las características del trasfondo del elemento.\n",
    "    * ```background-color``` es uno de los atributos más comunes de ```background```.\n",
    "* ```style```, el cual corresponde a une estilo de un atributo de texto o de línea, dependiendo del caso.\n"
   ]
  },
  {
   "cell_type": "markdown",
   "metadata": {},
   "source": [
    "**Ejemplo:**"
   ]
  },
  {
   "cell_type": "markdown",
   "metadata": {},
   "source": [
    "* Se creará un elemento ```<div>``` asignándole el atributo ```class=\"contenedor\"```.\n",
    "* Dentro del primer elemento ```<div>``` se creará otro elemento ```<div>``` el cual contiene texto y al cual se le asignará el atributo ```id=\"ejemplo_2-1\"```."
   ]
  },
  {
   "cell_type": "code",
   "execution_count": null,
   "metadata": {},
   "outputs": [],
   "source": [
    "%%html\n",
    "<div class=\"contenedor\">\n",
    "    <div id=\"ejemplo_2-1\">Hola</div>\n",
    "</div>"
   ]
  },
  {
   "cell_type": "markdown",
   "metadata": {},
   "source": [
    "Se crearán las siguientes reglas de estilo para la clase ```.contenedor```:\n",
    "* Ancho y alto de  ```200px```.\n",
    "* El color de fondo es ```skyblue```.\n",
    "* El borde es tipo ```solid``` y de color ```black```."
   ]
  },
  {
   "cell_type": "code",
   "execution_count": null,
   "metadata": {},
   "outputs": [],
   "source": [
    "%%html\n",
    "<style>\n",
    "    .contenedor{\n",
    "        width: 200px;\n",
    "        height: 200px;\n",
    "        background-color: skyblue;\n",
    "        border-style: solid;\n",
    "        border-color: black;\n",
    "            }\n",
    "</style>"
   ]
  },
  {
   "cell_type": "markdown",
   "metadata": {},
   "source": [
    "Se crearán las siguientes reglas de estilo para el identificador ```#ejemplo_2-1```:\n",
    "* Ancho y alto de  ```100px```.\n",
    "* El color del contenido es ```red```.\n",
    "* ```margin``` y ```padding``` tienen un valor de ```20px```;\n",
    "* El borde es de tipo ```solid``` y de color ```grey```.\n",
    "* El color de fondo es ```aliceblue```."
   ]
  },
  {
   "cell_type": "code",
   "execution_count": null,
   "metadata": {},
   "outputs": [],
   "source": [
    "%%html\n",
    "<style>\n",
    "    #ejemplo_2-1{\n",
    "        width: 50px;\n",
    "        height: 50px;\n",
    "        color: red;\n",
    "        margin: 50px 50px 50px 50px;\n",
    "        padding-left: 10px;\n",
    "        border-color: grey;\n",
    "        border-style: solid;\n",
    "        background-color: aliceblue;\n",
    "            }\n",
    "</style>"
   ]
  },
  {
   "cell_type": "markdown",
   "metadata": {},
   "source": [
    "<p style=\"text-align: center\"><a rel=\"license\" href=\"http://creativecommons.org/licenses/by/4.0/\"><img alt=\"Licencia Creative Commons\" style=\"border-width:0\" src=\"https://i.creativecommons.org/l/by/4.0/80x15.png\" /></a><br />Esta obra está bajo una <a rel=\"license\" href=\"http://creativecommons.org/licenses/by/4.0/\">Licencia Creative Commons Atribución 4.0 Internacional</a>.</p>\n",
    "<p style=\"text-align: center\">&copy; José Luis Chiquete Valdivieso. 2019.</p>"
   ]
  }
 ],
 "metadata": {
  "kernelspec": {
   "display_name": "Python 3",
   "language": "python",
   "name": "python3"
  },
  "language_info": {
   "codemirror_mode": {
    "name": "ipython",
    "version": 3
   },
   "file_extension": ".py",
   "mimetype": "text/x-python",
   "name": "python",
   "nbconvert_exporter": "python",
   "pygments_lexer": "ipython3",
   "version": "3.7.3"
  }
 },
 "nbformat": 4,
 "nbformat_minor": 2
}
