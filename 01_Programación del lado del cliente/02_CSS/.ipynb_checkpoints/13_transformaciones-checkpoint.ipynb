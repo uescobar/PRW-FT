{
 "cells": [
  {
   "cell_type": "markdown",
   "metadata": {},
   "source": [
    "[![imagenes/pythonista.png](imagenes/pythonista.png)](https://pythonista.io)"
   ]
  },
  {
   "cell_type": "markdown",
   "metadata": {},
   "source": [
    "# Transformaciones con CSS."
   ]
  },
  {
   "cell_type": "markdown",
   "metadata": {},
   "source": [
    "## Preliminares.\n",
    "\n",
    "Antes de iniciar se definirán las clases ```contenedor``` y ```contenido``` de la siguiente forma:"
   ]
  },
  {
   "cell_type": "code",
   "execution_count": null,
   "metadata": {},
   "outputs": [],
   "source": [
    "%%html\n",
    "\n",
    "<style>\n",
    "    .contenedor {\n",
    "       margin-top: 60px;\n",
    "       margin-left: 60px;\n",
    "       width: 200px;\n",
    "       height:200px;\n",
    "       background-color:#e9f0f2;\n",
    "    }\n",
    "    \n",
    "     .contenido {\n",
    "        background-color:gold;\n",
    "        width: 100px;\n",
    "        height: 100px;\n",
    "        color:red; \n",
    "        }\n",
    "</style>"
   ]
  },
  {
   "cell_type": "code",
   "execution_count": null,
   "metadata": {},
   "outputs": [],
   "source": [
    "%%html\n",
    "<div class=\"contenedor\">\n",
    "    <div class=\"contenido\">texto</div>\n",
    "</div>"
   ]
  },
  {
   "cell_type": "markdown",
   "metadata": {},
   "source": [
    "## Transformaciones con CSS.\n",
    "\n",
    "Las hojas de estilo cuentan con la propiedad ```transform```, la cual permite transformar elementos mediante el uso de diversos métodos.\n",
    "\n",
    "```\n",
    "tansform <método 1>(<argumentos 1>) <método 2>(<argumentos 2>)... <metodo n>(<argumentos n>);\n",
    "```\n",
    "\n",
    "Cabe recordar que aún cuando el modelo de caja define elementos en 2 dimensiones, el navegador puede identificar una tercera dimensión.\n",
    "\n",
    "### Listado de métodos aplicables de  ```transfrom```.\n",
    "\n",
    "\n",
    "* ```matrix()```.\n",
    "* ```translate()``` del que derivan:\n",
    "    * ```translateX()```.\n",
    "    * ```translateY()```.\n",
    "* ```scale()``` del que derivan:\n",
    "    * ```scaleX()```.\n",
    "    * ```scaleY()```.\n",
    "* ```skew()``` del que derivan:\n",
    "    * ```skewX()```.\n",
    "    * ```skewY()```.\n",
    "* ```rotate()``` del que derivan:\n",
    "    * ```rotateX()```.\n",
    "    * ```rotateY()```.\n",
    "    * ```rotateZ()```\n",
    "\n",
    "La sintaxis es la siguiente:\n",
    "```\n",
    "<selector>{\n",
    "transform: <método>(<atributos>);\n",
    "}\n",
    "```"
   ]
  },
  {
   "cell_type": "markdown",
   "metadata": {},
   "source": [
    "### El método ```translate()```.\n",
    "\n",
    "Este método, así como sus derivados permiten trasladar la posición de un elemento.\n",
    "\n",
    "\n",
    "```\n",
    "transform translate(<desplazamiento x>, <desplazamiento y>);\n",
    "```"
   ]
  },
  {
   "cell_type": "code",
   "execution_count": null,
   "metadata": {
    "scrolled": false
   },
   "outputs": [],
   "source": [
    "%%html\n",
    "<style>\n",
    "    #ejemplo_13-1 {transform: translate(100px, -50px)}\n",
    "</style>\n",
    "\n",
    "<div class=\"contenedor\">\n",
    "    <div class=\"contenido\" id=\"ejemplo_13-1\">texto</div>\n",
    "</div>"
   ]
  },
  {
   "cell_type": "markdown",
   "metadata": {},
   "source": [
    "### Los métodos ```translateX()``` y ```translateX()```.\n",
    "\n",
    "* El método ```translateX()``` desplaza a un elemento de forma horizontal en la magnitud indicada.\n",
    "* El método ```translateY()``` desplaza a un elemento de forma vertical en la magnitud indicada."
   ]
  },
  {
   "cell_type": "code",
   "execution_count": null,
   "metadata": {
    "scrolled": false
   },
   "outputs": [],
   "source": [
    "%%html\n",
    "<style>\n",
    "    #ejemplo_13-2 {transform: translateX(-30px) translateY(-50px)}\n",
    "</style>\n",
    "\n",
    "<div class=\"contenedor\">\n",
    "    <div class=\"contenido\" id=\"ejemplo_13-2\">texto</div>\n",
    "</div>"
   ]
  },
  {
   "cell_type": "markdown",
   "metadata": {},
   "source": [
    "### El método ```scale()```.\n",
    "\n",
    "Este método, así como sus derivados permiten aumentar o disminuir el tamaño de un elemento en una proporción que en la que ```0``` es la mínima expresión y ```1``` es la escala original del elemento.\n",
    "\n",
    "El origen de la escala es la parte media del elemento.\n",
    "\n",
    "\n",
    "```\n",
    "transform scale(<magnitud x>, <magnitud y>);\n",
    "```"
   ]
  },
  {
   "cell_type": "code",
   "execution_count": null,
   "metadata": {
    "scrolled": false
   },
   "outputs": [],
   "source": [
    "%%html\n",
    "<style>\n",
    "    #ejemplo_13-3 {transform: scale(1, -1.8)}\n",
    "</style>\n",
    "\n",
    "<div class=\"contenedor\">\n",
    "    <div class=\"contenido\" id=\"ejemplo_13-3\">texto</div>\n",
    "</div>"
   ]
  },
  {
   "cell_type": "markdown",
   "metadata": {},
   "source": [
    "### Los métodos ```scaleX()``` y ```scaleY()```.\n",
    "\n",
    "* El método ```scaleX()``` escala a un elemento de forma horizontal en la proporción indicada.\n",
    "* El método ```scaleY()``` escala a un elemento de forma vertical en la proporción indicada."
   ]
  },
  {
   "cell_type": "code",
   "execution_count": null,
   "metadata": {
    "scrolled": false
   },
   "outputs": [],
   "source": [
    "%%html\n",
    "<style>\n",
    "    #ejemplo_13-4 {transform: scaleX(0.75) scaleY(1.2)}\n",
    "</style>\n",
    "\n",
    "<div class=\"contenedor\">\n",
    "    <div class=\"contenido\" id=\"ejemplo_13-4\">texto</div>\n",
    "</div>"
   ]
  },
  {
   "cell_type": "markdown",
   "metadata": {},
   "source": [
    "### El método ```skew()```.\n",
    "\n",
    "Este método, así como sus derivados permiten crear un efectio de inclinación axial en un elemento definiendo un ángulo expresado en: \n",
    "* grados ```deg```.\n",
    "* radianes ```rad```.\n",
    "* gradianes ```grad```.\n",
    "\n",
    "```\n",
    "transform skew(<ángulo x>, <ángulo >);\n",
    "```"
   ]
  },
  {
   "cell_type": "code",
   "execution_count": null,
   "metadata": {
    "scrolled": false
   },
   "outputs": [],
   "source": [
    "%%html\n",
    "<style>\n",
    "    #ejemplo_13-5 {transform: skew(15deg, 20deg)}\n",
    "</style>\n",
    "\n",
    "<div class=\"contenedor\">\n",
    "    <div class=\"contenido\" id=\"ejemplo_13-5\">texto</div>\n",
    "</div>"
   ]
  },
  {
   "cell_type": "markdown",
   "metadata": {},
   "source": [
    "### Los métodos ```skewX()``` y ```skewY()``` .\n",
    "\n",
    "* El método ```skewX()``` inclina a un elemento de forma horizontal en el ángulo indicado.\n",
    "* El método ```skewY()``` inclina a un elemento de forma vertical en el ángulo indicado."
   ]
  },
  {
   "cell_type": "code",
   "execution_count": null,
   "metadata": {
    "scrolled": true
   },
   "outputs": [],
   "source": [
    "%%html\n",
    "<style>\n",
    "    #ejemplo_13-6 {transform: skewX(15deg) skewY(20deg)}\n",
    "</style>\n",
    "\n",
    "<div class=\"contenedor\">\n",
    "    <div class=\"contenido\" id=\"ejemplo_13-6\">texto</div>\n",
    "</div>"
   ]
  },
  {
   "cell_type": "markdown",
   "metadata": {},
   "source": [
    "### El método ```matrix()```.\n",
    "\n",
    "Este método permite crear una matriz de transformación usando la siguiente sintaxis:\n",
    "\n",
    "```\n",
    "transform: matrix (<escala x>, <ángulo y>, <ángulo x>, <escala y>, <desplazamiento x>, <desplazamiento y>);\n",
    "```"
   ]
  },
  {
   "cell_type": "code",
   "execution_count": null,
   "metadata": {
    "scrolled": false
   },
   "outputs": [],
   "source": [
    "%%html\n",
    "<style>\n",
    "    #ejemplo_13-7 {transform: matrix(-1, 0.5, 0.5, -0.75, 50, 50)}\n",
    "</style>\n",
    "\n",
    "<div class=\"contenedor\">\n",
    "    <div class=\"contenido\" id=\"ejemplo_13-7\">texto</div>\n",
    "</div>"
   ]
  },
  {
   "cell_type": "markdown",
   "metadata": {},
   "source": [
    "### El método ```rotate()```.\n",
    "\n",
    "Este método permite rotar un elemento en el ángulo indicado en el sentido de las manecillas del reloj.\n",
    "\n",
    "```\n",
    "transform rotate(<ángulo>;\n",
    "```"
   ]
  },
  {
   "cell_type": "code",
   "execution_count": null,
   "metadata": {
    "scrolled": false
   },
   "outputs": [],
   "source": [
    "%%html\n",
    "<style>\n",
    "    #ejemplo_13-8 {\n",
    "        background-color:gold;\n",
    "        transform: rotate(45deg); \n",
    "        }\n",
    "</style>\n",
    "\n",
    "<div class=\"contenedor\">\n",
    "    <div class=\"contenido\" id=\"ejemplo_13-8\">texto</div>\n",
    "</div>"
   ]
  },
  {
   "cell_type": "markdown",
   "metadata": {},
   "source": [
    "### Métodos de rotaciónes en 3D.\n",
    "\n",
    "La propiedad ```transform``` permite rotar ujn elemento tridimensionalmente en los ejes ```x```, ```y``` y ```z```.\n",
    "\n",
    "* ```rotateX()```\n",
    "* ```rotateY()```\n",
    "* ```rotateZ()```"
   ]
  },
  {
   "cell_type": "code",
   "execution_count": null,
   "metadata": {
    "scrolled": true
   },
   "outputs": [],
   "source": [
    "%%html\n",
    "<style>\n",
    "    #ejemplo_13-9 {transform: rotateX(15deg) rotateY(25deg) rotateZ(15deg)} \n",
    "    \n",
    "    .contenedor {\n",
    "        margin-left:60px;\n",
    "    }\n",
    "</style>\n",
    "\n",
    "<div class=\"contenedor\">\n",
    "    <div class=\"contenido\" id=\"ejemplo_13-9\">texto</div>\n",
    "</div>"
   ]
  },
  {
   "cell_type": "markdown",
   "metadata": {},
   "source": [
    "##  El atributo ```perspective```.\n",
    "\n",
    "Este atributo permite crear un efecto de perspectiva al cual se pueden ajustar los contenidos de dicho elemento."
   ]
  },
  {
   "cell_type": "code",
   "execution_count": null,
   "metadata": {},
   "outputs": [],
   "source": [
    "%%html\n",
    "<style>\n",
    "    #ejemplo_13-10 {\n",
    "        transform: rotateX(5deg) rotateY(5deg) rotateZ(5deg);\n",
    "            }\n",
    "    \n",
    "    .contenedor {\n",
    "        margin-left:60px;\n",
    "        perspective: 100px; \n",
    "    }\n",
    "</style>\n",
    "<div class=\"contenedor\">\n",
    "    <div class=\"contenido\" id=\"ejemplo_13-10\">texto</div>\n",
    "</div>"
   ]
  },
  {
   "cell_type": "markdown",
   "metadata": {},
   "source": [
    "## La propiedad ```transform-style```.\n",
    "\n",
    "Esta propiedad permite definir el comportamiento de un elemento que es tranformado tridimensionalmente.\n",
    "\n",
    "* ```flat```.\n",
    "* ```preserve-3d```."
   ]
  },
  {
   "cell_type": "code",
   "execution_count": null,
   "metadata": {},
   "outputs": [],
   "source": [
    "%%html\n",
    "<style>\n",
    "    #ejemplo_13-11 {\n",
    "        transform: rotateX(15deg) rotateY(15deg) rotateZ(15deg);\n",
    "        transform-style: preserve-3d;\n",
    "            }\n",
    "    \n",
    "    .contenedor {\n",
    "        margin-left:60px;\n",
    "        perspective: 800px; \n",
    "    }\n",
    "</style>\n",
    "<div class=\"contenedor\">\n",
    "    <div class=\"contenido\" id=\"ejemplo_13-11\">texto</div>\n",
    "</div>"
   ]
  },
  {
   "cell_type": "markdown",
   "metadata": {},
   "source": [
    "<p style=\"text-align: center\"><a rel=\"license\" href=\"http://creativecommons.org/licenses/by/4.0/\"><img alt=\"Licencia Creative Commons\" style=\"border-width:0\" src=\"https://i.creativecommons.org/l/by/4.0/80x15.png\" /></a><br />Esta obra está bajo una <a rel=\"license\" href=\"http://creativecommons.org/licenses/by/4.0/\">Licencia Creative Commons Atribución 4.0 Internacional</a>.</p>\n",
    "<p style=\"text-align: center\">&copy; José Luis Chiquete Valdivieso. 2019.</p>"
   ]
  }
 ],
 "metadata": {
  "kernelspec": {
   "display_name": "Python 3",
   "language": "python",
   "name": "python3"
  },
  "language_info": {
   "codemirror_mode": {
    "name": "ipython",
    "version": 3
   },
   "file_extension": ".py",
   "mimetype": "text/x-python",
   "name": "python",
   "nbconvert_exporter": "python",
   "pygments_lexer": "ipython3",
   "version": "3.6.5"
  }
 },
 "nbformat": 4,
 "nbformat_minor": 2
}
