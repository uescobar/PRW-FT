{
 "cells": [
  {
   "cell_type": "markdown",
   "metadata": {},
   "source": [
    "[![imagenes/pythonista.png](imagenes/pythonista.png)](https://pythonista.io)"
   ]
  },
  {
   "cell_type": "markdown",
   "metadata": {},
   "source": [
    "# Transiciones y animaciones con CSS."
   ]
  },
  {
   "cell_type": "markdown",
   "metadata": {},
   "source": [
    "## Preliminar."
   ]
  },
  {
   "cell_type": "markdown",
   "metadata": {},
   "source": [
    "### La clase contenedor."
   ]
  },
  {
   "cell_type": "code",
   "execution_count": null,
   "metadata": {},
   "outputs": [],
   "source": [
    "%%html\n",
    "\n",
    "<style>\n",
    "    .contenedor {\n",
    "       margin-top: 60px;\n",
    "       margin-left: 60px;\n",
    "       width: 200px;\n",
    "       height:200px;\n",
    "       background-color:#e9f0f2;\n",
    "    }\n",
    "</style>"
   ]
  },
  {
   "cell_type": "markdown",
   "metadata": {},
   "source": [
    "# Transiciones.\n",
    "\n",
    "Las transiciones son modificaciones de una propiedad definita en un tiempo defindo.\n",
    "\n",
    "Lass transiciones se desencadenan cuando un cambio en el estado de un elemento modifica una propiedad.  \n",
    "\n",
    "La propiedad ```transition```es la encargada de definir las propiedades y los tiempos de las transiciones.\n",
    "\n",
    "\n",
    "```\n",
    "transition <propiedad 1> <tiempo 1>, <propiedad 2> <tiempo 2>, ... <propiedad n> <tiempo n>; \n",
    "```"
   ]
  },
  {
   "cell_type": "code",
   "execution_count": null,
   "metadata": {},
   "outputs": [],
   "source": [
    "%%html\n",
    "<style>\n",
    "    #ejemplo_11 {\n",
    "        background-color:gold;\n",
    "        color:red;\n",
    "        width: 100px;\n",
    "        height: 100px;\n",
    "        transition: width 4s, background-color 2s, height 3s, transform 4s;\n",
    "        }\n",
    "    #ejemplo_11:hover {\n",
    "        width: 500px;\n",
    "        height: 20px;\n",
    "        transform rotate(25deg);\n",
    "        background-color: blue;\n",
    "        font-size:2em;\n",
    "    }\n",
    "    \n",
    "</style>\n",
    "<div class=\"contenedor\">\n",
    "    <div id=\"ejemplo_11\">texto</div>\n",
    "</div>"
   ]
  },
  {
   "cell_type": "markdown",
   "metadata": {},
   "source": [
    "### Retraso de transiciones.\n",
    "\n",
    "transition-delay"
   ]
  },
  {
   "cell_type": "code",
   "execution_count": null,
   "metadata": {},
   "outputs": [],
   "source": [
    "%%html\n",
    "<style>\n",
    "    #ejemplo_12 {\n",
    "        background-color:gold;\n",
    "        color:red;\n",
    "        width: 100px;\n",
    "        height: 100px;\n",
    "        transition: width 4s, background-color 2s;\n",
    "        transition-delay: 1s;\n",
    "        }\n",
    "    #ejemplo_12:hover {\n",
    "        width: 500px;\n",
    "        background-color: blue;\n",
    "    }\n",
    "    \n",
    "</style>\n",
    "<div class=\"contenedor\">\n",
    "    <div id=\"ejemplo_12\">texto</div>\n",
    "</div>"
   ]
  },
  {
   "cell_type": "markdown",
   "metadata": {},
   "source": [
    "## Transiciones con transformaciones."
   ]
  },
  {
   "cell_type": "code",
   "execution_count": null,
   "metadata": {},
   "outputs": [],
   "source": [
    "%%html\n",
    "<style>\n",
    "    #ejemplo_13 {\n",
    "        background-color:gold;\n",
    "        color:red;\n",
    "        width: 100px;\n",
    "        height: 100px;\n",
    "        transition: width 4s, background-color 2s, transform 5s;\n",
    "        }\n",
    "    #ejemplo_13:hover {\n",
    "        width: 500px;\n",
    "        background-color: blue;\n",
    "        transform: translate(100px);\n",
    "    }\n",
    "    \n",
    "</style>\n",
    "<div class=\"contenedor\">\n",
    "    <div id=\"ejemplo_13\">texto</div>\n",
    "</div>"
   ]
  },
  {
   "cell_type": "markdown",
   "metadata": {},
   "source": [
    "## Animaciones.\n",
    "\n",
    "Las animaciones no dependen de un camobio de estado.\n",
    "\n",
    "Las animaciones deben de tener un nombre asignado el cual se define usando ```@keyframes```\n",
    "\n",
    "```\n",
    "@keyframes <nombre de la animación> {\n",
    "    from {\n",
    "        ...\n",
    "        ...\n",
    "    }\n",
    "    to {\n",
    "        ...\n",
    "        ...\n",
    "    } \n",
    "}\n",
    "```\n",
    "\n"
   ]
  },
  {
   "cell_type": "markdown",
   "metadata": {},
   "source": [
    "Las propiedades más utilizadas en una animación son:\n",
    "\n",
    "* ```animation-name``` que coresponde al nombre de la animación que se aplicará.\n",
    "* ```animation-duration``` es la que define la duración de la animación.\n",
    "* ```animation-delay``` es la que define el retraso del incio en la animación.\n",
    "* ```animation-timing-function``` que define la forma en la que la animación se ejecuta. Puede consultar las opciones en https://www.w3schools.com/CSSref/css3_pr_animation-timing-function.asp\n",
    "* ```animation-iteration-count``` es la que define la veces en la que la animación se repite. ```infinite``` indica una animación continua."
   ]
  },
  {
   "cell_type": "code",
   "execution_count": null,
   "metadata": {
    "scrolled": true
   },
   "outputs": [],
   "source": [
    "%%html\n",
    "<style>\n",
    "    @keyframes animacion_1{\n",
    "        from {background-color: white;}\n",
    "        to {background-color: black;}\n",
    "    }\n",
    "    #ejemplo_14 {\n",
    "        background-color:gold;\n",
    "        color:red;\n",
    "        width: 100px;\n",
    "        height: 100px;\n",
    "        animation-name: animacion_1;\n",
    "        animation-duration: 5s;\n",
    "        animation-delay: 1s;\n",
    "        animation-timing-function: linear;\n",
    "        animation-iteration-count: infinite;\n",
    "        }\n",
    "\n",
    "</style>\n",
    "<div class=\"contenedor\">\n",
    "    <div id=\"ejemplo_14\">texto</div>\n",
    "</div>"
   ]
  },
  {
   "cell_type": "markdown",
   "metadata": {},
   "source": [
    "### Secuencia de animaciones.\n",
    "\n",
    "La propiedad ```animation-direction``` define el sentido de la animación.\n",
    "\n",
    "* *normal*\n",
    "* *reverse*\n",
    "* *alternate*\n",
    "* *alternate-reverse*"
   ]
  },
  {
   "cell_type": "code",
   "execution_count": null,
   "metadata": {},
   "outputs": [],
   "source": [
    "%%html\n",
    "<style>\n",
    "    @keyframes animacion_2{\n",
    "        from {\n",
    "            background-color: blue;\n",
    "            width: 50px;\n",
    "        }\n",
    "        to {\n",
    "            background-color: green;\n",
    "            width: 200px;\n",
    "\n",
    "           }\n",
    "    }\n",
    "    #ejemplo_15 {\n",
    "        background-color:gold;\n",
    "        color:red;\n",
    "        width: 100px;\n",
    "        height: 100px;\n",
    "        animation-name: animacion_2;\n",
    "        animation-duration: 5s;\n",
    "        animation-delay: 1s;\n",
    "        animation-direction: alternate;\n",
    "        animation-iteration-count: infinite;\n",
    "        }\n",
    "\n",
    "</style>\n",
    "<div class=\"contenedor\">\n",
    "    <div id=\"ejemplo_15\">texto</div>\n",
    "</div>"
   ]
  },
  {
   "cell_type": "code",
   "execution_count": null,
   "metadata": {},
   "outputs": [],
   "source": [
    "%%html\n",
    "<style>\n",
    "    @keyframes animacion_3{\n",
    "        0% {\n",
    "            background-color: blue;\n",
    "            width: 50px;\n",
    "        }\n",
    "        50%{\n",
    "            transform: translate(100px);\n",
    "            background-color: cyan;\n",
    "            width: 300px;\n",
    "        }\n",
    "        \n",
    "        75%{\n",
    "            background-color: cyan;\n",
    "            width: 300px;\n",
    "            \n",
    "        }\n",
    "        100% {\n",
    "            background-color: green;\n",
    "            width: 200px;\n",
    "            transform: translate(-10px, 100px);\n",
    "           }\n",
    "    }\n",
    "    #ejemplo_16 {\n",
    "        background-color:gold;\n",
    "        color:red;\n",
    "        width: 100px;\n",
    "        height: 100px;\n",
    "        animation-name: animacion_3;\n",
    "        animation-duration: 6s;\n",
    "        animation-delay: 1s;\n",
    "        animation-direction: alternate;\n",
    "        animation-iteration-count: infinite;\n",
    "        }\n",
    "\n",
    "</style>\n",
    "<div class=\"contenedor\">\n",
    "    <div id=\"ejemplo_16\">texto</div>\n",
    "</div>"
   ]
  },
  {
   "cell_type": "markdown",
   "metadata": {},
   "source": [
    "Para conocer más al respecto acudir a:\n",
    "https://www.w3schools.com/Css/"
   ]
  },
  {
   "cell_type": "markdown",
   "metadata": {},
   "source": [
    "<p style=\"text-align: center\"><a rel=\"license\" href=\"http://creativecommons.org/licenses/by/4.0/\"><img alt=\"Licencia Creative Commons\" style=\"border-width:0\" src=\"https://i.creativecommons.org/l/by/4.0/80x15.png\" /></a><br />Esta obra está bajo una <a rel=\"license\" href=\"http://creativecommons.org/licenses/by/4.0/\">Licencia Creative Commons Atribución 4.0 Internacional</a>.</p>\n",
    "<p style=\"text-align: center\">&copy; José Luis Chiquete Valdivieso. 2019.</p>"
   ]
  }
 ],
 "metadata": {
  "kernelspec": {
   "display_name": "Python 3",
   "language": "python",
   "name": "python3"
  },
  "language_info": {
   "codemirror_mode": {
    "name": "ipython",
    "version": 3
   },
   "file_extension": ".py",
   "mimetype": "text/x-python",
   "name": "python",
   "nbconvert_exporter": "python",
   "pygments_lexer": "ipython3",
   "version": "3.7.3"
  }
 },
 "nbformat": 4,
 "nbformat_minor": 2
}
