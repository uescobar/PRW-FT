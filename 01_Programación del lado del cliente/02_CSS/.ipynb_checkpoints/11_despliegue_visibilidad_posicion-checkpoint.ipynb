{
 "cells": [
  {
   "cell_type": "markdown",
   "metadata": {},
   "source": [
    "[![imagenes/pythonista.png](imagenes/pythonista.png)](https://pythonista.io)"
   ]
  },
  {
   "cell_type": "markdown",
   "metadata": {},
   "source": [
    "## Despliegue de los elementos.\n",
    "\n",
    "Como ya se ha comentado, los elementos de un documento *HTML* pueden ser calatogados como de tipo ``inline``` o tipo ```block```.\n",
    "\n",
    "Los elementos de tipo ```block``` pueden contener una o varias líneas y no soportan elementos a sus lados.\n",
    "\n",
    "Los elementos de tipo ```inline``` corresponden generalmente a porciones de texto dentro de un elemento de tipo ```block```, los cuales sí elementos a sus lados.\n",
    "\n",
    "La propiedad ```display```  puede modificar el modo en el que se comportan los elementos mediante los siguientes valores:\n",
    "\n",
    "* ```inline```, el cual hace que un elemento de tipo *block* se comporte como un elemento de tipo ```inline```.\n",
    "* ```block```, el cual hace que un elemento se comporte como un elemento de tipo ```block``.\n",
    "* ```block-inline```, el cual permite que un elemento se comporte como de tipo *block*, pero que soporte elementos a su lado.\n",
    "* ``` list-item```\n",
    "* ```table``` indica que el elemento debe de comprtarse como una tabla.\n",
    "* ```table-caption```\n",
    "* ```table-column-group```\n",
    "* ```table-header-group```\n",
    "* ```table-footer-group```\n",
    "* ```table-row-group```\n",
    "* ```table-cell```\n",
    "* ```none```"
   ]
  },
  {
   "cell_type": "code",
   "execution_count": null,
   "metadata": {},
   "outputs": [],
   "source": [
    "%%html\n",
    "<div id=\"ejemplo_11_1\">\n",
    "    <div class=\"elemento\">Huevo</div>\n",
    "    <div class=\"elemento\">Leche</div>\n",
    "    <div class=\"elemento\">Pan</div>\n",
    "</div>"
   ]
  },
  {
   "cell_type": "code",
   "execution_count": null,
   "metadata": {},
   "outputs": [],
   "source": [
    "%%html\n",
    "<style>\n",
    "    .elemento {\n",
    "        display: inline;\n",
    "    }\n",
    "</style>"
   ]
  },
  {
   "cell_type": "code",
   "execution_count": null,
   "metadata": {},
   "outputs": [],
   "source": [
    "%%html\n",
    "<style>\n",
    "    .elemento {\n",
    "        display: none;\n",
    "    }\n",
    "</style>"
   ]
  },
  {
   "cell_type": "code",
   "execution_count": null,
   "metadata": {
    "scrolled": true
   },
   "outputs": [],
   "source": [
    "%%html\n",
    "<div id=\"ejemplo_11-2\">\n",
    "    <div class=\"elemento\">Huevo</div>\n",
    "    <div class=\"elemento\">Leche</div>\n",
    "    <div class=\"elemento\">Pan</div>\n",
    "</div>"
   ]
  },
  {
   "cell_type": "code",
   "execution_count": null,
   "metadata": {},
   "outputs": [],
   "source": [
    "%%html\n",
    "<style>\n",
    "    #ejemplo_11-2 {\n",
    "    display: table;\n",
    "    }\n",
    "\n",
    "    .elemento {\n",
    "        display: table-row-group;\n",
    "        background-color: blue;\n",
    "        color: yellow;\n",
    "    }\n",
    "</style>"
   ]
  },
  {
   "cell_type": "code",
   "execution_count": null,
   "metadata": {},
   "outputs": [],
   "source": [
    "%%html\n",
    "<style>\n",
    "    .elemento {display: table-cell}\n",
    "</style>"
   ]
  },
  {
   "cell_type": "code",
   "execution_count": null,
   "metadata": {},
   "outputs": [],
   "source": [
    "%%html\n",
    "<style>\n",
    "    .elemento {display: block-inline}\n",
    "</style>"
   ]
  },
  {
   "cell_type": "markdown",
   "metadata": {},
   "source": [
    "## Posición y elementos flotantes.\n",
    "\n",
    "Por defecto, los documentos HTML despliegan los elementos que contienen, uno después de otro en forma descendente. Sin embargo, las hojas de estilo permiten cambiar e incluso fijar la posición de los elementos de un documento HTML.\n",
    "\n",
    "A la forma en como se van desplegando los elementos en un documento HTML, se le conoce como \"flujo\".\n",
    "\n",
    "### Tipos de posicionamiento.\n",
    "\n",
    "Es posible definir los siguientes tipos de posicionamiento con la propiedad *position* y los siguientes valores:\n",
    "\n",
    "* ```static``` Posicionamiento estático.\n",
    "* ```relative``` Posicionamiento relativo.\n",
    "* ```absolute``` Posicionamiento absoluto.\n",
    "* ```fixed``` Posicionamiento fijo.\n",
    "\n",
    "La posición puede definirse en relación al modelo de caja.\n",
    "\n",
    "### Posicionamiento estático.\n",
    "\n",
    "Al flujo en el que los elementos se representan apilados uno después de otro se le conoce como \"flujo normal\" o posicionamiento estático. Debido a que el posicionamiento estático es el que se utiliza por defecto, no  es necesario definirlo explícitamente.\n",
    "\n",
    "### Posicionamiento relativo.\n",
    "\n",
    "El posicionamiento relativo toma como referencia inicial la posición en la que debería de estar el elemento si se encontrara un flujo normal.\n",
    "\n",
    "### Posicionamiento absoluto.\n",
    "\n",
    " El posicionamiento absoluto permite definir una posición relativa al elemento contenedor. El posicionamiento absoluto no afecta el flujo del resto de los elementos.\n",
    "\n",
    "### Posicionamiento fijo.\n",
    "\n",
    "El posicionamiento fijo permite definir una posición fija dentro de la ventana del navegador.\n",
    "\n"
   ]
  },
  {
   "cell_type": "code",
   "execution_count": null,
   "metadata": {},
   "outputs": [],
   "source": [
    "%%html\n",
    "<style>\n",
    "    #ejemplo_11_3-contenedor {\n",
    "        width: 200px;\n",
    "        height: 200px;\n",
    "        background-color: gold;\n",
    "    }\n",
    "\n",
    "    #ejemplo_11_3-contenido {\n",
    "        width: 100px;\n",
    "        height: 100px;\n",
    "        background-color: blue;\n",
    "        margin: 25px 25px 25px 25px;\n",
    "    }\n",
    "</style>\n",
    "\n",
    "<div id=\"ejemplo_11_3-contenedor\">\n",
    "<div id=\"ejemplo_11_3-contenido\"></div>\n",
    "</div>"
   ]
  },
  {
   "cell_type": "code",
   "execution_count": null,
   "metadata": {},
   "outputs": [],
   "source": [
    "%%html\n",
    "<style>\n",
    "    #ejemplo_11_3-contenido {\n",
    "    position: relative;\n",
    "    left:20px;\n",
    "    top: 130px;\n",
    "    }\n",
    "</style>"
   ]
  },
  {
   "cell_type": "code",
   "execution_count": null,
   "metadata": {},
   "outputs": [],
   "source": [
    "%%html\n",
    "<style>\n",
    "    #ejemplo_11_3-contenido {\n",
    "    position: absolute;\n",
    "    left:0px;\n",
    "    top: 0px;\n",
    "    }\n",
    "</style>"
   ]
  },
  {
   "cell_type": "code",
   "execution_count": null,
   "metadata": {},
   "outputs": [],
   "source": [
    "%%html\n",
    "<style>\n",
    "    #ejemplo_11_3-contenido {\n",
    "    position: fixed;\n",
    "    left:100px;\n",
    "    top: 100px;\n",
    "    z-index: -50;\n",
    "    }\n",
    "</style>"
   ]
  },
  {
   "cell_type": "markdown",
   "metadata": {},
   "source": [
    "## Superposición de elementos.\n",
    "\n",
    " Debido a que el atributo *position* no afecta al flujo del resto de los elementos del doucmento HTML, es común que los elementos se empalmen uno sobre de otro. Por tanto es necesario indicar cuál elemento debe quedar por encima del resto.\n",
    "\n",
    "La propiedad *z-index*, permite definir la forma en como se superponen los objetos mediante la siguiente sintaxis:\n",
    "\n",
    "```\n",
    "z-index: (numero);\n",
    "```\n",
    "\n",
    "El valor corresponde un entero positivo incluyendo el cero. El elemento que tenga asignado el valor más alto en *z-index* será el que se desplegará por encima del resto."
   ]
  },
  {
   "cell_type": "code",
   "execution_count": null,
   "metadata": {},
   "outputs": [],
   "source": [
    "%%html\n",
    "<style>\n",
    "    #ejemplo_11_4-contenedor {\n",
    "        width: 200px;\n",
    "        height: 200px;\n",
    "        background-color: gold;\n",
    "    }\n",
    "\n",
    "    #ejemplo_11_4-contenido {\n",
    "        width: 100px;\n",
    "        height: 100px;\n",
    "        background-color: blue;\n",
    "        margin: 25px 25px 25px 25px;\n",
    "    }\n",
    "</style>\n",
    "\n",
    "<div id=\"ejemplo_11_4-contenedor\">\n",
    "<div id=\"ejemplo_11_4-contenido\"></div>\n",
    "</div>"
   ]
  },
  {
   "cell_type": "code",
   "execution_count": null,
   "metadata": {},
   "outputs": [],
   "source": [
    "%%html\n",
    "<style>\n",
    "    #ejemplo_11_4-contenido {\n",
    "    position: absolute;\n",
    "    z-index: -1;\n",
    "    }\n",
    "    #ejemplo_11_4-contenedor {\n",
    "    z-index: 0;\n",
    "    }\n",
    "</style>"
   ]
  },
  {
   "cell_type": "markdown",
   "metadata": {},
   "source": [
    "## Elementos flotantes.\n",
    "\n",
    "La propiedad ```float``` permite definir elementos ```inline``` lo más a la izquierda o a la derecha de su contenedor. A diferencia de ```position```, ```float``` sí afecta al flujo del documento, por lo que en vez de empalmase, los demás elementos se ajustan para no superponerse al elemento afectado por *float*.\n",
    "\n",
    "La sintaxis de float es:\n",
    "\n",
    "```\n",
    "float: posición;\n",
    "```\n",
    "\n",
    "Donde posición puede ser:\n",
    "\n",
    "* *left* para la izquierda.\n",
    "* *right* para la derecha."
   ]
  },
  {
   "cell_type": "code",
   "execution_count": null,
   "metadata": {},
   "outputs": [],
   "source": [
    "%%html\n",
    "<style>\n",
    "    #ejemplo_11_5-contenedor {\n",
    "        background-color: gold;\n",
    "    }\n",
    "\n",
    "    #ejemplo_11_5-contenido {\n",
    "        width: 50px;\n",
    "        height: 50px;\n",
    "        background-color: blue;\n",
    "    }\n",
    "</style>\n",
    "\n",
    "<div id=\"ejemplo_11_5-contenedor\">\n",
    "Lorem ipsum dolor sit amet, consectetur adipiscing elit, \n",
    "sed do eiusmod tempor incididunt ut labore et dolore magna \n",
    "aliqua. Ut enim ad <span id=\"ejemplo_11_5-contenido\"></span> minim veniam, quis nostrud exercitation\n",
    "ullamco laboris nisi ut aliquip ex ea commodo consequat.\n",
    "Duis aute irure dolor in reprehenderit in voluptate velit\n",
    "esse cillum dolore eu fugiat nulla pariatur. Excepteur sint\n",
    "occaecat cupidatat non proident, sunt in culpa qui officia \n",
    "deserunt mollit anim id est laborum.\n",
    "\n",
    "</div>"
   ]
  },
  {
   "cell_type": "code",
   "execution_count": null,
   "metadata": {},
   "outputs": [],
   "source": [
    "%%html\n",
    "<style>\n",
    "\n",
    "    #ejemplo_11_5-contenido {\n",
    "        float: left;\n",
    "            }\n",
    "</style>"
   ]
  },
  {
   "cell_type": "markdown",
   "metadata": {},
   "source": [
    "## Visibilidad.\n",
    "\n",
    "La propiedad *visibility* define si un elemento es visible o no con los siguientes valores:\n",
    "\n",
    "* *visible*, el cual indica que el objeto es visible.\n",
    "* *hidden*, el cual  indica que el objeto no es visible, pero ocupa espacio.\n",
    "* *collapse* se aplica en elementos de tabla como *&lt;tr&gt;*, *&lt;tbody&gt;* , *&lt;col&gt;* y *&lt;colgroup&gt;* y elimina un renglón o columna según sea el caso, sin modificar la plantilla de la tabla."
   ]
  },
  {
   "cell_type": "code",
   "execution_count": null,
   "metadata": {},
   "outputs": [],
   "source": [
    "%%html\n",
    "<style>\n",
    "    #ejemplo_11_6-contenedor {\n",
    "        background-color: gold;\n",
    "    }\n",
    "\n",
    "    #ejemplo_11_6-contenido {\n",
    "        width: 50px;\n",
    "        height: 50px;\n",
    "        background-color: blue;\n",
    "        float: left;\n",
    "    }\n",
    "</style>\n",
    "\n",
    "<div id=\"ejemplo_11_6-contenedor\">\n",
    "Lorem ipsum dolor sit amet, consectetur adipiscing elit, \n",
    "sed do eiusmod tempor incididunt ut labore et dolore magna \n",
    "aliqua. Ut enim ad <span id=\"ejemplo_11_6-contenido\"></span> minim veniam, quis nostrud exercitation\n",
    "ullamco laboris nisi ut aliquip ex ea commodo consequat.\n",
    "Duis aute irure dolor in reprehenderit in voluptate velit\n",
    "esse cillum dolore eu fugiat nulla pariatur. Excepteur sint\n",
    "occaecat cupidatat non proident, sunt in culpa qui officia \n",
    "deserunt mollit anim id est laborum.\n",
    "\n",
    "</div>"
   ]
  },
  {
   "cell_type": "code",
   "execution_count": null,
   "metadata": {},
   "outputs": [],
   "source": [
    "%%html\n",
    "<style>\n",
    "\n",
    "    #ejemplo_11_6-contenido {\n",
    "        visibility: hidden;\n",
    "            \n",
    "</style>"
   ]
  },
  {
   "cell_type": "markdown",
   "metadata": {},
   "source": [
    "<p style=\"text-align: center\"><a rel=\"license\" href=\"http://creativecommons.org/licenses/by/4.0/\"><img alt=\"Licencia Creative Commons\" style=\"border-width:0\" src=\"https://i.creativecommons.org/l/by/4.0/80x15.png\" /></a><br />Esta obra está bajo una <a rel=\"license\" href=\"http://creativecommons.org/licenses/by/4.0/\">Licencia Creative Commons Atribución 4.0 Internacional</a>.</p>\n",
    "<p style=\"text-align: center\">&copy; José Luis Chiquete Valdivieso. 2019.</p>"
   ]
  }
 ],
 "metadata": {
  "kernelspec": {
   "display_name": "Python 3",
   "language": "python",
   "name": "python3"
  },
  "language_info": {
   "codemirror_mode": {
    "name": "ipython",
    "version": 3
   },
   "file_extension": ".py",
   "mimetype": "text/x-python",
   "name": "python",
   "nbconvert_exporter": "python",
   "pygments_lexer": "ipython3",
   "version": "3.7.3"
  }
 },
 "nbformat": 4,
 "nbformat_minor": 2
}
