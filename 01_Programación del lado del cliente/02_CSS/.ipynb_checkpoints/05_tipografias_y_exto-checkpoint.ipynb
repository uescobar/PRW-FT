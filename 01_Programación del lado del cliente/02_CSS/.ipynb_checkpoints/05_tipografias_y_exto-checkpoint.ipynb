{
 "cells": [
  {
   "cell_type": "markdown",
   "metadata": {},
   "source": [
    "[![imagenes/pythonista.png](imagenes/pythonista.png)](https://pythonista.io)"
   ]
  },
  {
   "cell_type": "markdown",
   "metadata": {},
   "source": [
    "# Tipografías y texto.\n",
    "\n",
    "https://www.w3schools.com/css/css_font.asp"
   ]
  },
  {
   "cell_type": "markdown",
   "metadata": {},
   "source": [
    "\n",
    "\n",
    "## Selección de la fuente tipográfica con ```font-family```.\n",
    "\n",
    "CSS permite seleccionar el tipo de letra que se utilizará en diversos elementos utilizando ```font-family```.\n",
    "\n",
    "```\n",
    "font-family (Familia específica) (Familia genérica); \n",
    "```"
   ]
  },
  {
   "cell_type": "markdown",
   "metadata": {},
   "source": [
    "### Familia genérica:\n",
    "\n",
    "Los navegadores pueden ser configurados con fuentes tipográficas genéricas, las cuales son:\n",
    "\n",
    "* ```serif```.\n",
    "* ```sans-serif```.\n",
    "* ```monospace```.\n",
    "* ```cursive```.\n",
    "* ```system-ui```.\n",
    "* ```fantasy```.\n",
    "* ```emoji```.\n",
    "* ```math```."
   ]
  },
  {
   "cell_type": "code",
   "execution_count": null,
   "metadata": {},
   "outputs": [],
   "source": [
    "%%html\n",
    "<div id=\"ejemplo_5-1a\">Lorem ipsum dolor sit amet, consectetur adipiscing elit.</div>\n",
    "<div id=\"ejemplo_5-1b\">Lorem ipsum dolor sit amet, consectetur adipiscing elit.</div>\n",
    "<div id=\"ejemplo_5-1c\">Lorem ipsum dolor sit amet, consectetur adipiscing elit.</div>\n",
    "<div id=\"ejemplo_5-1d\">Lorem ipsum dolor sit amet, consectetur adipiscing elit.</div>"
   ]
  },
  {
   "cell_type": "code",
   "execution_count": null,
   "metadata": {},
   "outputs": [],
   "source": [
    "%%html\n",
    "<style>\n",
    "    #ejemplo_5-1a {font-family: serif}\n",
    "    #ejemplo_5-1b {font-family: cursive}\n",
    "    #ejemplo_5-1c {font-family: system-ui}\n",
    "    #ejemplo_5-1d {font-family: monospace}\n",
    "</style>\n"
   ]
  },
  {
   "cell_type": "markdown",
   "metadata": {},
   "source": [
    "### Familia de fuente específica:\n",
    "\n",
    "Tanto los sistemas operativos como los navegadores disponen de diversas fuentes tipográficas, las cuales pueden ser aplicadas a un texto.\n",
    "\n",
    "La propiedad ```font-family``` permite definir una regal para usar una tipografía específica.\n",
    "\n",
    "**ADVERTENCIA:** Es necesario que el navegador tenga instaladas las tipografías a las que se hace referencia."
   ]
  },
  {
   "cell_type": "code",
   "execution_count": null,
   "metadata": {
    "scrolled": true
   },
   "outputs": [],
   "source": [
    "%%html\n",
    "<div id=\"ejemplo_5-2a\">Lorem ipsum dolor sit amet, consectetur adipiscing elit.</div>\n",
    "<div id=\"ejemplo_5-2b\">Lorem ipsum dolor sit amet, consectetur adipiscing elit.</div>\n",
    "<div id=\"ejemplo_5-2c\">Lorem ipsum dolor sit amet, consectetur adipiscing elit.</div>"
   ]
  },
  {
   "cell_type": "code",
   "execution_count": null,
   "metadata": {},
   "outputs": [],
   "source": [
    "%%html\n",
    "<style>\n",
    "    #ejemplo_5-2a {font-family: \"Dyuthi\"}\n",
    "    #ejemplo_5-2b {font-family: \"Arial\"}\n",
    "    #ejemplo_5-2c {font-family: \"Verdana\"}\n",
    "</style>"
   ]
  },
  {
   "cell_type": "markdown",
   "metadata": {},
   "source": [
    "### Definición de múltiples fuentes.\n",
    "\n",
    "La propiedad ```font-family``` permite enumerar más de una familia en una regla. La primera que se indique será utilizada por defecto y en caso de no poder desplegar un caracter, se urtilizará la siguiente."
   ]
  },
  {
   "cell_type": "code",
   "execution_count": null,
   "metadata": {},
   "outputs": [],
   "source": [
    "%%html\n",
    "<div id=\"ejemplo_5-3\">\n",
    "Lorem ipsum dolor sit amet, consectetur adipiscing elit, \n",
    "sed do eiusmod tempor incididunt ut labore et dolore magna aliqua. \n",
    "</div>"
   ]
  },
  {
   "cell_type": "code",
   "execution_count": null,
   "metadata": {},
   "outputs": [],
   "source": [
    "%%html\n",
    "<style>\n",
    "    #ejemplo_5-3 {\n",
    "        font-family: \"Dyuthi\";\n",
    "    }\n",
    "</style>"
   ]
  },
  {
   "cell_type": "markdown",
   "metadata": {},
   "source": [
    "## Características del texto. "
   ]
  },
  {
   "cell_type": "markdown",
   "metadata": {},
   "source": [
    "### tamaño de la fuente con ```font-size```.\n",
    "\n",
    "El tamaño de la tipografía del texto de un elemento es heredado por defecto a partir del tamaño de la tipografía de su elemento contenedor.\n",
    "\n",
    "El atributo ```font-size``` permite definir el tamaño de letra para los elementos seleccionados, permitiendo utilizar unidades como ```%```, ```px```, ```em```, etc."
   ]
  },
  {
   "cell_type": "code",
   "execution_count": null,
   "metadata": {},
   "outputs": [],
   "source": [
    "%%html\n",
    "<div id=\"ejemplo_5-4\">\n",
    "Lorem ipsum dolor sit amet, consectetur adipiscing elit, \n",
    "sed do eiusmod tempor incididunt ut labore et dolore magna aliqua. \n",
    "</div>"
   ]
  },
  {
   "cell_type": "code",
   "execution_count": null,
   "metadata": {},
   "outputs": [],
   "source": [
    "%%html\n",
    "<style>\n",
    "    #ejemplo_5-4 {\n",
    "        font-size: 20px;\n",
    "    }\n",
    "</style>"
   ]
  },
  {
   "cell_type": "code",
   "execution_count": null,
   "metadata": {},
   "outputs": [],
   "source": [
    "%%html\n",
    "<style>\n",
    "    #ejemplo_5-4 {\n",
    "        font-size: 75%;\n",
    "    }\n",
    "</style>"
   ]
  },
  {
   "cell_type": "code",
   "execution_count": null,
   "metadata": {},
   "outputs": [],
   "source": [
    "%%html\n",
    "<style>\n",
    "    #ejemplo_5-4 {\n",
    "        font-size: 1.5em;\n",
    "    }\n",
    "</style>"
   ]
  },
  {
   "cell_type": "markdown",
   "metadata": {},
   "source": [
    "### \"Peso\" de los caracteres.\n",
    "\n",
    "La propiedad ```font-weight``` define el peso de los caracteres con los siguientes valores:\n",
    "\n",
    "* ```normal``` (valor por defecto).\n",
    "* ```bold```\n",
    "* ```bolder```\n",
    "* ```lighter```\n",
    "* ```100```, ```200```, ```300```, ```400```, ```500```, ```600```, ```700```, ```800```, ```900```."
   ]
  },
  {
   "cell_type": "code",
   "execution_count": null,
   "metadata": {},
   "outputs": [],
   "source": [
    "%%html\n",
    "<div id=\"ejemplo_5-5\">\n",
    "Lorem ipsum dolor sit amet, consectetur adipiscing elit, \n",
    "sed do eiusmod tempor incididunt ut labore et dolore magna aliqua. \n",
    "</div>"
   ]
  },
  {
   "cell_type": "code",
   "execution_count": null,
   "metadata": {},
   "outputs": [],
   "source": [
    "%%html\n",
    "<style>\n",
    "    #ejemplo_5-5 {\n",
    "        font-weight: bold;\n",
    "    }\n",
    "</style>"
   ]
  },
  {
   "cell_type": "code",
   "execution_count": null,
   "metadata": {},
   "outputs": [],
   "source": [
    "%%html\n",
    "<style>\n",
    "    #ejemplo_5-5 {\n",
    "        font-weight: 200;\n",
    "    }\n",
    "</style>"
   ]
  },
  {
   "cell_type": "code",
   "execution_count": null,
   "metadata": {},
   "outputs": [],
   "source": [
    "%%html\n",
    "<style>\n",
    "    #ejemplo_5-5 {\n",
    "        font-weight: lighter;\n",
    "    }\n",
    "</style>"
   ]
  },
  {
   "cell_type": "markdown",
   "metadata": {},
   "source": [
    "### ```font-variant```\n",
    "\n",
    "\n",
    "\n",
    "* ```normal```\n",
    "* ```small-caps```"
   ]
  },
  {
   "cell_type": "code",
   "execution_count": null,
   "metadata": {},
   "outputs": [],
   "source": [
    "%%html\n",
    "<div id=\"ejemplo_5-6\">\n",
    "Lorem ipsum dolor sit amet, consectetur adipiscing elit, \n",
    "sed do eiusmod tempor incididunt ut labore et dolore magna aliqua. \n",
    "</div>"
   ]
  },
  {
   "cell_type": "code",
   "execution_count": null,
   "metadata": {},
   "outputs": [],
   "source": [
    "%%html\n",
    "<style>\n",
    "    #ejemplo_5-6 {\n",
    "        font-variant: small-caps;\n",
    "    }\n",
    "</style>"
   ]
  },
  {
   "cell_type": "markdown",
   "metadata": {},
   "source": [
    "### ```font-stretch```\n",
    "\n",
    "ultra-condensed\n",
    "extra-condensed\n",
    "condensed\n",
    "semi-condensed\n",
    "normal\n",
    "semi-expanded\n",
    "expanded\n",
    "extra-expanded\n",
    "ultra-expanded"
   ]
  },
  {
   "cell_type": "code",
   "execution_count": null,
   "metadata": {},
   "outputs": [],
   "source": [
    "%%html\n",
    "<div id=\"ejemplo_5-7\">\n",
    "Lorem ipsum dolor sit amet, consectetur adipiscing elit, \n",
    "sed do eiusmod tempor incididunt ut labore et dolore magna aliqua. \n",
    "</div>"
   ]
  },
  {
   "cell_type": "code",
   "execution_count": null,
   "metadata": {},
   "outputs": [],
   "source": [
    "%%html\n",
    "<style>\n",
    "    #ejemplo_5-7 {\n",
    "        font-family: \"Courier\";\n",
    "        font-stretch: condensed;\n",
    "    }\n",
    "</style>"
   ]
  },
  {
   "cell_type": "markdown",
   "metadata": {},
   "source": [
    "### Estilo de los caracteres.\n",
    "\n",
    "La propiedad ```font-style``` define el estilo de los caracteres con los siguientes valores:\n",
    "\n",
    "* ```normal``` (valor por defecto)\n",
    "* ```italic``` \n",
    "* ```oblique```"
   ]
  },
  {
   "cell_type": "code",
   "execution_count": null,
   "metadata": {},
   "outputs": [],
   "source": [
    "%%html\n",
    "<div id=\"Ejemplo_5-7\">\n",
    "Lorem ipsum dolor sit amet, consectetur adipiscing elit, \n",
    "sed do eiusmod tempor incididunt ut labore et dolore magna aliqua. \n",
    "</div>"
   ]
  },
  {
   "cell_type": "code",
   "execution_count": null,
   "metadata": {},
   "outputs": [],
   "source": [
    "%%html\n",
    "<style>\n",
    "    #Ejemplo_5-7 {\n",
    "        font-style: italic;\n",
    "    }\n",
    "</style>"
   ]
  },
  {
   "cell_type": "code",
   "execution_count": null,
   "metadata": {},
   "outputs": [],
   "source": [
    "%%html\n",
    "<style>\n",
    "    #Ejemplo_5-7 {\n",
    "        font-style: oblique;\n",
    "    }\n",
    "</style>"
   ]
  },
  {
   "cell_type": "code",
   "execution_count": null,
   "metadata": {},
   "outputs": [],
   "source": [
    "%%html\n",
    "<style>\n",
    "    #Ejemplo_5-7 {\n",
    "        font-style: normal;\n",
    "    }\n",
    "</style>"
   ]
  },
  {
   "cell_type": "markdown",
   "metadata": {},
   "source": [
    "### Transformación de texto.\n",
    "\n",
    "La propiedad ```text-transform``` permite realizar algunos cambios a los caracteres de un texto:\n",
    "\n",
    "* ```uppercase``` convierte el texto a mayúsculas.\n",
    "* ```lowercase``` convierte el texto a minúsculas.\n",
    "* ```capitalize``` la primera letra de la palabra en mayúsculas."
   ]
  },
  {
   "cell_type": "code",
   "execution_count": null,
   "metadata": {},
   "outputs": [],
   "source": [
    "%%html\n",
    "<div id=\"Ejemplo_5-8\">\n",
    "Lorem ipsum dolor sit amet, consectetur adipiscing elit, \n",
    "sed do eiusmod tempor incididunt ut labore et dolore magna aliqua. \n",
    "</div>"
   ]
  },
  {
   "cell_type": "code",
   "execution_count": null,
   "metadata": {},
   "outputs": [],
   "source": [
    "%%html\n",
    "<style>\n",
    "    #Ejemplo_5-8 {\n",
    "        text-transform: uppercase;\n",
    "    }\n",
    "</style>"
   ]
  },
  {
   "cell_type": "code",
   "execution_count": null,
   "metadata": {},
   "outputs": [],
   "source": [
    "%%html\n",
    "<style>\n",
    "    #Ejemplo_5-8 {\n",
    "        text-transform: lowercase;\n",
    "    }\n",
    "</style>"
   ]
  },
  {
   "cell_type": "code",
   "execution_count": null,
   "metadata": {},
   "outputs": [],
   "source": [
    "%%html\n",
    "<style>\n",
    "    #Ejemplo_5-8 {\n",
    "        text-transform: capitalize;\n",
    "    }\n",
    "</style>"
   ]
  },
  {
   "cell_type": "markdown",
   "metadata": {},
   "source": [
    "### Decoración del texto.\n",
    "\n",
    "La propiedad ```text-decoration``` permite definir la decoración(líneas horizontales, colores, parpadeos, etc.) en un texto. Algunos valores de esta propiedad son:\n",
    "\n",
    "* ```none```, el cual impide que existan líneas como las de subrayado.\n",
    "* ```underline``` la cual indica que el texto debe de estar subrayado.\n",
    "* ```overline``` la cual indica que el texto tendrá una raya encima del texto.\n",
    "* ```line-through``` la cual indica que el texto será tachado con una raya cruzando el texto.\n",
    "* ```blink``` la cual indica que el texto se verá parpadeante.\n",
    "\n",
    "Es posible crear reglas combinando más de una de estas características."
   ]
  },
  {
   "cell_type": "code",
   "execution_count": null,
   "metadata": {},
   "outputs": [],
   "source": [
    "%%html\n",
    "<div id=\"Ejemplo_5-9\">\n",
    "Lorem ipsum dolor sit amet, consectetur adipiscing elit, \n",
    "sed do eiusmod tempor incididunt ut labore et dolore magna aliqua. \n",
    "</div>"
   ]
  },
  {
   "cell_type": "code",
   "execution_count": null,
   "metadata": {},
   "outputs": [],
   "source": [
    "%%html\n",
    "<style>\n",
    "    #Ejemplo_5-9 {\n",
    "        text-decoration: underline;\n",
    "    }\n",
    "</style>"
   ]
  },
  {
   "cell_type": "code",
   "execution_count": null,
   "metadata": {},
   "outputs": [],
   "source": [
    "%%html\n",
    "<style>\n",
    "    #Ejemplo_5-9 {\n",
    "        text-decoration: overline;\n",
    "    }\n",
    "</style>"
   ]
  },
  {
   "cell_type": "code",
   "execution_count": null,
   "metadata": {},
   "outputs": [],
   "source": [
    "%%html\n",
    "<style>\n",
    "    #Ejemplo_5-9 {\n",
    "        text-decoration: line-through;\n",
    "    }\n",
    "</style>"
   ]
  },
  {
   "cell_type": "code",
   "execution_count": null,
   "metadata": {},
   "outputs": [],
   "source": [
    "%%html\n",
    "<style>\n",
    "    #Ejemplo_5-9 {\n",
    "        text-decoration: blink;\n",
    "    }\n",
    "</style>"
   ]
  },
  {
   "cell_type": "code",
   "execution_count": null,
   "metadata": {},
   "outputs": [],
   "source": [
    "%%html\n",
    "<style>\n",
    "    #Ejemplo_5-9 {\n",
    "        text-decoration: underline line-through;\n",
    "    }\n",
    "</style>"
   ]
  },
  {
   "cell_type": "markdown",
   "metadata": {},
   "source": [
    "### Sombras del texto.\n",
    "\n",
    "La propiedad ```shadow```.\n",
    "\n",
    "```\n",
    "text-shadow: (tamaño horizontal) (tamaño vertical) (desenfoque) (color)\n",
    "```\n"
   ]
  },
  {
   "cell_type": "code",
   "execution_count": null,
   "metadata": {},
   "outputs": [],
   "source": [
    "%%html\n",
    "<div id=\"Ejemplo_5-10\">\n",
    "Lorem ipsum dolor sit amet, consectetur adipiscing elit, \n",
    "sed do eiusmod tempor incididunt ut labore et dolore magna aliqua. \n",
    "</div>"
   ]
  },
  {
   "cell_type": "code",
   "execution_count": null,
   "metadata": {},
   "outputs": [],
   "source": [
    "%%html\n",
    "<style>\n",
    "    #Ejemplo_5-10 {\n",
    "        font-size: 1.5em;\n",
    "        text-shadow: 2px 2px 2px rgb(136, 136, 206);\n",
    "    }\n",
    "</style>"
   ]
  },
  {
   "cell_type": "markdown",
   "metadata": {},
   "source": [
    "## Características de párrafo."
   ]
  },
  {
   "cell_type": "markdown",
   "metadata": {},
   "source": [
    "###  La propiedad ```line-height``` define altura de la línea."
   ]
  },
  {
   "cell_type": "code",
   "execution_count": null,
   "metadata": {},
   "outputs": [],
   "source": [
    "%%html\n",
    "\n",
    "<p id=\"Ejemplo_5-11\">Lorem ipsum dolor sit amet, consectetur adipiscing elit,\n",
    "sed do eiusmod tempor incididunt ut labore et dolore magna aliqua.</br>\n",
    "Euismod elementum nisi quis eleifend quam adipiscing vitae proin.</br>\n",
    "Dictumst vestibulum rhoncus est pellentesque.<br/>\n",
    "Urna neque viverra justo nec. Dictum fusce ut placerat orci nulla \n",
    "pellentesque dignissim enim sit.</p>"
   ]
  },
  {
   "cell_type": "code",
   "execution_count": null,
   "metadata": {},
   "outputs": [],
   "source": [
    "%%html\n",
    "\n",
    "<style>\n",
    "    #Ejemplo_5-11 {\n",
    "        line-height: 200%;\n",
    "}\n",
    "</style>"
   ]
  },
  {
   "cell_type": "markdown",
   "metadata": {},
   "source": [
    "### La propiedad ```letter-spacing``` define el espaciado entre letras."
   ]
  },
  {
   "cell_type": "code",
   "execution_count": null,
   "metadata": {},
   "outputs": [],
   "source": [
    "%%html\n",
    "\n",
    "<div id=\"Ejemplo_5-12\">Lorem ipsum dolor sit amet, consectetur adipiscing elit,\n",
    "sed do eiusmod tempor incididunt ut labore et dolore magna aliqua.</div>\n"
   ]
  },
  {
   "cell_type": "code",
   "execution_count": null,
   "metadata": {},
   "outputs": [],
   "source": [
    "%%html\n",
    "\n",
    "<style>\n",
    "    #Ejemplo_5-12 {\n",
    "        letter-spacing: 1em;\n",
    "}\n",
    "</style>"
   ]
  },
  {
   "cell_type": "markdown",
   "metadata": {},
   "source": [
    "### La propiedad ```word-spacing``` define el espaciado entre palabras."
   ]
  },
  {
   "cell_type": "markdown",
   "metadata": {},
   "source": [
    "### Alineación del texto horizontal.\n",
    "\n",
    "La propiedad ```text-align``` define la alineación horizontal del texto con los valores:\n",
    "\n",
    "* ```left``` (valor por defecto).\n",
    "* ```right```\n",
    "* ```center```\n",
    "* ```justify```"
   ]
  },
  {
   "cell_type": "code",
   "execution_count": null,
   "metadata": {},
   "outputs": [],
   "source": [
    "%%html\n",
    "\n",
    "<div id=\"Ejemplo_5-13\">Lorem ipsum dolor sit amet, consectetur adipiscing elit,\n",
    "sed do eiusmod tempor incididunt ut labore et dolore magna aliqua.\n",
    "Euismod elementum nisi quis eleifend quam adipiscing vitae proin.\n",
    "Dictumst vestibulum rhoncus est pellentesque.\n",
    "Urna neque viverra justo nec. Dictum fusce ut placerat orci nulla \n",
    "pellentesque dignissim enim sit.</div>\n"
   ]
  },
  {
   "cell_type": "code",
   "execution_count": null,
   "metadata": {},
   "outputs": [],
   "source": [
    "%%html\n",
    "\n",
    "<style>\n",
    "    #Ejemplo_5-13 {\n",
    "        width: 50%;\n",
    "        text-align: right;\n",
    "}\n",
    "</style>"
   ]
  },
  {
   "cell_type": "code",
   "execution_count": null,
   "metadata": {},
   "outputs": [],
   "source": [
    "%%html\n",
    "\n",
    "<style>\n",
    "    #Ejemplo_5-13 {\n",
    "        text-align: center;\n",
    "}\n",
    "</style>"
   ]
  },
  {
   "cell_type": "code",
   "execution_count": null,
   "metadata": {},
   "outputs": [],
   "source": [
    "%%html\n",
    "\n",
    "<style>\n",
    "    #Ejemplo_5-13 {\n",
    "        text-align: justify;\n",
    "}\n",
    "</style>"
   ]
  },
  {
   "cell_type": "markdown",
   "metadata": {},
   "source": [
    "## Columnas.\n",
    "\n",
    "```\n",
    "columns (ancho mínimo) (número);\n",
    "\n",
    "```\n"
   ]
  },
  {
   "cell_type": "code",
   "execution_count": null,
   "metadata": {},
   "outputs": [],
   "source": [
    "%%html\n",
    "\n",
    "<div id=\"Ejemplo_5-14\">Lorem ipsum dolor sit amet, consectetur adipiscing elit,\n",
    "sed do eiusmod tempor incididunt ut labore et dolore magna aliqua.\n",
    "Euismod elementum nisi quis eleifend quam adipiscing vitae proin.\n",
    "Dictumst vestibulum rhoncus est pellentesque.\n",
    "Urna neque viverra justo nec. Dictum fusce ut placerat orci nulla \n",
    "pellentesque dignissim enim sit.</div>"
   ]
  },
  {
   "cell_type": "code",
   "execution_count": null,
   "metadata": {},
   "outputs": [],
   "source": [
    "%%html\n",
    "\n",
    "<style>\n",
    "    #Ejemplo_5-14 {\n",
    "        columns: 30px 3;\n",
    "}\n",
    "</style>"
   ]
  },
  {
   "cell_type": "markdown",
   "metadata": {},
   "source": [
    "## Restricciones.\n",
    "\n",
    "### La propiedad ```overflow```.\n",
    "\n",
    "* ```visible```.\n",
    "* ```hidden```.\n",
    "* ```scroll```.\n",
    "* ```auto```.\n"
   ]
  },
  {
   "cell_type": "code",
   "execution_count": null,
   "metadata": {},
   "outputs": [],
   "source": [
    "%%html\n",
    "<div id=\"Ejemplo_5-15\">Lorem ipsum dolor sit amet, consectetur adipiscing elit,\n",
    "sed do eiusmod tempor incididunt ut labore et dolore magna aliqua.\n",
    "Euismod elementum nisi quis eleifend quam adipiscing vitae proin.\n",
    "Dictumst vestibulum rhoncus est pellentesque.\n",
    "Urna neque viverra justo nec. Dictum fusce ut placerat orci nulla \n",
    "pellentesque dignissim enim sit.</div>"
   ]
  },
  {
   "cell_type": "code",
   "execution_count": null,
   "metadata": {},
   "outputs": [],
   "source": [
    "%%html\n",
    "\n",
    "<style>\n",
    "\n",
    "    #Ejemplo_5-15 {\n",
    "        width: 300px;\n",
    "        height:100px;\n",
    "        overflow: hidden;\n",
    "    }\n",
    "</style>"
   ]
  },
  {
   "cell_type": "code",
   "execution_count": null,
   "metadata": {},
   "outputs": [],
   "source": [
    "%%html\n",
    "\n",
    "<style>\n",
    "\n",
    "    #Ejemplo_5-15 {\n",
    "        overflow: auto;\n",
    "    }\n",
    "</style>"
   ]
  },
  {
   "cell_type": "code",
   "execution_count": null,
   "metadata": {},
   "outputs": [],
   "source": [
    "%%html\n",
    "\n",
    "<style>\n",
    "\n",
    "    #Ejemplo_5-15 {\n",
    "        overflow: visible;\n",
    "    }\n",
    "</style>"
   ]
  },
  {
   "cell_type": "markdown",
   "metadata": {},
   "source": [
    "<p style=\"text-align: center\"><a rel=\"license\" href=\"http://creativecommons.org/licenses/by/4.0/\"><img alt=\"Licencia Creative Commons\" style=\"border-width:0\" src=\"https://i.creativecommons.org/l/by/4.0/80x15.png\" /></a><br />Esta obra está bajo una <a rel=\"license\" href=\"http://creativecommons.org/licenses/by/4.0/\">Licencia Creative Commons Atribución 4.0 Internacional</a>.</p>\n",
    "<p style=\"text-align: center\">&copy; José Luis Chiquete Valdivieso. 2019.</p>"
   ]
  }
 ],
 "metadata": {
  "kernelspec": {
   "display_name": "Python 3",
   "language": "python",
   "name": "python3"
  },
  "language_info": {
   "codemirror_mode": {
    "name": "ipython",
    "version": 3
   },
   "file_extension": ".py",
   "mimetype": "text/x-python",
   "name": "python",
   "nbconvert_exporter": "python",
   "pygments_lexer": "ipython3",
   "version": "3.7.3"
  }
 },
 "nbformat": 4,
 "nbformat_minor": 2
}
