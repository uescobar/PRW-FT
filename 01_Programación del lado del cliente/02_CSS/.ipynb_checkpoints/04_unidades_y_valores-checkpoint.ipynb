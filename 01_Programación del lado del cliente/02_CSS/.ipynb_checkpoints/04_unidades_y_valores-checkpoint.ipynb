{
 "cells": [
  {
   "cell_type": "markdown",
   "metadata": {},
   "source": [
    "[![imagenes/pythonista.png](imagenes/pythonista.png)](https://pythonista.io)"
   ]
  },
  {
   "cell_type": "markdown",
   "metadata": {},
   "source": [
    "# Unidades y valores. "
   ]
  },
  {
   "cell_type": "markdown",
   "metadata": {},
   "source": [
    "## Preliminares."
   ]
  },
  {
   "cell_type": "code",
   "execution_count": null,
   "metadata": {},
   "outputs": [],
   "source": [
    "%%html\n",
    "<style>\n",
    ".contenedor{\n",
    "    width: 200px;\n",
    "    height: 200px;\n",
    "    background-color: skyblue;\n",
    "}\n",
    "</style>"
   ]
  },
  {
   "cell_type": "markdown",
   "metadata": {},
   "source": [
    "## Unidades de medida.\n",
    "\n",
    "Una de las grandes fortalezas de *CSS3* consiste a que es posible definir reglas para diversos medios en los que se desplegará la información, incluyendo monitores, pantallas, impresoras e incluso dispositivos para personas con cierta discapacidad.\n",
    "\n",
    "\n",
    "### Unidades de magnitud.\n",
    "\n",
    "\n",
    "* Pixeles (```px```) es la medida por defecto para definir distancias o tamaños y esta unidad se refiere a una cantidad de pixeles.\n",
    "\n",
    "* Unidades métricas:\n",
    "    * ```cm``` para centímetros.\n",
    "    * ```mm``` para milímetros.\n",
    "    * ```in``` para pulgadas.\n",
    "\n",
    "*  Unidades de impresión:\n",
    "    * ```pt``` para puntos.\n",
    "    * ```pc``` para picas.\n",
    "\n",
    "Las unidades métrica y de impresión dependen de las especificaciones del medio en el que se despliega el contenido."
   ]
  },
  {
   "cell_type": "markdown",
   "metadata": {},
   "source": [
    "**Ejemplo:**"
   ]
  },
  {
   "cell_type": "code",
   "execution_count": null,
   "metadata": {},
   "outputs": [],
   "source": [
    "%%html\n",
    "<div class=\"contenedor\">Hola\n",
    "    <div id=\"ejemplo_4-1\">Hola</div>\n",
    "</div>"
   ]
  },
  {
   "cell_type": "code",
   "execution_count": null,
   "metadata": {},
   "outputs": [],
   "source": [
    "%%html\n",
    "<style>\n",
    "    #ejemplo_4-1 {\n",
    "        width: 1cm;\n",
    "        height: 25.4mm;\n",
    "        background-color: aliceblue;\n",
    "    }\n",
    "</style>"
   ]
  },
  {
   "cell_type": "code",
   "execution_count": null,
   "metadata": {},
   "outputs": [],
   "source": [
    "%%html\n",
    "<style>\n",
    "    #ejemplo_4-1 {\n",
    "        width: 15pt;\n",
    "        height: 5pc;\n",
    "        background-color: aliceblue;\n",
    "    }\n",
    "</style>"
   ]
  },
  {
   "cell_type": "markdown",
   "metadata": {},
   "source": [
    "### Unidades relativas.\n",
    "\n",
    "#### La unidad ```em```.\n",
    "\n",
    "Esta unidad se aplica primordialmente a fuentes tipográficas.\n",
    "\n",
    "La unidad ```em``` hace referencia a las dimensiones del caracter ```m``` del elemento superior al elemento al que se le apicará una regla usando estas unidades. \n",
    "\n",
    "```1em``` implica que el tamaño de la fuente del elemento y la del elemento superior son iguales."
   ]
  },
  {
   "cell_type": "markdown",
   "metadata": {},
   "source": [
    "**Ejemplo:**"
   ]
  },
  {
   "cell_type": "code",
   "execution_count": null,
   "metadata": {
    "scrolled": true
   },
   "outputs": [],
   "source": [
    "%%html\n",
    "<div class=\"contenedor\">Hola\n",
    "    <div id=\"ejemplo_4-2\">Adios</div>\n",
    "</div>"
   ]
  },
  {
   "cell_type": "code",
   "execution_count": null,
   "metadata": {},
   "outputs": [],
   "source": [
    "%%html\n",
    "<style>\n",
    "    #ejemplo_4-2 {\n",
    "        width: 100px;\n",
    "        height:100px;\n",
    "        background-color: aliceblue;\n",
    "        font-size: 2em;\n",
    "    }\n",
    "</style>"
   ]
  },
  {
   "cell_type": "markdown",
   "metadata": {},
   "source": [
    "#### Porcentajes ```%```.\n",
    "\n",
    "Al usar procentajes, los valores se calculan como la porporcion correspondiente del elemento superior.\n",
    "\n",
    "Estas unidades permiten que el contenido se ajuste a las dimensiones del medio en el que se despliega el contenido."
   ]
  },
  {
   "cell_type": "markdown",
   "metadata": {},
   "source": [
    "**Ejemplo:**"
   ]
  },
  {
   "cell_type": "code",
   "execution_count": null,
   "metadata": {},
   "outputs": [],
   "source": [
    "%%html\n",
    "<div class=\"contenedor\">Hola\n",
    "    <div id=\"ejemplo_4-3\">Hola</div>\n",
    "</div>"
   ]
  },
  {
   "cell_type": "code",
   "execution_count": null,
   "metadata": {},
   "outputs": [],
   "source": [
    "%%html\n",
    "<style>\n",
    "    #ejemplo_4-3 {\n",
    "        width: 25%;\n",
    "        height:50%;\n",
    "        background-color: aliceblue;\n",
    "        font-size: 100%;\n",
    "    }\n",
    "</style>"
   ]
  },
  {
   "cell_type": "markdown",
   "metadata": {},
   "source": [
    "### Cálculo automático.\n",
    "\n",
    "En muchos casos, es posible indiocarle al navegador que calcule las dimensiones de un elemento de forma automática. Para ello se utiliza ```auto```."
   ]
  },
  {
   "cell_type": "markdown",
   "metadata": {},
   "source": [
    "**Ejemplo:**"
   ]
  },
  {
   "cell_type": "code",
   "execution_count": null,
   "metadata": {},
   "outputs": [],
   "source": [
    "%%html\n",
    "<div class=\"contenedor\">Hola\n",
    "    <div id=\"ejemplo_4-4\">Hola</div>\n",
    "</div>"
   ]
  },
  {
   "cell_type": "code",
   "execution_count": null,
   "metadata": {},
   "outputs": [],
   "source": [
    "%%html\n",
    "<style>\n",
    "    #ejemplo_4-4 {\n",
    "        width: 30%;\n",
    "        height: 30%;\n",
    "        margin-left: auto;\n",
    "        background-color: aliceblue;\n",
    "        font-size: 100%;\n",
    "    }\n",
    "</style>"
   ]
  },
  {
   "cell_type": "code",
   "execution_count": null,
   "metadata": {},
   "outputs": [],
   "source": [
    "%%html\n",
    "<style>\n",
    "    #ejemplo_4-4 {\n",
    "        margin-right: auto;\n",
    "    }\n",
    "</style>"
   ]
  },
  {
   "cell_type": "markdown",
   "metadata": {},
   "source": [
    "## Definición de colores.\n",
    "\n",
    "Se aplican principalmente en:\n",
    "* ```color```.\n",
    "* ```background-color```.\n",
    "* ```border-color```.\n",
    "\n",
    "El sitio de selector de colores de *w3schools.com* es una excelente referencia, la cual puede ser consultada en https://www.w3schools.com/colors/colors_picker.asp"
   ]
  },
  {
   "cell_type": "markdown",
   "metadata": {},
   "source": [
    "\n",
    "### Código hexadecimal.\n",
    "\n",
    " El código hexadecimal no es otra cosa que la combinación de los números *RGB* (*Red, Green, Blue*), ordenados en pares hexadecimales.\n",
    "\n",
    "Por ejemplo, el color negro (```black```), corresponde a ```#000000``` y el color blanco (```white```), corresponde a ```FFFFFF```."
   ]
  },
  {
   "cell_type": "markdown",
   "metadata": {},
   "source": [
    "### Colores por nombres.\n",
    "\n",
    " La especificación HTML5 identifica varios colores por nombre.  La lista de éstos puede ser consultada desde https://www.w3schools.com/tags/ref_colornames.asp"
   ]
  },
  {
   "cell_type": "markdown",
   "metadata": {},
   "source": [
    "### Funciones de color.\n",
    "\n",
    "*CSS3* cuenta con algunas funciones que permiten ajustar los colores de un elemento de forma muy específica.\n",
    "\n",
    "* [```rgb()```](https://www.w3schools.com/cssref/func_rgb.asp)\n",
    "* [```rgba()```](https://www.w3schools.com/cssref/func_rgba.asp)\n",
    "* [```hsl()```](https://www.w3schools.com/cssref/func_hsl.asp)\n",
    "* [```hsla()```](https://www.w3schools.com/cssref/func_hsla.asp)"
   ]
  },
  {
   "cell_type": "markdown",
   "metadata": {},
   "source": [
    "**Ejemplo:**"
   ]
  },
  {
   "cell_type": "code",
   "execution_count": null,
   "metadata": {
    "scrolled": true
   },
   "outputs": [],
   "source": [
    "%%html\n",
    "<div class=\"contenedor\" id=\"ejemplo_4-5\">Hola\n",
    "    <div id=\"ejemplo_4-6\">Hola</div>\n",
    "</div>"
   ]
  },
  {
   "cell_type": "code",
   "execution_count": null,
   "metadata": {},
   "outputs": [],
   "source": [
    "%%html\n",
    "<style>\n",
    "    #ejemplo_4-5 {\n",
    "        background-color: #ffe6e6;\n",
    "        color: red;\n",
    "    }\n",
    "    #ejemplo_4-6 {\n",
    "        background-color: hsl(240, 100%, 30%);\n",
    "        color: rgb(0, 153, 255);\n",
    "    }\n",
    "</style>"
   ]
  },
  {
   "cell_type": "markdown",
   "metadata": {},
   "source": [
    "## Tipos de de líneas."
   ]
  },
  {
   "cell_type": "markdown",
   "metadata": {},
   "source": [
    "###  Grosor (```width```): \n",
    "\n",
    "Además de las medidas en ```px``` y ```em``` se pueden utilizar.\n",
    "* ```thin```.\n",
    "* ```medium```. \n",
    "* ```thick```."
   ]
  },
  {
   "cell_type": "markdown",
   "metadata": {},
   "source": [
    "### Estilos de línea (```style```):\n",
    "* ```solid```, para una línea sólida.\n",
    "* ```dotted```, para líneas punteadas.\n",
    "* ```dashed```, para un estilo de línea segmentada.\n",
    "* ```double```, para líneas dobles.\n",
    "* ```hidden```, para líneas que no se ven, pero tienen un ancho definido.\n",
    "* ```none```, sin líneas.\n",
    "* ```groove```, ```ridge```, ```inset``` y ```outset``` son líneas con efectos 3D."
   ]
  },
  {
   "cell_type": "markdown",
   "metadata": {},
   "source": [
    "**Ejemplo:**"
   ]
  },
  {
   "cell_type": "code",
   "execution_count": null,
   "metadata": {
    "scrolled": true
   },
   "outputs": [],
   "source": [
    "%%html\n",
    "<div class=\"contenedor\" id=\"ejemplo_4-7\">Hola\n",
    "    <div id=\"ejemplo_4-8\">Hola</div>\n",
    "</div>"
   ]
  },
  {
   "cell_type": "code",
   "execution_count": null,
   "metadata": {},
   "outputs": [],
   "source": [
    "%%html\n",
    "<style>\n",
    "    #ejemplo_4-7 {\n",
    "        border-style: double;\n",
    "        border-color: green;\n",
    "        border-width: medium;\n",
    "    }\n",
    "    #ejemplo_4-8 {\n",
    "        border-style: groove;\n",
    "        border-color: red;\n",
    "        border-width: thick;\n",
    "    }\n",
    "</style>"
   ]
  },
  {
   "cell_type": "markdown",
   "metadata": {},
   "source": [
    "<p style=\"text-align: center\"><a rel=\"license\" href=\"http://creativecommons.org/licenses/by/4.0/\"><img alt=\"Licencia Creative Commons\" style=\"border-width:0\" src=\"https://i.creativecommons.org/l/by/4.0/80x15.png\" /></a><br />Esta obra está bajo una <a rel=\"license\" href=\"http://creativecommons.org/licenses/by/4.0/\">Licencia Creative Commons Atribución 4.0 Internacional</a>.</p>\n",
    "<p style=\"text-align: center\">&copy; José Luis Chiquete Valdivieso. 2019.</p>"
   ]
  }
 ],
 "metadata": {
  "kernelspec": {
   "display_name": "Python 3",
   "language": "python",
   "name": "python3"
  },
  "language_info": {
   "codemirror_mode": {
    "name": "ipython",
    "version": 3
   },
   "file_extension": ".py",
   "mimetype": "text/x-python",
   "name": "python",
   "nbconvert_exporter": "python",
   "pygments_lexer": "ipython3",
   "version": "3.7.3"
  }
 },
 "nbformat": 4,
 "nbformat_minor": 2
}
