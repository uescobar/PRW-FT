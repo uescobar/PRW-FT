{
 "cells": [
  {
   "cell_type": "markdown",
   "metadata": {},
   "source": [
    "[![imagenes/pythonista.png](imagenes/pythonista.png)](https://pythonista.io)"
   ]
  },
  {
   "cell_type": "markdown",
   "metadata": {},
   "source": [
    "# Propiedades del fondo."
   ]
  },
  {
   "cell_type": "markdown",
   "metadata": {},
   "source": [
    "## Imágenes de fondo.\n",
    "\n",
    "CSS permite utilizar imágenes como fondo de un elemento."
   ]
  },
  {
   "cell_type": "markdown",
   "metadata": {},
   "source": [
    "### Selección de imagen.\n",
    "\n",
    "Para designar una imagen como fondo de un elemento se utiliza la propiedad *background-image* con la siguiente sintaxis:\n",
    "\n",
    "```\n",
    "background-image: url(\"(URL de la imagen)\");\n",
    "```\n"
   ]
  },
  {
   "cell_type": "code",
   "execution_count": null,
   "metadata": {},
   "outputs": [],
   "source": [
    "%%html\n",
    "<div id=\"ejemplo_9-1\"></div>"
   ]
  },
  {
   "cell_type": "code",
   "execution_count": null,
   "metadata": {},
   "outputs": [],
   "source": [
    "%%html\n",
    "<style>\n",
    "    #ejemplo_9-1 {\n",
    "        width: 100px;\n",
    "        height:100px;\n",
    "        background-image: url(\"imagenes/cafetera-chica.png\")\n",
    "        }\n",
    "</style>"
   ]
  },
  {
   "cell_type": "markdown",
   "metadata": {},
   "source": [
    "### Repetición de la imagen de fondo.\n",
    "\n",
    "\n",
    "Para indicar la forma en la que imagen se repite en el fondo se utiliza la propiedad ```background-repeat``` con los siguiente valores:\n",
    "\n",
    "* ```repeat``` se repite vertical y horizontalmente.\n",
    "* ```repeat-x``` se repite horizontalmente.\n",
    "* ```repeat-y```  se repite verticalmente.\n",
    "* ```no-repeat``` no se repite.\n",
    "\n"
   ]
  },
  {
   "cell_type": "code",
   "execution_count": null,
   "metadata": {},
   "outputs": [],
   "source": [
    "%%html\n",
    "<div id=\"ejemplo_9-2\"></div>"
   ]
  },
  {
   "cell_type": "code",
   "execution_count": null,
   "metadata": {},
   "outputs": [],
   "source": [
    "%%html\n",
    "<style>\n",
    "    #ejemplo_9-2 {\n",
    "        background-color: azure;\n",
    "        width: 300px;\n",
    "        height:300px;\n",
    "        background-image: url(\"imagenes/cafetera-chica.png\");\n",
    "        background-repeat: repeat-x;\n",
    "        }\n",
    "</style>"
   ]
  },
  {
   "cell_type": "code",
   "execution_count": null,
   "metadata": {},
   "outputs": [],
   "source": [
    "%%html\n",
    "<style>\n",
    "    #ejemplo_9-2 {\n",
    "        background-repeat: repeat-y;\n",
    "        }\n",
    "</style>"
   ]
  },
  {
   "cell_type": "code",
   "execution_count": null,
   "metadata": {},
   "outputs": [],
   "source": [
    "%%html\n",
    "<style>\n",
    "    #ejemplo_9-2 {\n",
    "        background-repeat: no-repeat;\n",
    "        }\n",
    "</style>"
   ]
  },
  {
   "cell_type": "code",
   "execution_count": null,
   "metadata": {},
   "outputs": [],
   "source": [
    "%%html\n",
    "<style>\n",
    "    #ejemplo_9-2 {\n",
    "        background-repeat: repeat;\n",
    "        }\n",
    "</style>"
   ]
  },
  {
   "cell_type": "markdown",
   "metadata": {},
   "source": [
    "## Tamaño de la imagen.\n",
    "\n",
    "La propiedad ```background-size``` permite definir el tamaño de una imagen utilizando las unidades conocidas o los siguientes valores.\n",
    "\n",
    "* ```auto```\n",
    "* ```length```.\n",
    "* ```contain```.\n",
    "* ```cover```.\n",
    "* ```percentage```."
   ]
  },
  {
   "cell_type": "code",
   "execution_count": null,
   "metadata": {},
   "outputs": [],
   "source": [
    "%%html\n",
    "<style>\n",
    "    #ejemplo_9-3 {\n",
    "        background-color: azure;\n",
    "        width: 100px;\n",
    "        height:100px;\n",
    "        background-image: url(\"imagenes/cafetera-chica.png\");\n",
    "        background-size: 150px; \n",
    "        }\n",
    "</style>"
   ]
  },
  {
   "cell_type": "code",
   "execution_count": null,
   "metadata": {
    "scrolled": true
   },
   "outputs": [],
   "source": [
    "%%html\n",
    "<div id=\"ejemplo_9-3\"></div>"
   ]
  },
  {
   "cell_type": "code",
   "execution_count": null,
   "metadata": {},
   "outputs": [],
   "source": [
    "%%html\n",
    "<style>\n",
    "    #ejemplo_9-3 {background-size: cover}\n",
    "</style>"
   ]
  },
  {
   "cell_type": "code",
   "execution_count": null,
   "metadata": {},
   "outputs": [],
   "source": [
    "%%html\n",
    "<style>\n",
    "    #ejemplo_9-3 {background-size: contain}\n",
    "</style>"
   ]
  },
  {
   "cell_type": "code",
   "execution_count": null,
   "metadata": {},
   "outputs": [],
   "source": [
    "%%html\n",
    "<style>\n",
    "    #ejemplo_9-3 {background-size: 50px}\n",
    "</style>"
   ]
  },
  {
   "cell_type": "code",
   "execution_count": null,
   "metadata": {},
   "outputs": [],
   "source": [
    "%%html\n",
    "<style>\n",
    "    #ejemplo_9-3 {background-size: 50% 50%}\n",
    "</style>"
   ]
  },
  {
   "cell_type": "markdown",
   "metadata": {},
   "source": [
    "### Posición de la imagen de fondo.\n",
    "\n",
    "La propiedad ```background-position``` permite indicar la posición en la que se situará la imagen. Además de las unidades conocidas tales como ```px``` y los procentajes es posible utilizar los siguientes valores.\n",
    "\n",
    "* ```left top```\n",
    "* ```left center```\n",
    "* ```left bottom```\n",
    "* ```center top```\n",
    "* ```center center```\n",
    "* ```center bottom```\n",
    "* ```right top```\n",
    "* ```right center```\n",
    "* ```right bottom```\n"
   ]
  },
  {
   "cell_type": "code",
   "execution_count": null,
   "metadata": {},
   "outputs": [],
   "source": [
    "%%html\n",
    "<div id=\"ejemplo_9-4\">\n",
    "Lorem ipsum dolor sit amet consectetur adipiscing elit est ultrices eu sociosqu, \n",
    "justo sagittis imperdiet eros fermentum rutrum vehicula inceptos facilisi vestibulum \n",
    "metus, ridiculus ornare potenti blandit massa mattis feugiat cubilia posuere neque. \n",
    "Congue urna mauris dictumst cubilia torquent curabitur integer mollis, turpis porttitor \n",
    "duis non montes orci rutrum nam tempus, ultricies tempor cras massa gravida molestie \n",
    "lectus. Cursus non euismod lacus litora dui a sodales nisl, accumsan consequat molestie \n",
    "maecenas senectus vulputate ad fusce, curae pellentesque eros cubilia hac tempor rutrum. \n",
    "Ultrices mauris nunc faucibus egestas at morbi tempor, mi vulputate urna quam rutrum \n",
    "elementum, ut volutpat curae laoreet dis vivamus. Torquent nec consequat dictumst \n",
    "parturient facilisi nullam turpis purus nascetur, malesuada accumsan himenaeos a magnis \n",
    "tortor fermentum et, potenti augue natoque orci egestas molestie felis justo. \n",
    "Placerat sollicitudin sagittis felis condimentum nam augue nascetur, neque curabitur \n",
    "diam porttitor fringilla justo, erat montes fames elementum pulvinar mi.\n",
    "</div>"
   ]
  },
  {
   "cell_type": "code",
   "execution_count": null,
   "metadata": {},
   "outputs": [],
   "source": [
    "%%html\n",
    "<style>\n",
    "    #ejemplo_9-4 {\n",
    "        width: 300px;\n",
    "        height: 300px;\n",
    "        overflow: scroll;\n",
    "        background-image: url(\"imagenes/cafetera-chica.png\");\n",
    "        background-repeat: no-repeat;\n",
    "        background-position: center center;\n",
    "    }    \n",
    "</style>"
   ]
  },
  {
   "cell_type": "markdown",
   "metadata": {},
   "source": [
    "## Origen de la imagen de fondo.\n",
    "\n",
    "\n",
    "La propiedad ```background-origin``` permite indicar el punto de origen a partir del cual se desplegará la imagen del fondo.\n",
    "\n",
    "* ```content-box```\n",
    "* ```margin-box```\n",
    "* ```padding-box```"
   ]
  },
  {
   "cell_type": "code",
   "execution_count": null,
   "metadata": {},
   "outputs": [],
   "source": [
    "%%html\n",
    "<style>\n",
    "    #ejemplo_9-5a {\n",
    "        width: 250px;\n",
    "        height: 250px;\n",
    "        background-color: gold;\n",
    "    }   \n",
    "    \n",
    "    #ejemplo_9-5b {\n",
    "        width: 200px;\n",
    "        height: 200px;\n",
    "        background-color: azure;\n",
    "        background-image: url(\"imagenes/cafetera-chica.png\");\n",
    "        background-size: cover;\n",
    "        margin: 25px 25px 25px 25px;\n",
    "        padding: 25px 25px 25px 25px;\n",
    "        border: 25px transparent blue;\n",
    "        overflow: scroll;\n",
    "    }    \n",
    "</style>\n",
    "\n",
    "<div id=\"ejemplo_9-5a\">\n",
    "    <div id=\"ejemplo_9-5b\">Lorem ipsum dolor sit amet consectetur adipiscing elit est ultrices eu sociosqu, \n",
    "justo sagittis imperdiet eros fermentum rutrum vehicula inceptos facilisi vestibulum \n",
    "metus, ridiculus ornare potenti blandit massa mattis feugiat cubilia posuere neque.</div>"
   ]
  },
  {
   "cell_type": "code",
   "execution_count": null,
   "metadata": {},
   "outputs": [],
   "source": [
    "%%html\n",
    "<style>\n",
    "    #ejemplo_9-5b {background-origin: content-box}\n",
    "</style>"
   ]
  },
  {
   "cell_type": "code",
   "execution_count": null,
   "metadata": {},
   "outputs": [],
   "source": [
    "%%html\n",
    "<style>\n",
    "    #ejemplo_9-5a {background-origin: border-box}\n",
    "</style>"
   ]
  },
  {
   "cell_type": "code",
   "execution_count": null,
   "metadata": {},
   "outputs": [],
   "source": [
    "%%html\n",
    "<style>\n",
    "    #ejemplo_9-5b {background-origin: padding-box}\n",
    "</style>"
   ]
  },
  {
   "cell_type": "markdown",
   "metadata": {},
   "source": [
    "### Fijado de la imagen.\n",
    "\n",
    "Para indicar la forma en la que una imagen de fondo permanecerá o no  en la misma posición de la pantalla se utiliza ```background-attachment``` con los siguientes valores:\n",
    "\n",
    "* ```fixed``` lo que hace que la imagen se quede fija en el fondo.\n",
    "* ```scroll``` lo que hace que la imagen suba o baje junto con el resto de los elementos de la página."
   ]
  },
  {
   "cell_type": "code",
   "execution_count": null,
   "metadata": {},
   "outputs": [],
   "source": [
    "%%html\n",
    "<style>\n",
    "    body {\n",
    "        background-image: url(\"imagenes/cafetera-chica.png\");\n",
    "        background-position: right center;\n",
    "        background-repeat: no-repeat;\n",
    "        background-attachment: fixed;\n",
    "    }\n",
    "    \n",
    "</style>"
   ]
  },
  {
   "cell_type": "code",
   "execution_count": null,
   "metadata": {},
   "outputs": [],
   "source": [
    "%%html\n",
    "<style>\n",
    "    body {\n",
    "        background-image: url(\"imagenes/cafetera-chica.png\");\n",
    "        background-position: right bottom;\n",
    "        background-repeat: no-repeat;\n",
    "        background-attachment: fixed;\n",
    "    }\n",
    "    \n",
    "</style>"
   ]
  },
  {
   "cell_type": "markdown",
   "metadata": {},
   "source": [
    "<p style=\"text-align: center\"><a rel=\"license\" href=\"http://creativecommons.org/licenses/by/4.0/\"><img alt=\"Licencia Creative Commons\" style=\"border-width:0\" src=\"https://i.creativecommons.org/l/by/4.0/80x15.png\" /></a><br />Esta obra está bajo una <a rel=\"license\" href=\"http://creativecommons.org/licenses/by/4.0/\">Licencia Creative Commons Atribución 4.0 Internacional</a>.</p>\n",
    "<p style=\"text-align: center\">&copy; José Luis Chiquete Valdivieso. 2019.</p>"
   ]
  }
 ],
 "metadata": {
  "kernelspec": {
   "display_name": "Python 3",
   "language": "python",
   "name": "python3"
  },
  "language_info": {
   "codemirror_mode": {
    "name": "ipython",
    "version": 3
   },
   "file_extension": ".py",
   "mimetype": "text/x-python",
   "name": "python",
   "nbconvert_exporter": "python",
   "pygments_lexer": "ipython3",
   "version": "3.7.3"
  }
 },
 "nbformat": 4,
 "nbformat_minor": 2
}
