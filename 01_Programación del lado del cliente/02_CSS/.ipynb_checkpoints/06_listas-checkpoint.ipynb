{
 "cells": [
  {
   "cell_type": "markdown",
   "metadata": {},
   "source": [
    "[![imagenes/pythonista.png](imagenes/pythonista.png)](https://pythonista.io)"
   ]
  },
  {
   "cell_type": "markdown",
   "metadata": {},
   "source": [
    "# Listas."
   ]
  },
  {
   "cell_type": "markdown",
   "metadata": {},
   "source": [
    "## Tipo de \"balazo para listas no ordenadas.\n",
    "\n",
    "Para definir el tipo de \"balazo\" o marcador se utiliza ```list-style-type``` con los siguientes valores:\n",
    "* ```none```\n",
    "* ```disc```\n",
    "* ```disc```\n",
    "* ```circle``` \n",
    "* ```square```"
   ]
  },
  {
   "cell_type": "code",
   "execution_count": null,
   "metadata": {},
   "outputs": [],
   "source": [
    "%%html \n",
    "<ul id=\"ejemplo_6-1\">\n",
    "    <li>leche</li>\n",
    "    <li>pan</li>\n",
    "    <li>huevos</li>\n",
    "</ul>    "
   ]
  },
  {
   "cell_type": "code",
   "execution_count": null,
   "metadata": {},
   "outputs": [],
   "source": [
    "%%html \n",
    "<style>\n",
    "    #ejemplo_6-1 {\n",
    "        list-style-type: none;\n",
    "    }"
   ]
  },
  {
   "cell_type": "code",
   "execution_count": null,
   "metadata": {},
   "outputs": [],
   "source": [
    "%%html \n",
    "<style>\n",
    "    #ejemplo_6-1 {\n",
    "        list-style-type: square;\n",
    "    }"
   ]
  },
  {
   "cell_type": "markdown",
   "metadata": {},
   "source": [
    "## Listas ordenadas.\n",
    "\n",
    "Para definir el tipo de numerador también se utiliza ```list-style-type```. Esta propiedad cuenta con una amplia de opciones de numeración las cuales peuden ser consultadas en https://www.w3schools.com/CSSref/pr_list-style-type.asp. \n",
    "\n",
    "Los valores más comunes son los siguientes:\n",
    "\n",
    "* ```decimal```\n",
    "* ```decimal-leading-zero```\n",
    "* ```lower-alpha```\n",
    "* ```upper-alpha```\n",
    "* ```lower-roman```\n",
    "* ```upper-roman```\n",
    "* ```none```\n",
    "* ```disc```\n",
    "* ```circle``` \n",
    "* ```square```` "
   ]
  },
  {
   "cell_type": "code",
   "execution_count": null,
   "metadata": {},
   "outputs": [],
   "source": [
    "%%html \n",
    "<ol id=\"ejemplo_6-2\">\n",
    "    <li>leche<br>(no olvidar que es deslactosada).</li>\n",
    "    <li>pan</li>\n",
    "    <li>huevos</li>\n",
    "</ol>  "
   ]
  },
  {
   "cell_type": "code",
   "execution_count": null,
   "metadata": {},
   "outputs": [],
   "source": [
    "%%html \n",
    "<style>\n",
    "    #ejemplo_6-2 {\n",
    "        list-style-type: decimal-leading-zero;\n",
    "    }"
   ]
  },
  {
   "cell_type": "code",
   "execution_count": null,
   "metadata": {},
   "outputs": [],
   "source": [
    "%%html \n",
    "<style>\n",
    "    #ejemplo_6-2 {\n",
    "        list-style-type: lower-roman;\n",
    "    }"
   ]
  },
  {
   "cell_type": "code",
   "execution_count": null,
   "metadata": {},
   "outputs": [],
   "source": [
    "%%html \n",
    "<style>\n",
    "    #ejemplo_6-2 {\n",
    "        list-style-type: disc;\n",
    "    }"
   ]
  },
  {
   "cell_type": "markdown",
   "metadata": {},
   "source": [
    "## imágenes en los \"balazos\".\n",
    "\n",
    "Es posible utilizar imágenes que sustituyan a los caracteres clásicos de los balazos mediante la propiedad *list-style-image*, usánmdola del siguiente modo:\n",
    "\n",
    "```\n",
    "list-style-image: url(\"(URL de la imagen)\");\n",
    "```"
   ]
  },
  {
   "cell_type": "code",
   "execution_count": null,
   "metadata": {},
   "outputs": [],
   "source": [
    "%%html \n",
    "<ol id=\"ejemplo_6-3\">\n",
    "    <li>leche</li>\n",
    "    <li>pan</li>\n",
    "    <li>huevos</li>\n",
    "</ol>  "
   ]
  },
  {
   "cell_type": "code",
   "execution_count": null,
   "metadata": {},
   "outputs": [],
   "source": [
    "%%html \n",
    "<style>\n",
    "    #ejemplo_6-3 {\n",
    "        list-style-image: url(\"imagenes/loguito.png\");\n",
    "    }"
   ]
  },
  {
   "cell_type": "markdown",
   "metadata": {},
   "source": [
    "## Posición de los \"balazos\" en la línea de texto.\n",
    "\n",
    "Para definir si hay una indentación del párrafo con respecto al balazo de una lista se uitliza la propiedad ```list-style-position``` con los siguientes valores:\n",
    "\n",
    "* ```outside``` este es el valor por defecto e indica que el texto posterior a la primera línea del elemento ```<li>``` no puede ponerse debajo del balazo (se indentan). \n",
    "* ```inside``` para indicar que el texto posterior a la primera línea del elemento ```<li>``` puede ponerse debajo del balazo (no se indentan). "
   ]
  },
  {
   "cell_type": "code",
   "execution_count": null,
   "metadata": {},
   "outputs": [],
   "source": [
    "%%html \n",
    "<ol id=\"ejemplo_6-4\">\n",
    "    <li>Este es el ejemplo de un elemento de lista.<br/>\n",
    "    La segunda línea puede ponerse en una posición específica antes o después del balazo.</li>\n",
    "</ol>  "
   ]
  },
  {
   "cell_type": "code",
   "execution_count": null,
   "metadata": {},
   "outputs": [],
   "source": [
    "%%html \n",
    "<style>\n",
    "    #ejemplo_6-4 {\n",
    "        list-style-position: outside;\n",
    "    }"
   ]
  },
  {
   "cell_type": "markdown",
   "metadata": {},
   "source": [
    "<p style=\"text-align: center\"><a rel=\"license\" href=\"http://creativecommons.org/licenses/by/4.0/\"><img alt=\"Licencia Creative Commons\" style=\"border-width:0\" src=\"https://i.creativecommons.org/l/by/4.0/80x15.png\" /></a><br />Esta obra está bajo una <a rel=\"license\" href=\"http://creativecommons.org/licenses/by/4.0/\">Licencia Creative Commons Atribución 4.0 Internacional</a>.</p>\n",
    "<p style=\"text-align: center\">&copy; José Luis Chiquete Valdivieso. 2019.</p>"
   ]
  }
 ],
 "metadata": {
  "kernelspec": {
   "display_name": "Python 3",
   "language": "python",
   "name": "python3"
  },
  "language_info": {
   "codemirror_mode": {
    "name": "ipython",
    "version": 3
   },
   "file_extension": ".py",
   "mimetype": "text/x-python",
   "name": "python",
   "nbconvert_exporter": "python",
   "pygments_lexer": "ipython3",
   "version": "3.7.3"
  }
 },
 "nbformat": 4,
 "nbformat_minor": 2
}
