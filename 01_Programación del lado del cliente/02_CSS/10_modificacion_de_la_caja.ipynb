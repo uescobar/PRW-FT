{
 "cells": [
  {
   "cell_type": "markdown",
   "metadata": {},
   "source": [
    "[![imagenes/pythonista.png](imagenes/pythonista.png)](https://pythonista.io)"
   ]
  },
  {
   "cell_type": "markdown",
   "metadata": {},
   "source": [
    "# Propiedades que modifican al modelo de caja."
   ]
  },
  {
   "cell_type": "markdown",
   "metadata": {},
   "source": [
    "## Definición de límites de tamaño.\n",
    "\n",
    "El uso de medidas en función de proprociones tales como los porcentajes plantea un problema cuando el resultado en un elmento demasido pequeño o demasiado grande. Es por eso por lo que las hojas de estilo permiten definir límites específicos para el tamaño de un elemento utilizando las siguientes propiedades:\n",
    "\n",
    "* ```min-width```.\n",
    "* ```min-height```.\n",
    "* ```max-width```.\n",
    "* ```max height```.\n",
    "\n",
    "Al definir estas propiedades es posible fijar tamaños máximos y mínimos de un elemento que se sobreponen a ```width```y ```height```."
   ]
  },
  {
   "cell_type": "code",
   "execution_count": null,
   "metadata": {},
   "outputs": [],
   "source": [
    "%%html\n",
    "<div id=\"ejemplo_10-1a\">\n",
    "    <div id=\"ejemplo_10-1b\"></div>\n",
    "</div>"
   ]
  },
  {
   "cell_type": "code",
   "execution_count": null,
   "metadata": {},
   "outputs": [],
   "source": [
    "%%html\n",
    "<style>\n",
    "    #ejemplo_10-1a {\n",
    "    width: 200px;\n",
    "    height: 200px;\n",
    "    background-color: lightyellow;\n",
    "    }\n",
    "    \n",
    "    #ejemplo_10-1b {\n",
    "    min-width: 75px;\n",
    "    min-height: 75px;\n",
    "    width: 50%;\n",
    "    heigth:50%;\n",
    "    background-color: lightblue;\n",
    "    }"
   ]
  },
  {
   "cell_type": "code",
   "execution_count": null,
   "metadata": {},
   "outputs": [],
   "source": [
    "%%html\n",
    "<style>\n",
    "    #ejemplo_10-1a {\n",
    "    width: 75px;\n",
    "    height: 75px;\n",
    "    }\n",
    "</style>"
   ]
  },
  {
   "cell_type": "code",
   "execution_count": null,
   "metadata": {},
   "outputs": [],
   "source": [
    "%%html\n",
    "<style>\n",
    "    #ejemplo_10-1a {\n",
    "    width: 100%;\n",
    "    height: 75px;\n",
    "    }\n",
    "    #ejemplo_10-1b {\n",
    "    min-width: 300px;\n",
    "    min-height: 300px;\n",
    "    }\n",
    "</style>"
   ]
  },
  {
   "cell_type": "code",
   "execution_count": null,
   "metadata": {},
   "outputs": [],
   "source": [
    "%%html\n",
    "<style>\n",
    "    body{\n",
    "        min-width: 600px;  \n",
    "    }"
   ]
  },
  {
   "cell_type": "markdown",
   "metadata": {},
   "source": [
    "### Diseño estático.\n",
    "\n",
    "Es una técnica que implica que las unidades que se utilzan son fijas, tales como:\n",
    "\n",
    "* *px*.\n",
    "* *pts*, *picas*.\n",
    "\n",
    "Nos permite crear diseños que siempre van a desplegarse igual.\n"
   ]
  },
  {
   "cell_type": "markdown",
   "metadata": {},
   "source": [
    "### Diseño líquido.\n",
    "\n",
    "Permite que las dimensiones de los contenidos se ajusten a las dimensiones de la ventana en la que se despliega el contenido.\n",
    "\n",
    "Es una técnica que implica utilizar unidades relativas tales como:\n",
    "\n",
    "* procentajes ```%```.\n",
    "* ```em```.\n",
    "\n",
    "Del mismo modo, permite definir dimensiones límite con los prefijos:\n",
    "\n",
    "* ```max```.\n",
    "* ```min```.\n",
    "\n",
    "E incluso es posible indicar al navegador que calcule la dimensión óptima con:\n",
    "* ```auto```."
   ]
  },
  {
   "cell_type": "markdown",
   "metadata": {},
   "source": [
    "## Imágenes de borde."
   ]
  },
  {
   "cell_type": "markdown",
   "metadata": {},
   "source": [
    "### La propiedad ```border-image```.\n",
    "\n",
    "\n",
    "```\n",
    "boder-image url(<ruta de imagen>) <procentaje de ancho> <repetición>.\n",
    "```"
   ]
  },
  {
   "cell_type": "markdown",
   "metadata": {},
   "source": [
    "### La propiedad ```border-image-source```.\n",
    "\n",
    "Esta propiedad define la localización de la imagen."
   ]
  },
  {
   "cell_type": "markdown",
   "metadata": {},
   "source": [
    "### La propiedad ```border-image-repeat```.\n",
    "\n",
    "Esta propiedad define la forma en la que se repetirá a imagen.\n",
    "\n",
    "* ```stretch```\n",
    "* ```repeat```\n",
    "* ```round```\n",
    "* ```space```"
   ]
  },
  {
   "cell_type": "markdown",
   "metadata": {},
   "source": [
    "### La propiedad ```border-image-width```.\n",
    "\n",
    "Esta propiedad defime el ancho de la imagen."
   ]
  },
  {
   "cell_type": "markdown",
   "metadata": {},
   "source": [
    "### La propiedad ```border-image-slice```.\n",
    "\n",
    "Define la manera el como será dividida la imagen en relacion a un porcentaje."
   ]
  },
  {
   "cell_type": "code",
   "execution_count": null,
   "metadata": {},
   "outputs": [],
   "source": [
    "%%html\n",
    "<div id=\"ejemplo_10-2\">\n",
    "\n",
    "</div>"
   ]
  },
  {
   "cell_type": "code",
   "execution_count": null,
   "metadata": {},
   "outputs": [],
   "source": [
    "%%html\n",
    "<style>\n",
    "    #ejemplo_10-2 {\n",
    "    width: 300px;\n",
    "    height:300px;\n",
    "    border: 40px solid transparent;\n",
    "    paddig:15px;\n",
    "    background-color: lightyellow;\n",
    "    border-image: url(imagenes/borde.png) 25 round;\n",
    "    }\n",
    "</style>"
   ]
  },
  {
   "cell_type": "code",
   "execution_count": null,
   "metadata": {},
   "outputs": [],
   "source": [
    "%%html\n",
    "<style>\n",
    "    #ejemplo_10-2 {border-image-repeat: round}\n",
    "</style>"
   ]
  },
  {
   "cell_type": "markdown",
   "metadata": {},
   "source": [
    "## El atributo ```border-radius```.\n",
    "\n",
    "Este atributo permite redondear las esquinas de un elemento HTML a partir de un radio."
   ]
  },
  {
   "cell_type": "code",
   "execution_count": null,
   "metadata": {},
   "outputs": [],
   "source": [
    "%%html\n",
    "<div id=\"ejemplo_10-3\">\n",
    "</div>"
   ]
  },
  {
   "cell_type": "code",
   "execution_count": null,
   "metadata": {},
   "outputs": [],
   "source": [
    "%%html\n",
    "<style>\n",
    "    #ejemplo_10-3 {\n",
    "    width: 300px;\n",
    "    height:300px;\n",
    "    border: 5px solid blue;\n",
    "    border-radius: 25px;\n",
    "    padding: 20px;\n",
    "    background-color: lightyellow;\n",
    "    }\n",
    "</style>"
   ]
  },
  {
   "cell_type": "code",
   "execution_count": null,
   "metadata": {},
   "outputs": [],
   "source": [
    "%%html\n",
    "<style>\n",
    "    #ejemplo_10-3 {border-radius: 150px}\n",
    "</style>"
   ]
  },
  {
   "cell_type": "markdown",
   "metadata": {},
   "source": [
    "## La propiedad ```filter```.\n",
    "\n",
    "Esta porpiedad permite aplicarle al fondo de un  elemento ciertas funciones que modifican el color.\n",
    "\n",
    "* ```blur()``` en ```px```.\n",
    "* ```contrast()``` en porcentaje.\n",
    "* ```brightness()``` en porcentaje.\n",
    "* ```drop-shadow()``` horizontal vertical blur extendido color.\n",
    "* ```grayscale()``` en procentaje.\n",
    "* ```hue-rotate()``` en grados.\n",
    "* ```invert()``` en procentaje.\n",
    "* ```opacity()``` en procentaje.\n",
    "* ```saturtate()```  en procentaje.\n",
    "* ```sepia()``` en procentaje.\n"
   ]
  },
  {
   "cell_type": "code",
   "execution_count": null,
   "metadata": {},
   "outputs": [],
   "source": [
    "%%html\n",
    "<div id=\"ejemplo_10-4\">\n",
    "<h1>Hola amigos del mundo.</h1></div>"
   ]
  },
  {
   "cell_type": "code",
   "execution_count": null,
   "metadata": {},
   "outputs": [],
   "source": [
    "%%html\n",
    "<style>\n",
    "    #ejemplo_10-4 {\n",
    "    width: 300px;\n",
    "    height:300px;\n",
    "    border: 5px solid blue;\n",
    "    background-image: url(\"imagenes/cafetera-chica.png\");\n",
    "    background-repeat: no-repeat;\n",
    "    filter: contrast(20%);\n",
    "    }\n",
    "</style>"
   ]
  },
  {
   "cell_type": "markdown",
   "metadata": {},
   "source": [
    "## La propiedad ```box-shadow```."
   ]
  },
  {
   "cell_type": "code",
   "execution_count": null,
   "metadata": {},
   "outputs": [],
   "source": [
    "%%html\n",
    "<div id=\"ejemplo_10-5\">Hola</div>"
   ]
  },
  {
   "cell_type": "code",
   "execution_count": null,
   "metadata": {},
   "outputs": [],
   "source": [
    "%%html\n",
    "<style>\n",
    "    #ejemplo_10-5 {\n",
    "    width: 100px;\n",
    "    height:100px;\n",
    "    border-radius: 20px;\n",
    "    border: 5px solid blue;\n",
    "    box-shadow: 15px 15px 5px red;\n",
    "    }\n",
    "</style>"
   ]
  },
  {
   "cell_type": "markdown",
   "metadata": {},
   "source": [
    "## La propiedad ```opacity```.\n",
    "\n",
    "Esta propiedad permite definir el gradode transparencia de un elemento."
   ]
  },
  {
   "cell_type": "code",
   "execution_count": null,
   "metadata": {},
   "outputs": [],
   "source": [
    "%%html\n",
    "<div id=\"ejemplo_10-6a\">\n",
    "    <div id=\"ejemplo_10-6b\"></div>\n",
    "</div>"
   ]
  },
  {
   "cell_type": "code",
   "execution_count": null,
   "metadata": {},
   "outputs": [],
   "source": [
    "%%html\n",
    "<style>\n",
    "    #ejemplo_10-6a {\n",
    "        width: 200px;\n",
    "        height:200px;\n",
    "        background-color: blue;\n",
    "    }\n",
    "\n",
    "    #ejemplo_10-6b {\n",
    "        width: 100px;\n",
    "        height:100px;\n",
    "        background-image: url(\"imagenes/cafetera-chica.png\");\n",
    "        background-image-size: cover;\n",
    "        border-radius: 20px;\n",
    "        border: 5px solid blue;\n",
    "        opacity: 0;\n",
    "    }\n",
    "</style>"
   ]
  },
  {
   "cell_type": "markdown",
   "metadata": {},
   "source": [
    "<p style=\"text-align: center\"><a rel=\"license\" href=\"http://creativecommons.org/licenses/by/4.0/\"><img alt=\"Licencia Creative Commons\" style=\"border-width:0\" src=\"https://i.creativecommons.org/l/by/4.0/80x15.png\" /></a><br />Esta obra está bajo una <a rel=\"license\" href=\"http://creativecommons.org/licenses/by/4.0/\">Licencia Creative Commons Atribución 4.0 Internacional</a>.</p>\n",
    "<p style=\"text-align: center\">&copy; José Luis Chiquete Valdivieso. 2019.</p>"
   ]
  }
 ],
 "metadata": {
  "kernelspec": {
   "display_name": "Python 3",
   "language": "python",
   "name": "python3"
  },
  "language_info": {
   "codemirror_mode": {
    "name": "ipython",
    "version": 3
   },
   "file_extension": ".py",
   "mimetype": "text/x-python",
   "name": "python",
   "nbconvert_exporter": "python",
   "pygments_lexer": "ipython3",
   "version": "3.7.3"
  }
 },
 "nbformat": 4,
 "nbformat_minor": 2
}
