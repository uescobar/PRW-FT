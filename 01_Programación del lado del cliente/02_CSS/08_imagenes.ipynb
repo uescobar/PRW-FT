{
 "cells": [
  {
   "cell_type": "markdown",
   "metadata": {},
   "source": [
    "[![imagenes/pythonista.png](imagenes/pythonista.png)](https://pythonista.io)"
   ]
  },
  {
   "cell_type": "markdown",
   "metadata": {},
   "source": [
    "# Imágenes ```<img>```. "
   ]
  },
  {
   "cell_type": "markdown",
   "metadata": {},
   "source": [
    "Las imágenes, al igual que todos los elementos de *HTML* se basan en el modelo de caja, por lo que todas las propiedades de tamaño, posición y alineación aplican de igual manera.\n"
   ]
  },
  {
   "cell_type": "code",
   "execution_count": null,
   "metadata": {},
   "outputs": [],
   "source": [
    "%%html\n",
    "<img src=\"imagenes/cafetera-chica.png\">"
   ]
  },
  {
   "cell_type": "markdown",
   "metadata": {},
   "source": [
    "## La propiedad ```object-fit```.\n",
    "\n",
    "* ```fill```\n",
    "* ```contain```\n",
    "* ```cover```\n",
    "* ```scale-down```\n",
    "* ```none```"
   ]
  },
  {
   "cell_type": "code",
   "execution_count": 31,
   "metadata": {
    "scrolled": true
   },
   "outputs": [
    {
     "data": {
      "text/html": [
       "<img id=\"ejemplo_8-1\" src=\"imagenes/cafetera-chica.png\">\n"
      ],
      "text/plain": [
       "<IPython.core.display.HTML object>"
      ]
     },
     "metadata": {},
     "output_type": "display_data"
    }
   ],
   "source": [
    "%%html\n",
    "<img id=\"ejemplo_8-1\" src=\"imagenes/cafetera-chica.png\">"
   ]
  },
  {
   "cell_type": "code",
   "execution_count": 32,
   "metadata": {},
   "outputs": [
    {
     "data": {
      "text/html": [
       "<style>\n",
       "    #ejemplo_8-1 {\n",
       "    width: 100px;\n",
       "    height: 100px;\n",
       "    background-color:grey;\n",
       "    object-fit: scale-down;\n",
       "    }\n",
       "</stye>\n"
      ],
      "text/plain": [
       "<IPython.core.display.HTML object>"
      ]
     },
     "metadata": {},
     "output_type": "display_data"
    }
   ],
   "source": [
    "%%html\n",
    "<style>\n",
    "    #ejemplo_8-1 {\n",
    "    width: 100px;\n",
    "    height: 100px;\n",
    "    background-color:grey;\n",
    "    object-fit: scale-down;\n",
    "    }\n",
    "</stye>"
   ]
  },
  {
   "cell_type": "code",
   "execution_count": 33,
   "metadata": {},
   "outputs": [
    {
     "data": {
      "text/html": [
       "<style>\n",
       "    #ejemplo_8-1 {\n",
       "    object-fit: cover;\n",
       "    }\n",
       "</stye>\n"
      ],
      "text/plain": [
       "<IPython.core.display.HTML object>"
      ]
     },
     "metadata": {},
     "output_type": "display_data"
    }
   ],
   "source": [
    "%%html\n",
    "<style>\n",
    "    #ejemplo_8-1 {\n",
    "    object-fit: cover;\n",
    "    }\n",
    "</stye>"
   ]
  },
  {
   "cell_type": "code",
   "execution_count": 34,
   "metadata": {},
   "outputs": [
    {
     "data": {
      "text/html": [
       "<style>\n",
       "    #ejemplo_8-1 {\n",
       "    object-fit: fill;\n",
       "    }\n",
       "</stye>\n"
      ],
      "text/plain": [
       "<IPython.core.display.HTML object>"
      ]
     },
     "metadata": {},
     "output_type": "display_data"
    }
   ],
   "source": [
    "%%html\n",
    "<style>\n",
    "    #ejemplo_8-1 {\n",
    "    object-fit: fill;\n",
    "    }\n",
    "</stye>"
   ]
  },
  {
   "cell_type": "code",
   "execution_count": 35,
   "metadata": {},
   "outputs": [
    {
     "data": {
      "text/html": [
       "<style>\n",
       "    #ejemplo_8-1 {\n",
       "    object-fit: contain;\n",
       "    }\n",
       "</stye>\n"
      ],
      "text/plain": [
       "<IPython.core.display.HTML object>"
      ]
     },
     "metadata": {},
     "output_type": "display_data"
    }
   ],
   "source": [
    "%%html\n",
    "<style>\n",
    "    #ejemplo_8-1 {\n",
    "    object-fit: contain;\n",
    "    }\n",
    "</stye>"
   ]
  },
  {
   "cell_type": "markdown",
   "metadata": {},
   "source": [
    "## El atributo ```object-position``` .\n",
    "\n"
   ]
  },
  {
   "cell_type": "code",
   "execution_count": 36,
   "metadata": {},
   "outputs": [
    {
     "data": {
      "text/html": [
       "<img id=\"ejemplo_8-2\" src=\"imagenes/cafetera-chica.png\">\n"
      ],
      "text/plain": [
       "<IPython.core.display.HTML object>"
      ]
     },
     "metadata": {},
     "output_type": "display_data"
    }
   ],
   "source": [
    "%%html\n",
    "<img id=\"ejemplo_8-2\" src=\"imagenes/cafetera-chica.png\">"
   ]
  },
  {
   "cell_type": "code",
   "execution_count": 43,
   "metadata": {},
   "outputs": [
    {
     "data": {
      "text/html": [
       "<style>\n",
       "    #ejemplo_8-2 {\n",
       "    width: 100px;\n",
       "    height: 100px;\n",
       "    background-color:grey;\n",
       "    object-fit: none;\n",
       "    object-position: 10px 10px;\n",
       "    }\n",
       "</stye>\n"
      ],
      "text/plain": [
       "<IPython.core.display.HTML object>"
      ]
     },
     "metadata": {},
     "output_type": "display_data"
    }
   ],
   "source": [
    "%%html\n",
    "<style>\n",
    "    #ejemplo_8-2 {\n",
    "    width: 100px;\n",
    "    height: 100px;\n",
    "    background-color:grey;\n",
    "    object-fit: none;\n",
    "    object-position: 10px 10px;\n",
    "    }\n",
    "</stye>"
   ]
  },
  {
   "cell_type": "code",
   "execution_count": 44,
   "metadata": {},
   "outputs": [
    {
     "data": {
      "text/html": [
       "<style>\n",
       "    #ejemplo_8-2 {\n",
       "    object-position: -60px -30px;\n",
       "    }\n",
       "</stye>\n"
      ],
      "text/plain": [
       "<IPython.core.display.HTML object>"
      ]
     },
     "metadata": {},
     "output_type": "display_data"
    }
   ],
   "source": [
    "%%html\n",
    "<style>\n",
    "    #ejemplo_8-2 {\n",
    "    object-position: -60px -30px;\n",
    "    }\n",
    "</stye>"
   ]
  },
  {
   "cell_type": "markdown",
   "metadata": {},
   "source": [
    "<p style=\"text-align: center\"><a rel=\"license\" href=\"http://creativecommons.org/licenses/by/4.0/\"><img alt=\"Licencia Creative Commons\" style=\"border-width:0\" src=\"https://i.creativecommons.org/l/by/4.0/80x15.png\" /></a><br />Esta obra está bajo una <a rel=\"license\" href=\"http://creativecommons.org/licenses/by/4.0/\">Licencia Creative Commons Atribución 4.0 Internacional</a>.</p>\n",
    "<p style=\"text-align: center\">&copy; José Luis Chiquete Valdivieso. 2019.</p>"
   ]
  }
 ],
 "metadata": {
  "kernelspec": {
   "display_name": "Python 3",
   "language": "python",
   "name": "python3"
  },
  "language_info": {
   "codemirror_mode": {
    "name": "ipython",
    "version": 3
   },
   "file_extension": ".py",
   "mimetype": "text/x-python",
   "name": "python",
   "nbconvert_exporter": "python",
   "pygments_lexer": "ipython3",
   "version": "3.7.3"
  }
 },
 "nbformat": 4,
 "nbformat_minor": 2
}
