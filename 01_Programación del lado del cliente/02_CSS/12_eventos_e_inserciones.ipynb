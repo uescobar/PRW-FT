{
 "cells": [
  {
   "cell_type": "markdown",
   "metadata": {},
   "source": [
    "[![imagenes/pythonista.png](imagenes/pythonista.png)](https://pythonista.io)"
   ]
  },
  {
   "cell_type": "markdown",
   "metadata": {},
   "source": [
    "# Eventos e inserciones.\n",
    "\n",
    "Los eventos representan interacciones que se realizan sobre cierto elemento dentro de la ventana de un navegador  mediante un dispositivo apuntador tales como el ratón o las pantallas táctiles."
   ]
  },
  {
   "cell_type": "markdown",
   "metadata": {},
   "source": [
    "## Pseudoclases.\n",
    "\n",
    "*CSS* permite el uso de \"pseudoclases\", las cuales se utilizan para definir ciertas condiciones particulares en un selector."
   ]
  },
  {
   "cell_type": "markdown",
   "metadata": {},
   "source": [
    "## La pseudoclase ```:hover ```.\n",
    "\n",
    "Este selector se activa cuando el puntero se coloca encima de un elemento.\n",
    "\n",
    "* ```:hover```."
   ]
  },
  {
   "cell_type": "code",
   "execution_count": null,
   "metadata": {},
   "outputs": [],
   "source": [
    "%%html\n",
    "<style>\n",
    "#ejemplo_11-1{\n",
    "    width: 50px;\n",
    "    height: 50px;\n",
    "    background-color: blue;\n",
    "}\n",
    "#ejemplo_11-1:hover{\n",
    "    width: 60px;\n",
    "    height: 60px;\n",
    "    filter: drop-shadow(6px 6px 20px blue);\n",
    "}\n",
    "</style>\n",
    "\n",
    "<div id=\"ejemplo_11-1\"></div>"
   ]
  },
  {
   "cell_type": "markdown",
   "metadata": {},
   "source": [
    "## Pseudoclases  para enlaces.\n",
    "\n",
    "Las siguientes pseudoclases se utilizan en elementos tipo ```<a>``` denotando si un hiperenlace fue visitado previamente o no.\n",
    "\n",
    "* ```:link``` para las ligas que no han sido seleccionadas.\n",
    "* ```:visited``` para las ligas visitadas.\n",
    "* ```:active``` para cuando una liga es activada."
   ]
  },
  {
   "cell_type": "code",
   "execution_count": null,
   "metadata": {},
   "outputs": [],
   "source": [
    "%%html\n",
    "<a id=\"ejemplo_11-2\" href=\"https://pythonista.io/cursos/541\">Pythonista</a>"
   ]
  },
  {
   "cell_type": "code",
   "execution_count": null,
   "metadata": {},
   "outputs": [],
   "source": [
    "%%html\n",
    "<style>\n",
    "#ejemplo_11-2:link {\n",
    "    color: black;\n",
    "    background-color: skyblue;\n",
    "    text-shadow(1px 1px 5px blue);\n",
    "}\n",
    "#ejemplo_11-2:visited{\n",
    "    color: white;\n",
    "}\n",
    "#ejemplo_11-2:active{\n",
    "    color: yellow;\n",
    "}\n",
    "\n",
    "</style>"
   ]
  },
  {
   "cell_type": "markdown",
   "metadata": {},
   "source": [
    "## La pseudoclase ```:target```.\n",
    "\n",
    "Esta pseudoclase se utiliza para definir las propiedades de un elemento al que se accede mediante una hipernelace dentro del mismo documento *HTML*.     "
   ]
  },
  {
   "cell_type": "code",
   "execution_count": null,
   "metadata": {},
   "outputs": [],
   "source": [
    "%%html\n",
    "<a href=\"#Eventos-e-inserciones.\"> Enlace al principio del documento.</a><br/>\n",
    "<a href=\"#Pseudoclases--para-enlaces.\">Selectores para enlaces.</a>"
   ]
  },
  {
   "cell_type": "code",
   "execution_count": null,
   "metadata": {},
   "outputs": [],
   "source": [
    "%%html\n",
    "<style>\n",
    "    :target{\n",
    "        background-color: green;\n",
    "    }\n",
    "</style>"
   ]
  },
  {
   "cell_type": "markdown",
   "metadata": {},
   "source": [
    "## Pseudoclases de inserción de contenido.\n",
    "\n",
    "Estas pseudoclases permiten insertar contenido antes o después de un elemento que coincida con el selector afectado.\n",
    "\n",
    "* ```::before``` inserta el contenido antes del elemento.\n",
    "* ```::after```  inserta el contenido antes del elemento.\n",
    "\n",
    "### La propiedad ```content```.\n",
    "\n",
    "Para añadir contenido de texto mediante ```::before``` y ```::after``` se utiliza la propiedad ```content```.\n",
    "\n",
    "```\n",
    "content = \"<texto>\";\n",
    "```"
   ]
  },
  {
   "cell_type": "code",
   "execution_count": null,
   "metadata": {},
   "outputs": [],
   "source": [
    "%%html\n",
    "<div id=\"ejemplo_11-3\"> \n",
    "<p>Lorem ipsum dolor sit amet, consectetur adipiscing elit.</p>\n",
    "<p>Sed do eiusmod tempor incididunt ut labore et dolore magna aliqua.</p>\n",
    "<ul>\n",
    "    <li>Ut enim ad minim veniam, quis nostrud exercitation ullamco laboris nisi ut aliquip ex ea commodo consequat.</li>\n",
    "    <li>Duis aute irure dolor in reprehenderit in voluptate velit esse cillum dolore eu fugiat nulla pariatur.</li>\n",
    "    <li>Excepteur sint occaecat cupidatat non proident, sunt in culpa qui officia deserunt mollit anim id est laborum.</li>\n",
    "</ul>"
   ]
  },
  {
   "cell_type": "code",
   "execution_count": null,
   "metadata": {},
   "outputs": [],
   "source": [
    "%%html\n",
    "<style>\n",
    "    #ejemplo_11-3 li::before {\n",
    "    color: red;\n",
    "    content: \"inicio de lista \";\n",
    "}\n",
    "    #ejemplo_11-3 p::after {\n",
    "    color: blue;\n",
    "    content: \" fin de párrafo.\";\n",
    "        }\n",
    "    #ejemplo_11-3 p::before {\n",
    "    background-color: yellow;\n",
    "    content: \"ADVERTENCIA \";   \n",
    "        }\n",
    "</style>"
   ]
  },
  {
   "cell_type": "markdown",
   "metadata": {},
   "source": [
    "## La propiedad ```pointer-events```.\n",
    "\n",
    "Esta propiedad activa o desactiva los eventos del apuntador.\n",
    "\n",
    "* ```auto```.\n",
    "* ```none```."
   ]
  },
  {
   "cell_type": "code",
   "execution_count": null,
   "metadata": {},
   "outputs": [],
   "source": [
    "%%html\n",
    "<a id=\"ejemplo_11-4\" href=\"https://cloudevel.com\">Cloudevel</a>"
   ]
  },
  {
   "cell_type": "code",
   "execution_count": null,
   "metadata": {},
   "outputs": [],
   "source": [
    "%%html\n",
    "<style>\n",
    "    #ejemplo_11-4{\n",
    "    pointer-events: none;\n",
    "    }\n",
    "</style>"
   ]
  },
  {
   "cell_type": "markdown",
   "metadata": {},
   "source": [
    "## La propiedad ```user-select```.\n",
    "\n",
    "Esta propiedad habilita o deshabilita la selección de segmentos de una página.\n",
    "\n",
    "* ```auto```\n",
    "* ```text```\n",
    "* ```all```\n",
    "* ```none```"
   ]
  },
  {
   "cell_type": "code",
   "execution_count": null,
   "metadata": {},
   "outputs": [],
   "source": [
    "%%html\n",
    "<p id=\"ejemplo_11-5\">Lorem ipsum dolor sit amet, consectetur adipiscing elit, \n",
    "sed do eiusmod tempor incididunt ut labore et dolore magna aliqua. Ut enim ad minim veniam, \n",
    "quis nostrud exercitation ullamco laboris nisi ut aliquip ex ea commodo consequat. \n",
    "Duis aute irure dolor in reprehenderit in voluptate velit esse cillum dolore eu fugiat \n",
    "nulla pariatur. Excepteur sint occaecat cupidatat non proident, sunt in culpa qui officia \n",
    "deserunt mollit anim id est laborum.</p>"
   ]
  },
  {
   "cell_type": "code",
   "execution_count": null,
   "metadata": {},
   "outputs": [],
   "source": [
    "%%html\n",
    "<style>\n",
    "    #ejemplo_11-5 {\n",
    "        user-select: none;\n",
    "        -moz-user-select: none;\n",
    "    }\n",
    "</style>"
   ]
  },
  {
   "cell_type": "markdown",
   "metadata": {},
   "source": [
    "## La propiedad ```cursor```.\n",
    "\n",
    "Esta propiedad permite definir el tipo de cursor que se despliega cuando el apuntador se coloca sobre el elemento.\n",
    "\n",
    "La lista de cursores disponibles es bastante extensa y puede ser consultada en https://www.w3schools.com/cssref/pr_class_cursor.asp"
   ]
  },
  {
   "cell_type": "code",
   "execution_count": null,
   "metadata": {},
   "outputs": [],
   "source": [
    "%%html\n",
    "<p id=\"ejemplo_11-6\">Lorem ipsum dolor sit amet, consectetur adipiscing elit, \n",
    "sed do eiusmod tempor incididunt ut labore et dolore magna aliqua. Ut enim ad minim veniam, \n",
    "quis nostrud exercitation ullamco laboris nisi ut aliquip ex ea commodo consequat. \n",
    "Duis aute irure dolor in reprehenderit in voluptate velit esse cillum dolore eu fugiat \n",
    "nulla pariatur. Excepteur sint occaecat cupidatat non proident, sunt in culpa qui officia \n",
    "deserunt mollit anim id est laborum.</p>"
   ]
  },
  {
   "cell_type": "code",
   "execution_count": null,
   "metadata": {},
   "outputs": [],
   "source": [
    "%%html\n",
    "<style>\n",
    "    #ejemplo_11-6 {cursor: crosshair}\n",
    "</style>"
   ]
  },
  {
   "cell_type": "code",
   "execution_count": null,
   "metadata": {},
   "outputs": [],
   "source": [
    "%%html\n",
    "<style>\n",
    "    #ejemplo_11-6 {cursor: progress}\n",
    "</style>"
   ]
  },
  {
   "cell_type": "code",
   "execution_count": null,
   "metadata": {},
   "outputs": [],
   "source": [
    "%%html\n",
    "<style>\n",
    "    #ejemplo_11-6 {cursor: nesw-resize}\n",
    "</style>"
   ]
  },
  {
   "cell_type": "code",
   "execution_count": null,
   "metadata": {},
   "outputs": [],
   "source": [
    "%%html\n",
    "<style>\n",
    "    #ejemplo_11-6 {cursor: default}\n",
    "</style>"
   ]
  },
  {
   "cell_type": "code",
   "execution_count": null,
   "metadata": {},
   "outputs": [],
   "source": [
    "%%html\n",
    "<style>\n",
    "    #ejemplo_11-6 {\n",
    "    cursor: not-allowed;\n",
    "    -moz-user-select: none;\n",
    "        }\n",
    "</style>"
   ]
  },
  {
   "cell_type": "markdown",
   "metadata": {},
   "source": [
    "<p style=\"text-align: center\"><a rel=\"license\" href=\"http://creativecommons.org/licenses/by/4.0/\"><img alt=\"Licencia Creative Commons\" style=\"border-width:0\" src=\"https://i.creativecommons.org/l/by/4.0/80x15.png\" /></a><br />Esta obra está bajo una <a rel=\"license\" href=\"http://creativecommons.org/licenses/by/4.0/\">Licencia Creative Commons Atribución 4.0 Internacional</a>.</p>\n",
    "<p style=\"text-align: center\">&copy; José Luis Chiquete Valdivieso. 2019.</p>"
   ]
  }
 ],
 "metadata": {
  "kernelspec": {
   "display_name": "Python 3",
   "language": "python",
   "name": "python3"
  },
  "language_info": {
   "codemirror_mode": {
    "name": "ipython",
    "version": 3
   },
   "file_extension": ".py",
   "mimetype": "text/x-python",
   "name": "python",
   "nbconvert_exporter": "python",
   "pygments_lexer": "ipython3",
   "version": "3.6.5"
  }
 },
 "nbformat": 4,
 "nbformat_minor": 2
}
