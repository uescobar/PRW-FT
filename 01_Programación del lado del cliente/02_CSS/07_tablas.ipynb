{
 "cells": [
  {
   "cell_type": "markdown",
   "metadata": {},
   "source": [
    "[![imagenes/pythonista.png](imagenes/pythonista.png)](https://pythonista.io)"
   ]
  },
  {
   "cell_type": "markdown",
   "metadata": {},
   "source": [
    "# Tablas."
   ]
  },
  {
   "cell_type": "markdown",
   "metadata": {},
   "source": [
    "## Propiedades de las tablas.\n",
    "\n",
    "Todos los elementos de las tablas siguen el modelo de caja y las propiedades de texto anteriormente discutidas. Sin embargo poseen las siguientes propiedades adicionales."
   ]
  },
  {
   "cell_type": "code",
   "execution_count": 1,
   "metadata": {
    "scrolled": true
   },
   "outputs": [
    {
     "data": {
      "text/html": [
       "<style>\n",
       "    table, thead, th{\n",
       "        background-color: azure;\n",
       "        border: 2px solid black;\n",
       "    }\n",
       "    td  {\n",
       "         border: 2px solid double;\n",
       "    }\n",
       "</style>\n"
      ],
      "text/plain": [
       "<IPython.core.display.HTML object>"
      ]
     },
     "metadata": {},
     "output_type": "display_data"
    }
   ],
   "source": [
    "%%html\n",
    "<style>\n",
    "    table, thead, th{\n",
    "        background-color: azure;\n",
    "        border: 2px solid black;\n",
    "    }\n",
    "    td  {\n",
    "         border: 2px solid double;\n",
    "    }\n",
    "</style>"
   ]
  },
  {
   "cell_type": "code",
   "execution_count": 3,
   "metadata": {
    "scrolled": true
   },
   "outputs": [
    {
     "data": {
      "text/html": [
       "<table>\n",
       "    <thead>\n",
       "        <th/><th>Primera</th><th>Segunda</th><th>Tercera</th>\n",
       "    </thead>\n",
       "    <tbody>\n",
       "        <tr>\n",
       "            <th>A</th><td>1</td><td colspan=\"2\">2</td>\n",
       "        </tr>\n",
       "        <tr>\n",
       "            <th>B</th><td>3</td><td>4</td>><td>5</td>\n",
       "        </tr>\n",
       "        <tr>\n",
       "            <th>B</th><td>6</td>\n",
       "        </tr>\n",
       "        <tr>\n",
       "            <th>B</th><td>7</td><td>8</td>\n",
       "        </tr>\n",
       "    </tbody>\n",
       "</table>\n"
      ],
      "text/plain": [
       "<IPython.core.display.HTML object>"
      ]
     },
     "metadata": {},
     "output_type": "display_data"
    }
   ],
   "source": [
    "%%html\n",
    "<table>\n",
    "    <thead>\n",
    "        <th/><th>Primera</th><th>Segunda</th><th>Tercera</th>\n",
    "    </thead>\n",
    "    <tbody>\n",
    "        <tr>\n",
    "            <th>A</th><td>1</td><td colspan=\"2\">2</td>\n",
    "        </tr>\n",
    "        <tr>\n",
    "            <th>B</th><td>3</td><td>4</td>><td>5</td>\n",
    "        </tr>\n",
    "        <tr>\n",
    "            <th>B</th><td>6</td>\n",
    "        </tr>\n",
    "        <tr>\n",
    "            <th>B</th><td>7</td><td>8</td>\n",
    "        </tr>\n",
    "    </tbody>\n",
    "</table>"
   ]
  },
  {
   "cell_type": "markdown",
   "metadata": {},
   "source": [
    "### Mostrar bordes en celdas vacías.\n",
    "\n",
    "Para definir si las celdas vacías presentan bordes se utiliza la propiedad ```empty-cells``` con los siguientes valores:\n",
    "\n",
    "* ```show``` que permite que se vean los bordes.\n",
    "* ```hide``` que esconde los bordes."
   ]
  },
  {
   "cell_type": "code",
   "execution_count": 4,
   "metadata": {
    "scrolled": true
   },
   "outputs": [
    {
     "data": {
      "text/html": [
       "<table id=\"ejemplo_7-2\">\n",
       "    <thead>\n",
       "        <th/><th>Primera</th><th>Segunda</th><th>Tercera</th>\n",
       "    </thead>\n",
       "    <tbody>\n",
       "        <tr>\n",
       "            <th>A</th><td>1</td><td colspan=\"2\">2</td>\n",
       "        </tr>\n",
       "        <tr>\n",
       "            <th>B</th><td>3</td><td>4</td>><td>5</td>\n",
       "        </tr>\n",
       "        <tr>\n",
       "            <th>B</th><td>5</td><td>6</td>><td>7</td>\n",
       "        </tr>\n",
       "        <tr>\n",
       "            <th>B</th><td>6</td><td>7</td>>\n",
       "    </tbody>\n"
      ],
      "text/plain": [
       "<IPython.core.display.HTML object>"
      ]
     },
     "metadata": {},
     "output_type": "display_data"
    }
   ],
   "source": [
    "%%html\n",
    "<table id=\"ejemplo_7-2\">\n",
    "    <thead>\n",
    "        <th/><th>Primera</th><th>Segunda</th><th>Tercera</th>\n",
    "    </thead>\n",
    "    <tbody>\n",
    "        <tr>\n",
    "            <th>A</th><td>1</td><td colspan=\"2\">2</td>\n",
    "        </tr>\n",
    "        <tr>\n",
    "            <th>B</th><td>3</td><td>4</td>><td>5</td>\n",
    "        </tr>\n",
    "        <tr>\n",
    "            <th>B</th><td>5</td><td>6</td>><td>7</td>\n",
    "        </tr>\n",
    "        <tr>\n",
    "            <th>B</th><td>6</td><td>7</td>>\n",
    "    </tbody>"
   ]
  },
  {
   "cell_type": "code",
   "execution_count": 5,
   "metadata": {
    "scrolled": true
   },
   "outputs": [
    {
     "data": {
      "text/html": [
       "<style>\n",
       "    #ejemplo_7-2 {\n",
       "        empty-cells: hide;\n",
       "    }\n",
       "</style>\n"
      ],
      "text/plain": [
       "<IPython.core.display.HTML object>"
      ]
     },
     "metadata": {},
     "output_type": "display_data"
    }
   ],
   "source": [
    "%%html\n",
    "<style>\n",
    "    #ejemplo_7-2 {\n",
    "        empty-cells: hide;\n",
    "    }\n",
    "</style>"
   ]
  },
  {
   "cell_type": "code",
   "execution_count": 6,
   "metadata": {},
   "outputs": [
    {
     "data": {
      "text/html": [
       "<style>\n",
       "    #ejemplo_7-2 {\n",
       "        empty-cells: show;\n",
       "    }\n",
       "</style>\n"
      ],
      "text/plain": [
       "<IPython.core.display.HTML object>"
      ]
     },
     "metadata": {},
     "output_type": "display_data"
    }
   ],
   "source": [
    "%%html\n",
    "<style>\n",
    "    #ejemplo_7-2 {\n",
    "        empty-cells: show;\n",
    "    }\n",
    "</style>"
   ]
  },
  {
   "cell_type": "markdown",
   "metadata": {},
   "source": [
    "### Espaciamiento entre los bordes de una tabla.\n",
    "\n",
    "Siempre hay un pequeño espacio que separa los bordes de una celda con respecto a otra y para definir el espaciamiento o si debe haberlo se utilizan:\n",
    "\n",
    "* La propiedad ```border-spacing```, la cual define el espaciado de los bordes."
   ]
  },
  {
   "cell_type": "code",
   "execution_count": null,
   "metadata": {
    "scrolled": true
   },
   "outputs": [],
   "source": [
    "%%html\n",
    "<table id=\"ejemplo_7-3\">\n",
    "    <thead>\n",
    "        <th/><th>Primera</th><th>Segunda</th><th>Tercera</th>\n",
    "    </thead>\n",
    "    <tbody>\n",
    "        <tr>\n",
    "            <th>A</th><td>1</td><td colspan=\"2\">2</td>\n",
    "        </tr>\n",
    "        <tr>\n",
    "            <th>B</th><td>3</td><td>4</td>><td>5</td>\n",
    "        </tr>\n",
    "        <tr>\n",
    "            <th>B</th><td>5</td><td>6</td>><td>7</td>\n",
    "        </tr>\n",
    "        <tr>\n",
    "            <th>B</th><td>6</td><td>7</td>>\n",
    "    </tbody>"
   ]
  },
  {
   "cell_type": "code",
   "execution_count": null,
   "metadata": {},
   "outputs": [],
   "source": [
    "%%html\n",
    "<style>\n",
    "    #ejemplo_7-3 {\n",
    "        border-spacing: 20px;\n",
    "    }\n",
    "</style>"
   ]
  },
  {
   "cell_type": "markdown",
   "metadata": {},
   "source": [
    "* La propiedad ```border-collapse``` la cual indica si existe o no la separación entre los bordes mediante los siguientes valores.\n",
    "\n",
    "    * ```collapse```, indicando que no hay espacios entre bordes.\n",
    "    * ```separate```, indicando que sí hay espacios entre bordes."
   ]
  },
  {
   "cell_type": "markdown",
   "metadata": {},
   "source": [
    "<p style=\"text-align: center\"><a rel=\"license\" href=\"http://creativecommons.org/licenses/by/4.0/\"><img alt=\"Licencia Creative Commons\" style=\"border-width:0\" src=\"https://i.creativecommons.org/l/by/4.0/80x15.png\" /></a><br />Esta obra está bajo una <a rel=\"license\" href=\"http://creativecommons.org/licenses/by/4.0/\">Licencia Creative Commons Atribución 4.0 Internacional</a>.</p>\n",
    "<p style=\"text-align: center\">&copy; José Luis Chiquete Valdivieso. 2019.</p>"
   ]
  }
 ],
 "metadata": {
  "kernelspec": {
   "display_name": "Python 3",
   "language": "python",
   "name": "python3"
  },
  "language_info": {
   "codemirror_mode": {
    "name": "ipython",
    "version": 3
   },
   "file_extension": ".py",
   "mimetype": "text/x-python",
   "name": "python",
   "nbconvert_exporter": "python",
   "pygments_lexer": "ipython3",
   "version": "3.7.3"
  }
 },
 "nbformat": 4,
 "nbformat_minor": 2
}
